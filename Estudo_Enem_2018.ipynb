{
  "nbformat": 4,
  "nbformat_minor": 0,
  "metadata": {
    "kernelspec": {
      "display_name": "Python 3",
      "language": "python",
      "name": "python3"
    },
    "language_info": {
      "codemirror_mode": {
        "name": "ipython",
        "version": 3
      },
      "file_extension": ".py",
      "mimetype": "text/x-python",
      "name": "python",
      "nbconvert_exporter": "python",
      "pygments_lexer": "ipython3",
      "version": "3.7.3"
    },
    "colab": {
      "name": "Estudo_Enem_2018.ipynb",
      "provenance": [],
      "include_colab_link": true
    }
  },
  "cells": [
    {
      "cell_type": "markdown",
      "metadata": {
        "id": "view-in-github",
        "colab_type": "text"
      },
      "source": [
        "<a href=\"https://colab.research.google.com/github/Ftsnba/Data-Science/blob/master/Estudo_Enem_2018.ipynb\" target=\"_parent\"><img src=\"https://colab.research.google.com/assets/colab-badge.svg\" alt=\"Open In Colab\"/></a>"
      ]
    },
    {
      "cell_type": "code",
      "metadata": {
        "id": "oEBya1QlSiSc",
        "colab_type": "code",
        "colab": {}
      },
      "source": [
        "#Importando as bibliotecas\n",
        "import pandas as pd\n",
        "import scipy.stats as stats\n",
        "import matplotlib.pyplot as plt\n",
        "import seaborn as sns\n",
        "import statsmodels.api as sm"
      ],
      "execution_count": 0,
      "outputs": []
    },
    {
      "cell_type": "code",
      "metadata": {
        "id": "8v_UIrvvSiTA",
        "colab_type": "code",
        "colab": {}
      },
      "source": [
        "#Upload do arquivo\n",
        "df = pd.read_csv(r\"C:\\Users\\ftspu\\OneDrive\\Documentos\\Projeto_estatistica\\Base_Enem_Reduzida5.csv\", \n",
        "                 error_bad_lines=False, encoding=\"utf-8\")"
      ],
      "execution_count": 0,
      "outputs": []
    },
    {
      "cell_type": "code",
      "metadata": {
        "id": "gRmPYSaNSiUn",
        "colab_type": "code",
        "colab": {},
        "outputId": "05a3a249-146d-4248-9c8c-eca6f9cf0777"
      },
      "source": [
        "#Exibindo as 5 primeiras linhas\n",
        "df.head()"
      ],
      "execution_count": 0,
      "outputs": [
        {
          "output_type": "execute_result",
          "data": {
            "text/html": [
              "<div>\n",
              "<style scoped>\n",
              "    .dataframe tbody tr th:only-of-type {\n",
              "        vertical-align: middle;\n",
              "    }\n",
              "\n",
              "    .dataframe tbody tr th {\n",
              "        vertical-align: top;\n",
              "    }\n",
              "\n",
              "    .dataframe thead th {\n",
              "        text-align: right;\n",
              "    }\n",
              "</style>\n",
              "<table border=\"1\" class=\"dataframe\">\n",
              "  <thead>\n",
              "    <tr style=\"text-align: right;\">\n",
              "      <th></th>\n",
              "      <th>NO_MUNICIPIO_RESIDENCIA</th>\n",
              "      <th>SG_UF_RESIDENCIA</th>\n",
              "      <th>NU_IDADE</th>\n",
              "      <th>TP_SEXO</th>\n",
              "      <th>NU_NOTA_CN</th>\n",
              "      <th>NU_NOTA_CH</th>\n",
              "      <th>NU_NOTA_LC</th>\n",
              "      <th>NU_NOTA_MT</th>\n",
              "      <th>NU_NOTA_REDACAO</th>\n",
              "      <th>Escolaridade_Pai</th>\n",
              "      <th>Escolaridade_mae</th>\n",
              "      <th>Renda_Mensal</th>\n",
              "      <th>Possui_Computador</th>\n",
              "      <th>Acesso_Internet</th>\n",
              "      <th>Cor/Raça</th>\n",
              "      <th>Tipo_Escola</th>\n",
              "      <th>media_notas</th>\n",
              "    </tr>\n",
              "  </thead>\n",
              "  <tbody>\n",
              "    <tr>\n",
              "      <th>0</th>\n",
              "      <td>São João dos Patos</td>\n",
              "      <td>MA</td>\n",
              "      <td>23.0</td>\n",
              "      <td>F</td>\n",
              "      <td>521.0</td>\n",
              "      <td>568.7</td>\n",
              "      <td>513.1</td>\n",
              "      <td>480.3</td>\n",
              "      <td>280.0</td>\n",
              "      <td>Não completou a 4ª série/5º ano do Ensino Fund...</td>\n",
              "      <td>Não completou a 4ª série/5º ano do Ensino Fund...</td>\n",
              "      <td>Até R$ 954,00</td>\n",
              "      <td>Não</td>\n",
              "      <td>Não</td>\n",
              "      <td>Parda</td>\n",
              "      <td>Não Respondeu</td>\n",
              "      <td>472.62</td>\n",
              "    </tr>\n",
              "    <tr>\n",
              "      <th>1</th>\n",
              "      <td>João Pessoa</td>\n",
              "      <td>PB</td>\n",
              "      <td>23.0</td>\n",
              "      <td>F</td>\n",
              "      <td>461.8</td>\n",
              "      <td>564.0</td>\n",
              "      <td>466.8</td>\n",
              "      <td>538.8</td>\n",
              "      <td>580.0</td>\n",
              "      <td>Completou a 4ª série/5º ano, mas não completou...</td>\n",
              "      <td>Completou a 8ª série/9º ano do Ensino Fundamen...</td>\n",
              "      <td>Até R$ 954,00</td>\n",
              "      <td>Sim, um</td>\n",
              "      <td>Sim</td>\n",
              "      <td>Branca</td>\n",
              "      <td>Não Respondeu</td>\n",
              "      <td>522.28</td>\n",
              "    </tr>\n",
              "    <tr>\n",
              "      <th>2</th>\n",
              "      <td>Parnaíba</td>\n",
              "      <td>PI</td>\n",
              "      <td>39.0</td>\n",
              "      <td>M</td>\n",
              "      <td>499.3</td>\n",
              "      <td>663.2</td>\n",
              "      <td>605.2</td>\n",
              "      <td>733.8</td>\n",
              "      <td>680.0</td>\n",
              "      <td>Nunca estudou</td>\n",
              "      <td>Completou o Ensino Médio, mas não completou a ...</td>\n",
              "      <td>De R$ 3.816,01 até R$ 4.770,00</td>\n",
              "      <td>Sim, um</td>\n",
              "      <td>Sim</td>\n",
              "      <td>Parda</td>\n",
              "      <td>Não Respondeu</td>\n",
              "      <td>636.30</td>\n",
              "    </tr>\n",
              "    <tr>\n",
              "      <th>3</th>\n",
              "      <td>Fortaleza</td>\n",
              "      <td>CE</td>\n",
              "      <td>19.0</td>\n",
              "      <td>M</td>\n",
              "      <td>411.8</td>\n",
              "      <td>429.8</td>\n",
              "      <td>445.2</td>\n",
              "      <td>459.0</td>\n",
              "      <td>340.0</td>\n",
              "      <td>Completou a 8ª série/9º ano do Ensino Fundamen...</td>\n",
              "      <td>Completou a 8ª série/9º ano do Ensino Fundamen...</td>\n",
              "      <td>De R$ 954,01 até R$ 1.431,00</td>\n",
              "      <td>Não</td>\n",
              "      <td>Não</td>\n",
              "      <td>Parda</td>\n",
              "      <td>Pública</td>\n",
              "      <td>417.16</td>\n",
              "    </tr>\n",
              "    <tr>\n",
              "      <th>4</th>\n",
              "      <td>Cuiabá</td>\n",
              "      <td>MT</td>\n",
              "      <td>25.0</td>\n",
              "      <td>F</td>\n",
              "      <td>469.4</td>\n",
              "      <td>650.2</td>\n",
              "      <td>606.6</td>\n",
              "      <td>525.4</td>\n",
              "      <td>740.0</td>\n",
              "      <td>Completou a 4ª série/5º ano, mas não completou...</td>\n",
              "      <td>Completou a 4ª série/5º ano, mas não completou...</td>\n",
              "      <td>De R$ 954,01 até R$ 1.431,00</td>\n",
              "      <td>Não</td>\n",
              "      <td>Não</td>\n",
              "      <td>Parda</td>\n",
              "      <td>Não Respondeu</td>\n",
              "      <td>598.32</td>\n",
              "    </tr>\n",
              "  </tbody>\n",
              "</table>\n",
              "</div>"
            ],
            "text/plain": [
              "  NO_MUNICIPIO_RESIDENCIA SG_UF_RESIDENCIA  NU_IDADE TP_SEXO  NU_NOTA_CN  \\\n",
              "0      São João dos Patos               MA      23.0       F       521.0   \n",
              "1             João Pessoa               PB      23.0       F       461.8   \n",
              "2                Parnaíba               PI      39.0       M       499.3   \n",
              "3               Fortaleza               CE      19.0       M       411.8   \n",
              "4                  Cuiabá               MT      25.0       F       469.4   \n",
              "\n",
              "   NU_NOTA_CH  NU_NOTA_LC  NU_NOTA_MT  NU_NOTA_REDACAO  \\\n",
              "0       568.7       513.1       480.3            280.0   \n",
              "1       564.0       466.8       538.8            580.0   \n",
              "2       663.2       605.2       733.8            680.0   \n",
              "3       429.8       445.2       459.0            340.0   \n",
              "4       650.2       606.6       525.4            740.0   \n",
              "\n",
              "                                    Escolaridade_Pai  \\\n",
              "0  Não completou a 4ª série/5º ano do Ensino Fund...   \n",
              "1  Completou a 4ª série/5º ano, mas não completou...   \n",
              "2                                      Nunca estudou   \n",
              "3  Completou a 8ª série/9º ano do Ensino Fundamen...   \n",
              "4  Completou a 4ª série/5º ano, mas não completou...   \n",
              "\n",
              "                                    Escolaridade_mae  \\\n",
              "0  Não completou a 4ª série/5º ano do Ensino Fund...   \n",
              "1  Completou a 8ª série/9º ano do Ensino Fundamen...   \n",
              "2  Completou o Ensino Médio, mas não completou a ...   \n",
              "3  Completou a 8ª série/9º ano do Ensino Fundamen...   \n",
              "4  Completou a 4ª série/5º ano, mas não completou...   \n",
              "\n",
              "                     Renda_Mensal Possui_Computador Acesso_Internet Cor/Raça  \\\n",
              "0                   Até R$ 954,00               Não             Não    Parda   \n",
              "1                   Até R$ 954,00           Sim, um             Sim   Branca   \n",
              "2  De R$ 3.816,01 até R$ 4.770,00           Sim, um             Sim    Parda   \n",
              "3    De R$ 954,01 até R$ 1.431,00               Não             Não    Parda   \n",
              "4    De R$ 954,01 até R$ 1.431,00               Não             Não    Parda   \n",
              "\n",
              "     Tipo_Escola  media_notas  \n",
              "0  Não Respondeu       472.62  \n",
              "1  Não Respondeu       522.28  \n",
              "2  Não Respondeu       636.30  \n",
              "3        Pública       417.16  \n",
              "4  Não Respondeu       598.32  "
            ]
          },
          "metadata": {
            "tags": []
          },
          "execution_count": 12
        }
      ]
    },
    {
      "cell_type": "code",
      "metadata": {
        "id": "a-A1pDSnSiVV",
        "colab_type": "code",
        "colab": {},
        "outputId": "9eda8bef-2d8c-45b7-df23-825b04ee3bda"
      },
      "source": [
        "#Exibindo os tipos de dados e a informação referente a memória\n",
        "df.info()"
      ],
      "execution_count": 0,
      "outputs": [
        {
          "output_type": "stream",
          "text": [
            "<class 'pandas.core.frame.DataFrame'>\n",
            "RangeIndex: 3893671 entries, 0 to 3893670\n",
            "Data columns (total 16 columns):\n",
            "NO_MUNICIPIO_RESIDENCIA    object\n",
            "SG_UF_RESIDENCIA           object\n",
            "NU_IDADE                   int32\n",
            "TP_SEXO                    category\n",
            "NU_NOTA_CN                 float64\n",
            "NU_NOTA_CH                 float64\n",
            "NU_NOTA_LC                 float64\n",
            "NU_NOTA_MT                 float64\n",
            "NU_NOTA_REDACAO            float64\n",
            "Escolaridade_Pai           object\n",
            "Escolaridade_mae           object\n",
            "Renda_Mensal               object\n",
            "Possui_Computador          object\n",
            "Acesso_Internet            object\n",
            "Cor/Raça                   object\n",
            "Tipo_Escola                object\n",
            "dtypes: category(1), float64(5), int32(1), object(9)\n",
            "memory usage: 434.5+ MB\n"
          ],
          "name": "stdout"
        }
      ]
    },
    {
      "cell_type": "code",
      "metadata": {
        "id": "8TZ6Jc3OSiYa",
        "colab_type": "code",
        "colab": {}
      },
      "source": [
        "#Alterando o tipo da coluna NU_IDADE\n",
        "df[\"NU_IDADE\"] = df[\"NU_IDADE\"].astype(\"int32\")"
      ],
      "execution_count": 0,
      "outputs": []
    },
    {
      "cell_type": "code",
      "metadata": {
        "id": "q6o4iUyYSiZC",
        "colab_type": "code",
        "colab": {}
      },
      "source": [
        "#Alterando o tipo da coluna TP_SEXO\n",
        "df[\"TP_SEXO\"] = df[\"TP_SEXO\"].astype(\"category\")"
      ],
      "execution_count": 0,
      "outputs": []
    },
    {
      "cell_type": "code",
      "metadata": {
        "id": "RjnIB0uKSiZU",
        "colab_type": "code",
        "colab": {},
        "outputId": "195c3e5c-c9b5-453b-8416-b2fa2fd08af5"
      },
      "source": [
        "#Verificando número de linhas e colunas\n",
        "df.shape"
      ],
      "execution_count": 0,
      "outputs": [
        {
          "output_type": "execute_result",
          "data": {
            "text/plain": [
              "(3893671, 17)"
            ]
          },
          "metadata": {
            "tags": []
          },
          "execution_count": 15
        }
      ]
    },
    {
      "cell_type": "code",
      "metadata": {
        "id": "heDsM-OwSiZw",
        "colab_type": "code",
        "colab": {}
      },
      "source": [
        "#Criando uma coluna com a média das notas\n",
        "df[\"media_notas\"] = df[[\"NU_NOTA_CN\", \"NU_NOTA_CH\", \"NU_NOTA_LC\", \"NU_NOTA_MT\",\"NU_NOTA_REDACAO\"]].mean(axis=1)"
      ],
      "execution_count": 0,
      "outputs": []
    },
    {
      "cell_type": "code",
      "metadata": {
        "id": "oDFsuydoSiaA",
        "colab_type": "code",
        "colab": {},
        "outputId": "ff481836-9e50-4b99-912c-795b922fca63"
      },
      "source": [
        "#Média Geral\n",
        "df[\"media_notas\"].mean()"
      ],
      "execution_count": 0,
      "outputs": [
        {
          "output_type": "execute_result",
          "data": {
            "text/plain": [
              "528.9268456630977"
            ]
          },
          "metadata": {
            "tags": []
          },
          "execution_count": 16
        }
      ]
    },
    {
      "cell_type": "code",
      "metadata": {
        "id": "zXKUCog4SiaG",
        "colab_type": "code",
        "colab": {},
        "outputId": "fd786f8c-7863-4724-f682-7acf37859eae"
      },
      "source": [
        "#Exibindo informações estatísticas\n",
        "df.describe()"
      ],
      "execution_count": 0,
      "outputs": [
        {
          "output_type": "execute_result",
          "data": {
            "text/html": [
              "<div>\n",
              "<style scoped>\n",
              "    .dataframe tbody tr th:only-of-type {\n",
              "        vertical-align: middle;\n",
              "    }\n",
              "\n",
              "    .dataframe tbody tr th {\n",
              "        vertical-align: top;\n",
              "    }\n",
              "\n",
              "    .dataframe thead th {\n",
              "        text-align: right;\n",
              "    }\n",
              "</style>\n",
              "<table border=\"1\" class=\"dataframe\">\n",
              "  <thead>\n",
              "    <tr style=\"text-align: right;\">\n",
              "      <th></th>\n",
              "      <th>NU_IDADE</th>\n",
              "      <th>NU_NOTA_CN</th>\n",
              "      <th>NU_NOTA_CH</th>\n",
              "      <th>NU_NOTA_LC</th>\n",
              "      <th>NU_NOTA_MT</th>\n",
              "      <th>NU_NOTA_REDACAO</th>\n",
              "      <th>media_notas</th>\n",
              "    </tr>\n",
              "  </thead>\n",
              "  <tbody>\n",
              "    <tr>\n",
              "      <th>count</th>\n",
              "      <td>3.893671e+06</td>\n",
              "      <td>3.893671e+06</td>\n",
              "      <td>3.893671e+06</td>\n",
              "      <td>3.893671e+06</td>\n",
              "      <td>3.893671e+06</td>\n",
              "      <td>3.893671e+06</td>\n",
              "      <td>3.893671e+06</td>\n",
              "    </tr>\n",
              "    <tr>\n",
              "      <th>mean</th>\n",
              "      <td>2.140588e+01</td>\n",
              "      <td>4.937584e+02</td>\n",
              "      <td>5.708116e+02</td>\n",
              "      <td>5.285162e+02</td>\n",
              "      <td>5.354898e+02</td>\n",
              "      <td>5.160582e+02</td>\n",
              "      <td>5.289268e+02</td>\n",
              "    </tr>\n",
              "    <tr>\n",
              "      <th>std</th>\n",
              "      <td>7.092174e+00</td>\n",
              "      <td>7.412505e+01</td>\n",
              "      <td>7.918564e+01</td>\n",
              "      <td>7.225214e+01</td>\n",
              "      <td>1.031111e+02</td>\n",
              "      <td>1.843693e+02</td>\n",
              "      <td>8.267996e+01</td>\n",
              "    </tr>\n",
              "    <tr>\n",
              "      <th>min</th>\n",
              "      <td>1.000000e+01</td>\n",
              "      <td>0.000000e+00</td>\n",
              "      <td>0.000000e+00</td>\n",
              "      <td>0.000000e+00</td>\n",
              "      <td>0.000000e+00</td>\n",
              "      <td>0.000000e+00</td>\n",
              "      <td>0.000000e+00</td>\n",
              "    </tr>\n",
              "    <tr>\n",
              "      <th>25%</th>\n",
              "      <td>1.700000e+01</td>\n",
              "      <td>4.358000e+02</td>\n",
              "      <td>5.134000e+02</td>\n",
              "      <td>4.780000e+02</td>\n",
              "      <td>4.553000e+02</td>\n",
              "      <td>3.600000e+02</td>\n",
              "      <td>4.675400e+02</td>\n",
              "    </tr>\n",
              "    <tr>\n",
              "      <th>50%</th>\n",
              "      <td>1.900000e+01</td>\n",
              "      <td>4.834000e+02</td>\n",
              "      <td>5.849000e+02</td>\n",
              "      <td>5.334000e+02</td>\n",
              "      <td>5.166000e+02</td>\n",
              "      <td>5.200000e+02</td>\n",
              "      <td>5.201800e+02</td>\n",
              "    </tr>\n",
              "    <tr>\n",
              "      <th>75%</th>\n",
              "      <td>2.200000e+01</td>\n",
              "      <td>5.424000e+02</td>\n",
              "      <td>6.297000e+02</td>\n",
              "      <td>5.813000e+02</td>\n",
              "      <td>6.008000e+02</td>\n",
              "      <td>6.400000e+02</td>\n",
              "      <td>5.812800e+02</td>\n",
              "    </tr>\n",
              "    <tr>\n",
              "      <th>max</th>\n",
              "      <td>9.000000e+01</td>\n",
              "      <td>8.696000e+02</td>\n",
              "      <td>8.504000e+02</td>\n",
              "      <td>8.169000e+02</td>\n",
              "      <td>9.961000e+02</td>\n",
              "      <td>1.000000e+03</td>\n",
              "      <td>8.581800e+02</td>\n",
              "    </tr>\n",
              "  </tbody>\n",
              "</table>\n",
              "</div>"
            ],
            "text/plain": [
              "           NU_IDADE    NU_NOTA_CN    NU_NOTA_CH    NU_NOTA_LC    NU_NOTA_MT  \\\n",
              "count  3.893671e+06  3.893671e+06  3.893671e+06  3.893671e+06  3.893671e+06   \n",
              "mean   2.140588e+01  4.937584e+02  5.708116e+02  5.285162e+02  5.354898e+02   \n",
              "std    7.092174e+00  7.412505e+01  7.918564e+01  7.225214e+01  1.031111e+02   \n",
              "min    1.000000e+01  0.000000e+00  0.000000e+00  0.000000e+00  0.000000e+00   \n",
              "25%    1.700000e+01  4.358000e+02  5.134000e+02  4.780000e+02  4.553000e+02   \n",
              "50%    1.900000e+01  4.834000e+02  5.849000e+02  5.334000e+02  5.166000e+02   \n",
              "75%    2.200000e+01  5.424000e+02  6.297000e+02  5.813000e+02  6.008000e+02   \n",
              "max    9.000000e+01  8.696000e+02  8.504000e+02  8.169000e+02  9.961000e+02   \n",
              "\n",
              "       NU_NOTA_REDACAO   media_notas  \n",
              "count     3.893671e+06  3.893671e+06  \n",
              "mean      5.160582e+02  5.289268e+02  \n",
              "std       1.843693e+02  8.267996e+01  \n",
              "min       0.000000e+00  0.000000e+00  \n",
              "25%       3.600000e+02  4.675400e+02  \n",
              "50%       5.200000e+02  5.201800e+02  \n",
              "75%       6.400000e+02  5.812800e+02  \n",
              "max       1.000000e+03  8.581800e+02  "
            ]
          },
          "metadata": {
            "tags": []
          },
          "execution_count": 18
        }
      ]
    },
    {
      "cell_type": "code",
      "metadata": {
        "id": "u6Ytqyz9SiaV",
        "colab_type": "code",
        "colab": {},
        "outputId": "fa8b8cd3-7d68-4589-b4d3-e9f61c376588"
      },
      "source": [
        "#Histograma\n",
        "%matplotlib inline\n",
        "sns.distplot(df[\"media_notas\"])\n",
        "#plt.savefig(\"Histograma.png\")"
      ],
      "execution_count": 0,
      "outputs": [
        {
          "output_type": "execute_result",
          "data": {
            "text/plain": [
              "<matplotlib.axes._subplots.AxesSubplot at 0x20193e39cc0>"
            ]
          },
          "metadata": {
            "tags": []
          },
          "execution_count": 12
        },
        {
          "output_type": "display_data",
          "data": {
            "image/png": "[encoded data removed]",
            "text/plain": [
              "<Figure size 432x288 with 1 Axes>"
            ]
          },
          "metadata": {
            "tags": [],
            "needs_background": "light"
          }
        }
      ]
    },
    {
      "cell_type": "code",
      "metadata": {
        "id": "XMxWJln3Siah",
        "colab_type": "code",
        "colab": {},
        "outputId": "f8b363fa-2865-4206-bd6b-9c8df85abedd"
      },
      "source": [
        "#Média por tipo de escola\n",
        "media_tipoescola = df.groupby(\"Tipo_Escola\")[\"media_notas\"].mean()\n",
        "media_tipoescola"
      ],
      "execution_count": 0,
      "outputs": [
        {
          "output_type": "execute_result",
          "data": {
            "text/plain": [
              "Tipo_Escola\n",
              "Exterior         607.262634\n",
              "Não Respondeu    530.425149\n",
              "Privada          521.400270\n",
              "Pública          501.844105\n",
              "Name: media_notas, dtype: float64"
            ]
          },
          "metadata": {
            "tags": []
          },
          "execution_count": 13
        }
      ]
    },
    {
      "cell_type": "code",
      "metadata": {
        "id": "7YYTtk02Siam",
        "colab_type": "code",
        "colab": {},
        "outputId": "0ed17d81-304e-4719-ad3d-d3aa6a9082fd"
      },
      "source": [
        "#Gráfico Média por tipo de escola\n",
        "media_tipoescola.nsmallest(4).plot.barh(title=\"Média das notas por tipo de escola\", color=\"r\")\n",
        "plt.xlabel(\"Média notas\")\n",
        "plt.savefig(\"Médias x Tipo_Escola.png\")"
      ],
      "execution_count": 0,
      "outputs": [
        {
          "output_type": "display_data",
          "data": {
            "image/png": "[encoded data removed]",
            "text/plain": [
              "<Figure size 432x288 with 1 Axes>"
            ]
          },
          "metadata": {
            "tags": [],
            "needs_background": "light"
          }
        }
      ]
    },
    {
      "cell_type": "code",
      "metadata": {
        "id": "48X419ZsSia2",
        "colab_type": "code",
        "colab": {},
        "outputId": "38c10e7b-58e7-40dd-f0b1-b8e4f5c2a345"
      },
      "source": [
        "#Médias por Renda\n",
        "renda = df.groupby(\"Renda_Mensal\")[\"media_notas\"].mean()\n",
        "renda"
      ],
      "execution_count": 0,
      "outputs": [
        {
          "output_type": "execute_result",
          "data": {
            "text/plain": [
              "Renda_Mensal\n",
              "Até R$ 954,00                       489.171824\n",
              "De R$ 1.431,01 até R$ 1.908,00      526.584230\n",
              "De R$ 1.908,01 até R$ 2.385,00      533.786041\n",
              "De R$ 11.448,01 até R$ 14.310,00    631.175275\n",
              "De R$ 14.310,01 até R$ 19.080,00    638.354681\n",
              "De R$ 2.385,01 até R$ 2.862,00      549.489057\n",
              "De R$ 2.862,01 até R$ 3.816,00      557.349961\n",
              "De R$ 3.816,01 até R$ 4.770,00      573.616998\n",
              "De R$ 4.770,01 até R$ 5.724,00      584.567301\n",
              "De R$ 5.724,01 até R$ 6.678,00      596.163102\n",
              "De R$ 6.678,01 até R$ 7.632,00      602.670960\n",
              "De R$ 7.632,01 até R$ 8.586,00      611.564320\n",
              "De R$ 8.586,01 até R$ 9.540,00      614.920454\n",
              "De R$ 9.540,01 até R$ 11.448,00     622.814202\n",
              "De R$ 954,01 até R$ 1.431,00        509.135433\n",
              "Mais de R$ 19.080,00                648.259108\n",
              "Nenhuma renda                       482.590316\n",
              "Name: media_notas, dtype: float64"
            ]
          },
          "metadata": {
            "tags": []
          },
          "execution_count": 15
        }
      ]
    },
    {
      "cell_type": "code",
      "metadata": {
        "id": "5dVH61cFSibD",
        "colab_type": "code",
        "colab": {},
        "outputId": "63fd80ff-e738-4963-bcef-1f9245dd9407"
      },
      "source": [
        "#Gráfico médias por renda\n",
        "%matplotlib inline\n",
        "renda.nsmallest(17).plot.barh(title=\"Média das notas por Renda\", color=\"r\")\n",
        "plt.xlabel(\"Média Notas\")\n",
        "#plt.savefig(\"Médias x Renda.png\")"
      ],
      "execution_count": 0,
      "outputs": [
        {
          "output_type": "execute_result",
          "data": {
            "text/plain": [
              "Text(0.5, 0, 'Média Notas')"
            ]
          },
          "metadata": {
            "tags": []
          },
          "execution_count": 16
        },
        {
          "output_type": "display_data",
          "data": {
            "image/png": "[encoded data removed]",
            "text/plain": [
              "<Figure size 432x288 with 1 Axes>"
            ]
          },
          "metadata": {
            "tags": [],
            "needs_background": "light"
          }
        }
      ]
    },
    {
      "cell_type": "code",
      "metadata": {
        "id": "zKDYceCgSibI",
        "colab_type": "code",
        "colab": {},
        "outputId": "ed1d9745-2398-468f-dd81-65462b0b5256"
      },
      "source": [
        "#Médias por Escolaridade Pai\n",
        "escolaridade_pai = df.groupby(\"Escolaridade_Pai\")[\"media_notas\"].mean()\n",
        "escolaridade_pai"
      ],
      "execution_count": 0,
      "outputs": [
        {
          "output_type": "execute_result",
          "data": {
            "text/plain": [
              "Escolaridade_Pai\n",
              "Completou a 4ª série/5º ano, mas não completou a 8ª série/9º ano do Ensino Fundamental    514.585447\n",
              "Completou a 8ª série/9º ano do Ensino Fundamental, mas não completou o Ensino Médio       524.858886\n",
              "Completou a Faculdade, mas não completou a Pós-graduação                                  592.592451\n",
              "Completou a Pós-graduação                                                                 610.234054\n",
              "Completou o Ensino Médio, mas não completou a Faculdade                                   544.321363\n",
              "Nunca estudou                                                                             479.476129\n",
              "Não completou a 4ª série/5º ano do Ensino Fundamental                                     499.091088\n",
              "Não sei                                                                                   506.782120\n",
              "Name: media_notas, dtype: float64"
            ]
          },
          "metadata": {
            "tags": []
          },
          "execution_count": 17
        }
      ]
    },
    {
      "cell_type": "code",
      "metadata": {
        "id": "KYTXfewRSibY",
        "colab_type": "code",
        "colab": {},
        "outputId": "20a94d50-7558-4819-f535-fc7438e62254"
      },
      "source": [
        "#Gráfico Médias por escolaridade do pai\n",
        "escolaridade_pai.nsmallest(9).plot.barh(title=\"Média das notas por Escolaridade do Pai\", color=\"r\")\n",
        "plt.xlabel(\"Média Notas\")"
      ],
      "execution_count": 0,
      "outputs": [
        {
          "output_type": "execute_result",
          "data": {
            "text/plain": [
              "Text(0.5, 0, 'Média Notas')"
            ]
          },
          "metadata": {
            "tags": []
          },
          "execution_count": 26
        },
        {
          "output_type": "display_data",
          "data": {
            "image/png": "[encoded data removed]",
            "text/plain": [
              "<Figure size 432x288 with 1 Axes>"
            ]
          },
          "metadata": {
            "tags": [],
            "needs_background": "light"
          }
        }
      ]
    },
    {
      "cell_type": "code",
      "metadata": {
        "id": "UNMVycQZSibl",
        "colab_type": "code",
        "colab": {},
        "outputId": "3daf3518-b836-49b1-d75e-e40062a0ebfc"
      },
      "source": [
        "#Médias por escolaridade da mãe\n",
        "escolaridade_mae = df.groupby(\"Escolaridade_mae\")[\"media_notas\"].mean()\n",
        "escolaridade_mae"
      ],
      "execution_count": 0,
      "outputs": [
        {
          "output_type": "execute_result",
          "data": {
            "text/plain": [
              "Escolaridade_mae\n",
              "Completou a 4ª série/5º ano, mas não completou a 8ª série/9º ano do Ensino Fundamental    507.854548\n",
              "Completou a 8ª série/9º ano do Ensino Fundamental, mas não completou o Ensino Médio       516.272892\n",
              "Completou a Faculdade, mas não completou a Pós-graduação                                  578.880299\n",
              "Completou a Pós-graduação                                                                 590.454456\n",
              "Completou o Ensino Médio, mas não completou a Faculdade                                   535.816375\n",
              "Nunca estudou                                                                             474.971965\n",
              "Não completou a 4ª série/5º ano do Ensino Fundamental                                     494.480509\n",
              "Não sei                                                                                   493.497780\n",
              "Name: media_notas, dtype: float64"
            ]
          },
          "metadata": {
            "tags": []
          },
          "execution_count": 18
        }
      ]
    },
    {
      "cell_type": "code",
      "metadata": {
        "id": "ZFLuDj31Siby",
        "colab_type": "code",
        "colab": {},
        "outputId": "f9b8a53a-b044-4de5-8bf8-140f210487a3"
      },
      "source": [
        "#Gráfico médias por escolaridade da mãe\n",
        "escolaridade_mae.nsmallest(9).plot.barh(title=\"Média das notas por Escolaridade da Mãe\", color=\"r\")\n",
        "plt.xlabel(\"Média Notas\")"
      ],
      "execution_count": 0,
      "outputs": [
        {
          "output_type": "execute_result",
          "data": {
            "text/plain": [
              "Text(0.5, 0, 'Média Notas')"
            ]
          },
          "metadata": {
            "tags": []
          },
          "execution_count": 28
        },
        {
          "output_type": "display_data",
          "data": {
            "image/png": "[encoded data removed]",
            "text/plain": [
              "<Figure size 432x288 with 1 Axes>"
            ]
          },
          "metadata": {
            "tags": [],
            "needs_background": "light"
          }
        }
      ]
    },
    {
      "cell_type": "code",
      "metadata": {
        "id": "r5zWW9L4Sib4",
        "colab_type": "code",
        "colab": {},
        "outputId": "f20f1960-9ab9-403f-da16-9074e70a8dde"
      },
      "source": [
        "#Exibindo as 10 maiores médias\n",
        "df.nlargest(10, \"media_notas\")"
      ],
      "execution_count": 0,
      "outputs": [
        {
          "output_type": "execute_result",
          "data": {
            "text/html": [
              "<div>\n",
              "<style scoped>\n",
              "    .dataframe tbody tr th:only-of-type {\n",
              "        vertical-align: middle;\n",
              "    }\n",
              "\n",
              "    .dataframe tbody tr th {\n",
              "        vertical-align: top;\n",
              "    }\n",
              "\n",
              "    .dataframe thead th {\n",
              "        text-align: right;\n",
              "    }\n",
              "</style>\n",
              "<table border=\"1\" class=\"dataframe\">\n",
              "  <thead>\n",
              "    <tr style=\"text-align: right;\">\n",
              "      <th></th>\n",
              "      <th>NO_MUNICIPIO_RESIDENCIA</th>\n",
              "      <th>SG_UF_RESIDENCIA</th>\n",
              "      <th>NU_IDADE</th>\n",
              "      <th>TP_SEXO</th>\n",
              "      <th>NU_NOTA_CN</th>\n",
              "      <th>NU_NOTA_CH</th>\n",
              "      <th>NU_NOTA_LC</th>\n",
              "      <th>NU_NOTA_MT</th>\n",
              "      <th>NU_NOTA_REDACAO</th>\n",
              "      <th>Escolaridade_Pai</th>\n",
              "      <th>Escolaridade_mae</th>\n",
              "      <th>Renda_Mensal</th>\n",
              "      <th>Possui_Computador</th>\n",
              "      <th>Acesso_Internet</th>\n",
              "      <th>Cor/Raça</th>\n",
              "      <th>Tipo_Escola</th>\n",
              "      <th>media_notas</th>\n",
              "    </tr>\n",
              "  </thead>\n",
              "  <tbody>\n",
              "    <tr>\n",
              "      <th>1791930</th>\n",
              "      <td>Aracaju</td>\n",
              "      <td>SE</td>\n",
              "      <td>17</td>\n",
              "      <td>M</td>\n",
              "      <td>831.4</td>\n",
              "      <td>850.4</td>\n",
              "      <td>725.9</td>\n",
              "      <td>943.2</td>\n",
              "      <td>940.0</td>\n",
              "      <td>Completou a Faculdade, mas não completou a Pós...</td>\n",
              "      <td>Completou a Faculdade, mas não completou a Pós...</td>\n",
              "      <td>De R$ 3.816,01 até R$ 4.770,00</td>\n",
              "      <td>Sim, um</td>\n",
              "      <td>Sim</td>\n",
              "      <td>Branca</td>\n",
              "      <td>Exterior</td>\n",
              "      <td>858.18</td>\n",
              "    </tr>\n",
              "    <tr>\n",
              "      <th>2143940</th>\n",
              "      <td>Valinhos</td>\n",
              "      <td>SP</td>\n",
              "      <td>17</td>\n",
              "      <td>M</td>\n",
              "      <td>823.4</td>\n",
              "      <td>815.7</td>\n",
              "      <td>708.7</td>\n",
              "      <td>958.7</td>\n",
              "      <td>960.0</td>\n",
              "      <td>Completou a Pós-graduação</td>\n",
              "      <td>Completou a Pós-graduação</td>\n",
              "      <td>De R$ 14.310,01 até R$ 19.080,00</td>\n",
              "      <td>Sim, dois</td>\n",
              "      <td>Sim</td>\n",
              "      <td>Branca</td>\n",
              "      <td>Exterior</td>\n",
              "      <td>853.30</td>\n",
              "    </tr>\n",
              "    <tr>\n",
              "      <th>1321766</th>\n",
              "      <td>Rio de Janeiro</td>\n",
              "      <td>RJ</td>\n",
              "      <td>17</td>\n",
              "      <td>M</td>\n",
              "      <td>834.1</td>\n",
              "      <td>775.6</td>\n",
              "      <td>713.0</td>\n",
              "      <td>963.4</td>\n",
              "      <td>980.0</td>\n",
              "      <td>Completou a Faculdade, mas não completou a Pós...</td>\n",
              "      <td>Completou a Pós-graduação</td>\n",
              "      <td>Mais de R$ 19.080,00</td>\n",
              "      <td>Sim, três</td>\n",
              "      <td>Sim</td>\n",
              "      <td>Branca</td>\n",
              "      <td>Exterior</td>\n",
              "      <td>853.22</td>\n",
              "    </tr>\n",
              "    <tr>\n",
              "      <th>2656452</th>\n",
              "      <td>Fortaleza</td>\n",
              "      <td>CE</td>\n",
              "      <td>18</td>\n",
              "      <td>M</td>\n",
              "      <td>762.6</td>\n",
              "      <td>821.0</td>\n",
              "      <td>714.3</td>\n",
              "      <td>986.7</td>\n",
              "      <td>980.0</td>\n",
              "      <td>Completou a Pós-graduação</td>\n",
              "      <td>Completou a Pós-graduação</td>\n",
              "      <td>De R$ 14.310,01 até R$ 19.080,00</td>\n",
              "      <td>Sim, quatro ou mais</td>\n",
              "      <td>Sim</td>\n",
              "      <td>Branca</td>\n",
              "      <td>Não Respondeu</td>\n",
              "      <td>852.92</td>\n",
              "    </tr>\n",
              "    <tr>\n",
              "      <th>1664581</th>\n",
              "      <td>Teresina</td>\n",
              "      <td>PI</td>\n",
              "      <td>18</td>\n",
              "      <td>F</td>\n",
              "      <td>775.0</td>\n",
              "      <td>840.9</td>\n",
              "      <td>720.0</td>\n",
              "      <td>967.0</td>\n",
              "      <td>960.0</td>\n",
              "      <td>Completou o Ensino Médio, mas não completou a ...</td>\n",
              "      <td>Completou a Pós-graduação</td>\n",
              "      <td>De R$ 14.310,01 até R$ 19.080,00</td>\n",
              "      <td>Sim, dois</td>\n",
              "      <td>Sim</td>\n",
              "      <td>Parda</td>\n",
              "      <td>Exterior</td>\n",
              "      <td>852.58</td>\n",
              "    </tr>\n",
              "    <tr>\n",
              "      <th>1909311</th>\n",
              "      <td>Goiânia</td>\n",
              "      <td>GO</td>\n",
              "      <td>17</td>\n",
              "      <td>M</td>\n",
              "      <td>787.1</td>\n",
              "      <td>850.4</td>\n",
              "      <td>743.2</td>\n",
              "      <td>900.3</td>\n",
              "      <td>980.0</td>\n",
              "      <td>Completou a Faculdade, mas não completou a Pós...</td>\n",
              "      <td>Completou a Faculdade, mas não completou a Pós...</td>\n",
              "      <td>De R$ 14.310,01 até R$ 19.080,00</td>\n",
              "      <td>Sim, dois</td>\n",
              "      <td>Sim</td>\n",
              "      <td>Branca</td>\n",
              "      <td>Exterior</td>\n",
              "      <td>852.20</td>\n",
              "    </tr>\n",
              "    <tr>\n",
              "      <th>1308167</th>\n",
              "      <td>Vitória</td>\n",
              "      <td>ES</td>\n",
              "      <td>17</td>\n",
              "      <td>M</td>\n",
              "      <td>869.6</td>\n",
              "      <td>798.2</td>\n",
              "      <td>695.7</td>\n",
              "      <td>953.0</td>\n",
              "      <td>940.0</td>\n",
              "      <td>Completou a Pós-graduação</td>\n",
              "      <td>Completou o Ensino Médio, mas não completou a ...</td>\n",
              "      <td>De R$ 6.678,01 até R$ 7.632,00</td>\n",
              "      <td>Sim, três</td>\n",
              "      <td>Sim</td>\n",
              "      <td>Parda</td>\n",
              "      <td>Exterior</td>\n",
              "      <td>851.30</td>\n",
              "    </tr>\n",
              "    <tr>\n",
              "      <th>940334</th>\n",
              "      <td>São Luís</td>\n",
              "      <td>MA</td>\n",
              "      <td>17</td>\n",
              "      <td>M</td>\n",
              "      <td>795.8</td>\n",
              "      <td>801.3</td>\n",
              "      <td>710.9</td>\n",
              "      <td>987.9</td>\n",
              "      <td>960.0</td>\n",
              "      <td>Completou a Faculdade, mas não completou a Pós...</td>\n",
              "      <td>Completou a Pós-graduação</td>\n",
              "      <td>Mais de R$ 19.080,00</td>\n",
              "      <td>Sim, dois</td>\n",
              "      <td>Sim</td>\n",
              "      <td>Parda</td>\n",
              "      <td>Exterior</td>\n",
              "      <td>851.18</td>\n",
              "    </tr>\n",
              "    <tr>\n",
              "      <th>2375529</th>\n",
              "      <td>Natal</td>\n",
              "      <td>RN</td>\n",
              "      <td>17</td>\n",
              "      <td>M</td>\n",
              "      <td>839.1</td>\n",
              "      <td>825.8</td>\n",
              "      <td>705.4</td>\n",
              "      <td>964.8</td>\n",
              "      <td>920.0</td>\n",
              "      <td>Completou a Pós-graduação</td>\n",
              "      <td>Completou a Pós-graduação</td>\n",
              "      <td>Mais de R$ 19.080,00</td>\n",
              "      <td>Sim, quatro ou mais</td>\n",
              "      <td>Sim</td>\n",
              "      <td>Branca</td>\n",
              "      <td>Exterior</td>\n",
              "      <td>851.02</td>\n",
              "    </tr>\n",
              "    <tr>\n",
              "      <th>399091</th>\n",
              "      <td>Sorocaba</td>\n",
              "      <td>SP</td>\n",
              "      <td>17</td>\n",
              "      <td>M</td>\n",
              "      <td>843.0</td>\n",
              "      <td>757.4</td>\n",
              "      <td>719.6</td>\n",
              "      <td>973.5</td>\n",
              "      <td>960.0</td>\n",
              "      <td>Completou a Faculdade, mas não completou a Pós...</td>\n",
              "      <td>Completou a Faculdade, mas não completou a Pós...</td>\n",
              "      <td>De R$ 11.448,01 até R$ 14.310,00</td>\n",
              "      <td>Sim, três</td>\n",
              "      <td>Sim</td>\n",
              "      <td>Branca</td>\n",
              "      <td>Exterior</td>\n",
              "      <td>850.70</td>\n",
              "    </tr>\n",
              "  </tbody>\n",
              "</table>\n",
              "</div>"
            ],
            "text/plain": [
              "        NO_MUNICIPIO_RESIDENCIA SG_UF_RESIDENCIA  NU_IDADE TP_SEXO  \\\n",
              "1791930                 Aracaju               SE        17       M   \n",
              "2143940                Valinhos               SP        17       M   \n",
              "1321766          Rio de Janeiro               RJ        17       M   \n",
              "2656452               Fortaleza               CE        18       M   \n",
              "1664581                Teresina               PI        18       F   \n",
              "1909311                 Goiânia               GO        17       M   \n",
              "1308167                 Vitória               ES        17       M   \n",
              "940334                 São Luís               MA        17       M   \n",
              "2375529                   Natal               RN        17       M   \n",
              "399091                 Sorocaba               SP        17       M   \n",
              "\n",
              "         NU_NOTA_CN  NU_NOTA_CH  NU_NOTA_LC  NU_NOTA_MT  NU_NOTA_REDACAO  \\\n",
              "1791930       831.4       850.4       725.9       943.2            940.0   \n",
              "2143940       823.4       815.7       708.7       958.7            960.0   \n",
              "1321766       834.1       775.6       713.0       963.4            980.0   \n",
              "2656452       762.6       821.0       714.3       986.7            980.0   \n",
              "1664581       775.0       840.9       720.0       967.0            960.0   \n",
              "1909311       787.1       850.4       743.2       900.3            980.0   \n",
              "1308167       869.6       798.2       695.7       953.0            940.0   \n",
              "940334        795.8       801.3       710.9       987.9            960.0   \n",
              "2375529       839.1       825.8       705.4       964.8            920.0   \n",
              "399091        843.0       757.4       719.6       973.5            960.0   \n",
              "\n",
              "                                          Escolaridade_Pai  \\\n",
              "1791930  Completou a Faculdade, mas não completou a Pós...   \n",
              "2143940                          Completou a Pós-graduação   \n",
              "1321766  Completou a Faculdade, mas não completou a Pós...   \n",
              "2656452                          Completou a Pós-graduação   \n",
              "1664581  Completou o Ensino Médio, mas não completou a ...   \n",
              "1909311  Completou a Faculdade, mas não completou a Pós...   \n",
              "1308167                          Completou a Pós-graduação   \n",
              "940334   Completou a Faculdade, mas não completou a Pós...   \n",
              "2375529                          Completou a Pós-graduação   \n",
              "399091   Completou a Faculdade, mas não completou a Pós...   \n",
              "\n",
              "                                          Escolaridade_mae  \\\n",
              "1791930  Completou a Faculdade, mas não completou a Pós...   \n",
              "2143940                          Completou a Pós-graduação   \n",
              "1321766                          Completou a Pós-graduação   \n",
              "2656452                          Completou a Pós-graduação   \n",
              "1664581                          Completou a Pós-graduação   \n",
              "1909311  Completou a Faculdade, mas não completou a Pós...   \n",
              "1308167  Completou o Ensino Médio, mas não completou a ...   \n",
              "940334                           Completou a Pós-graduação   \n",
              "2375529                          Completou a Pós-graduação   \n",
              "399091   Completou a Faculdade, mas não completou a Pós...   \n",
              "\n",
              "                             Renda_Mensal    Possui_Computador  \\\n",
              "1791930    De R$ 3.816,01 até R$ 4.770,00              Sim, um   \n",
              "2143940  De R$ 14.310,01 até R$ 19.080,00            Sim, dois   \n",
              "1321766              Mais de R$ 19.080,00            Sim, três   \n",
              "2656452  De R$ 14.310,01 até R$ 19.080,00  Sim, quatro ou mais   \n",
              "1664581  De R$ 14.310,01 até R$ 19.080,00            Sim, dois   \n",
              "1909311  De R$ 14.310,01 até R$ 19.080,00            Sim, dois   \n",
              "1308167    De R$ 6.678,01 até R$ 7.632,00            Sim, três   \n",
              "940334               Mais de R$ 19.080,00            Sim, dois   \n",
              "2375529              Mais de R$ 19.080,00  Sim, quatro ou mais   \n",
              "399091   De R$ 11.448,01 até R$ 14.310,00            Sim, três   \n",
              "\n",
              "        Acesso_Internet Cor/Raça    Tipo_Escola  media_notas  \n",
              "1791930             Sim   Branca       Exterior       858.18  \n",
              "2143940             Sim   Branca       Exterior       853.30  \n",
              "1321766             Sim   Branca       Exterior       853.22  \n",
              "2656452             Sim   Branca  Não Respondeu       852.92  \n",
              "1664581             Sim    Parda       Exterior       852.58  \n",
              "1909311             Sim   Branca       Exterior       852.20  \n",
              "1308167             Sim    Parda       Exterior       851.30  \n",
              "940334              Sim    Parda       Exterior       851.18  \n",
              "2375529             Sim   Branca       Exterior       851.02  \n",
              "399091              Sim   Branca       Exterior       850.70  "
            ]
          },
          "metadata": {
            "tags": []
          },
          "execution_count": 19
        }
      ]
    },
    {
      "cell_type": "code",
      "metadata": {
        "id": "8kMZISQgSicU",
        "colab_type": "code",
        "colab": {},
        "outputId": "abcf5b9e-2dfd-4eb9-988f-9c08ca25b301"
      },
      "source": [
        "#Exibindo as 10 menores médias\n",
        "df.nsmallest(10, \"media_notas\")"
      ],
      "execution_count": 0,
      "outputs": [
        {
          "output_type": "execute_result",
          "data": {
            "text/html": [
              "<div>\n",
              "<style scoped>\n",
              "    .dataframe tbody tr th:only-of-type {\n",
              "        vertical-align: middle;\n",
              "    }\n",
              "\n",
              "    .dataframe tbody tr th {\n",
              "        vertical-align: top;\n",
              "    }\n",
              "\n",
              "    .dataframe thead th {\n",
              "        text-align: right;\n",
              "    }\n",
              "</style>\n",
              "<table border=\"1\" class=\"dataframe\">\n",
              "  <thead>\n",
              "    <tr style=\"text-align: right;\">\n",
              "      <th></th>\n",
              "      <th>NO_MUNICIPIO_RESIDENCIA</th>\n",
              "      <th>SG_UF_RESIDENCIA</th>\n",
              "      <th>NU_IDADE</th>\n",
              "      <th>TP_SEXO</th>\n",
              "      <th>NU_NOTA_CN</th>\n",
              "      <th>NU_NOTA_CH</th>\n",
              "      <th>NU_NOTA_LC</th>\n",
              "      <th>NU_NOTA_MT</th>\n",
              "      <th>NU_NOTA_REDACAO</th>\n",
              "      <th>Escolaridade_Pai</th>\n",
              "      <th>Escolaridade_mae</th>\n",
              "      <th>Renda_Mensal</th>\n",
              "      <th>Possui_Computador</th>\n",
              "      <th>Acesso_Internet</th>\n",
              "      <th>Cor/Raça</th>\n",
              "      <th>Tipo_Escola</th>\n",
              "      <th>media_notas</th>\n",
              "    </tr>\n",
              "  </thead>\n",
              "  <tbody>\n",
              "    <tr>\n",
              "      <th>426403</th>\n",
              "      <td>Paulista</td>\n",
              "      <td>PE</td>\n",
              "      <td>50</td>\n",
              "      <td>F</td>\n",
              "      <td>0.0</td>\n",
              "      <td>0.0</td>\n",
              "      <td>0.0</td>\n",
              "      <td>0.0</td>\n",
              "      <td>0.0</td>\n",
              "      <td>Nunca estudou</td>\n",
              "      <td>Completou o Ensino Médio, mas não completou a ...</td>\n",
              "      <td>Nenhuma renda</td>\n",
              "      <td>Sim, um</td>\n",
              "      <td>Não</td>\n",
              "      <td>Parda</td>\n",
              "      <td>Não Respondeu</td>\n",
              "      <td>0.0</td>\n",
              "    </tr>\n",
              "    <tr>\n",
              "      <th>683472</th>\n",
              "      <td>Contagem</td>\n",
              "      <td>MG</td>\n",
              "      <td>16</td>\n",
              "      <td>F</td>\n",
              "      <td>0.0</td>\n",
              "      <td>0.0</td>\n",
              "      <td>0.0</td>\n",
              "      <td>0.0</td>\n",
              "      <td>0.0</td>\n",
              "      <td>Completou a 4ª série/5º ano, mas não completou...</td>\n",
              "      <td>Completou a 8ª série/9º ano do Ensino Fundamen...</td>\n",
              "      <td>De R$ 954,01 até R$ 1.431,00</td>\n",
              "      <td>Não</td>\n",
              "      <td>Sim</td>\n",
              "      <td>Parda</td>\n",
              "      <td>Não Respondeu</td>\n",
              "      <td>0.0</td>\n",
              "    </tr>\n",
              "    <tr>\n",
              "      <th>854805</th>\n",
              "      <td>Juazeiro</td>\n",
              "      <td>BA</td>\n",
              "      <td>41</td>\n",
              "      <td>M</td>\n",
              "      <td>0.0</td>\n",
              "      <td>0.0</td>\n",
              "      <td>0.0</td>\n",
              "      <td>0.0</td>\n",
              "      <td>0.0</td>\n",
              "      <td>Completou a Faculdade, mas não completou a Pós...</td>\n",
              "      <td>Completou o Ensino Médio, mas não completou a ...</td>\n",
              "      <td>Nenhuma renda</td>\n",
              "      <td>Não</td>\n",
              "      <td>Não</td>\n",
              "      <td>Parda</td>\n",
              "      <td>Não Respondeu</td>\n",
              "      <td>0.0</td>\n",
              "    </tr>\n",
              "    <tr>\n",
              "      <th>942425</th>\n",
              "      <td>Messias Targino</td>\n",
              "      <td>RN</td>\n",
              "      <td>45</td>\n",
              "      <td>M</td>\n",
              "      <td>0.0</td>\n",
              "      <td>0.0</td>\n",
              "      <td>0.0</td>\n",
              "      <td>0.0</td>\n",
              "      <td>0.0</td>\n",
              "      <td>Não sei</td>\n",
              "      <td>Não sei</td>\n",
              "      <td>Até R$ 954,00</td>\n",
              "      <td>Não</td>\n",
              "      <td>Não</td>\n",
              "      <td>Parda</td>\n",
              "      <td>Não Respondeu</td>\n",
              "      <td>0.0</td>\n",
              "    </tr>\n",
              "    <tr>\n",
              "      <th>978006</th>\n",
              "      <td>Lorena</td>\n",
              "      <td>SP</td>\n",
              "      <td>40</td>\n",
              "      <td>F</td>\n",
              "      <td>0.0</td>\n",
              "      <td>0.0</td>\n",
              "      <td>0.0</td>\n",
              "      <td>0.0</td>\n",
              "      <td>0.0</td>\n",
              "      <td>Não completou a 4ª série/5º ano do Ensino Fund...</td>\n",
              "      <td>Não completou a 4ª série/5º ano do Ensino Fund...</td>\n",
              "      <td>Até R$ 954,00</td>\n",
              "      <td>Sim, dois</td>\n",
              "      <td>Não</td>\n",
              "      <td>Branca</td>\n",
              "      <td>Não Respondeu</td>\n",
              "      <td>0.0</td>\n",
              "    </tr>\n",
              "    <tr>\n",
              "      <th>1045390</th>\n",
              "      <td>Parnamirim</td>\n",
              "      <td>RN</td>\n",
              "      <td>31</td>\n",
              "      <td>F</td>\n",
              "      <td>0.0</td>\n",
              "      <td>0.0</td>\n",
              "      <td>0.0</td>\n",
              "      <td>0.0</td>\n",
              "      <td>0.0</td>\n",
              "      <td>Não completou a 4ª série/5º ano do Ensino Fund...</td>\n",
              "      <td>Não sei</td>\n",
              "      <td>Até R$ 954,00</td>\n",
              "      <td>Não</td>\n",
              "      <td>Não</td>\n",
              "      <td>Parda</td>\n",
              "      <td>Não Respondeu</td>\n",
              "      <td>0.0</td>\n",
              "    </tr>\n",
              "    <tr>\n",
              "      <th>1465938</th>\n",
              "      <td>Fartura</td>\n",
              "      <td>SP</td>\n",
              "      <td>39</td>\n",
              "      <td>M</td>\n",
              "      <td>0.0</td>\n",
              "      <td>0.0</td>\n",
              "      <td>0.0</td>\n",
              "      <td>0.0</td>\n",
              "      <td>0.0</td>\n",
              "      <td>Completou a 8ª série/9º ano do Ensino Fundamen...</td>\n",
              "      <td>Não completou a 4ª série/5º ano do Ensino Fund...</td>\n",
              "      <td>Até R$ 954,00</td>\n",
              "      <td>Sim, dois</td>\n",
              "      <td>Sim</td>\n",
              "      <td>Branca</td>\n",
              "      <td>Não Respondeu</td>\n",
              "      <td>0.0</td>\n",
              "    </tr>\n",
              "    <tr>\n",
              "      <th>1565311</th>\n",
              "      <td>Barão de Grajaú</td>\n",
              "      <td>MA</td>\n",
              "      <td>38</td>\n",
              "      <td>F</td>\n",
              "      <td>0.0</td>\n",
              "      <td>0.0</td>\n",
              "      <td>0.0</td>\n",
              "      <td>0.0</td>\n",
              "      <td>0.0</td>\n",
              "      <td>Nunca estudou</td>\n",
              "      <td>Nunca estudou</td>\n",
              "      <td>Até R$ 954,00</td>\n",
              "      <td>Não</td>\n",
              "      <td>Não</td>\n",
              "      <td>Parda</td>\n",
              "      <td>Não Respondeu</td>\n",
              "      <td>0.0</td>\n",
              "    </tr>\n",
              "    <tr>\n",
              "      <th>1770530</th>\n",
              "      <td>Presidente Prudente</td>\n",
              "      <td>SP</td>\n",
              "      <td>45</td>\n",
              "      <td>M</td>\n",
              "      <td>0.0</td>\n",
              "      <td>0.0</td>\n",
              "      <td>0.0</td>\n",
              "      <td>0.0</td>\n",
              "      <td>0.0</td>\n",
              "      <td>Não completou a 4ª série/5º ano do Ensino Fund...</td>\n",
              "      <td>Não completou a 4ª série/5º ano do Ensino Fund...</td>\n",
              "      <td>Até R$ 954,00</td>\n",
              "      <td>Não</td>\n",
              "      <td>Não</td>\n",
              "      <td>Parda</td>\n",
              "      <td>Não Respondeu</td>\n",
              "      <td>0.0</td>\n",
              "    </tr>\n",
              "    <tr>\n",
              "      <th>1921173</th>\n",
              "      <td>Natal</td>\n",
              "      <td>RN</td>\n",
              "      <td>29</td>\n",
              "      <td>F</td>\n",
              "      <td>0.0</td>\n",
              "      <td>0.0</td>\n",
              "      <td>0.0</td>\n",
              "      <td>0.0</td>\n",
              "      <td>0.0</td>\n",
              "      <td>Completou a 4ª série/5º ano, mas não completou...</td>\n",
              "      <td>Completou a 4ª série/5º ano, mas não completou...</td>\n",
              "      <td>De R$ 954,01 até R$ 1.431,00</td>\n",
              "      <td>Não</td>\n",
              "      <td>Não</td>\n",
              "      <td>Parda</td>\n",
              "      <td>Não Respondeu</td>\n",
              "      <td>0.0</td>\n",
              "    </tr>\n",
              "  </tbody>\n",
              "</table>\n",
              "</div>"
            ],
            "text/plain": [
              "        NO_MUNICIPIO_RESIDENCIA SG_UF_RESIDENCIA  NU_IDADE TP_SEXO  \\\n",
              "426403                 Paulista               PE        50       F   \n",
              "683472                 Contagem               MG        16       F   \n",
              "854805                 Juazeiro               BA        41       M   \n",
              "942425          Messias Targino               RN        45       M   \n",
              "978006                   Lorena               SP        40       F   \n",
              "1045390              Parnamirim               RN        31       F   \n",
              "1465938                 Fartura               SP        39       M   \n",
              "1565311         Barão de Grajaú               MA        38       F   \n",
              "1770530     Presidente Prudente               SP        45       M   \n",
              "1921173                   Natal               RN        29       F   \n",
              "\n",
              "         NU_NOTA_CN  NU_NOTA_CH  NU_NOTA_LC  NU_NOTA_MT  NU_NOTA_REDACAO  \\\n",
              "426403          0.0         0.0         0.0         0.0              0.0   \n",
              "683472          0.0         0.0         0.0         0.0              0.0   \n",
              "854805          0.0         0.0         0.0         0.0              0.0   \n",
              "942425          0.0         0.0         0.0         0.0              0.0   \n",
              "978006          0.0         0.0         0.0         0.0              0.0   \n",
              "1045390         0.0         0.0         0.0         0.0              0.0   \n",
              "1465938         0.0         0.0         0.0         0.0              0.0   \n",
              "1565311         0.0         0.0         0.0         0.0              0.0   \n",
              "1770530         0.0         0.0         0.0         0.0              0.0   \n",
              "1921173         0.0         0.0         0.0         0.0              0.0   \n",
              "\n",
              "                                          Escolaridade_Pai  \\\n",
              "426403                                       Nunca estudou   \n",
              "683472   Completou a 4ª série/5º ano, mas não completou...   \n",
              "854805   Completou a Faculdade, mas não completou a Pós...   \n",
              "942425                                             Não sei   \n",
              "978006   Não completou a 4ª série/5º ano do Ensino Fund...   \n",
              "1045390  Não completou a 4ª série/5º ano do Ensino Fund...   \n",
              "1465938  Completou a 8ª série/9º ano do Ensino Fundamen...   \n",
              "1565311                                      Nunca estudou   \n",
              "1770530  Não completou a 4ª série/5º ano do Ensino Fund...   \n",
              "1921173  Completou a 4ª série/5º ano, mas não completou...   \n",
              "\n",
              "                                          Escolaridade_mae  \\\n",
              "426403   Completou o Ensino Médio, mas não completou a ...   \n",
              "683472   Completou a 8ª série/9º ano do Ensino Fundamen...   \n",
              "854805   Completou o Ensino Médio, mas não completou a ...   \n",
              "942425                                             Não sei   \n",
              "978006   Não completou a 4ª série/5º ano do Ensino Fund...   \n",
              "1045390                                            Não sei   \n",
              "1465938  Não completou a 4ª série/5º ano do Ensino Fund...   \n",
              "1565311                                      Nunca estudou   \n",
              "1770530  Não completou a 4ª série/5º ano do Ensino Fund...   \n",
              "1921173  Completou a 4ª série/5º ano, mas não completou...   \n",
              "\n",
              "                         Renda_Mensal Possui_Computador Acesso_Internet  \\\n",
              "426403                  Nenhuma renda           Sim, um             Não   \n",
              "683472   De R$ 954,01 até R$ 1.431,00               Não             Sim   \n",
              "854805                  Nenhuma renda               Não             Não   \n",
              "942425                  Até R$ 954,00               Não             Não   \n",
              "978006                  Até R$ 954,00         Sim, dois             Não   \n",
              "1045390                 Até R$ 954,00               Não             Não   \n",
              "1465938                 Até R$ 954,00         Sim, dois             Sim   \n",
              "1565311                 Até R$ 954,00               Não             Não   \n",
              "1770530                 Até R$ 954,00               Não             Não   \n",
              "1921173  De R$ 954,01 até R$ 1.431,00               Não             Não   \n",
              "\n",
              "        Cor/Raça    Tipo_Escola  media_notas  \n",
              "426403     Parda  Não Respondeu          0.0  \n",
              "683472     Parda  Não Respondeu          0.0  \n",
              "854805     Parda  Não Respondeu          0.0  \n",
              "942425     Parda  Não Respondeu          0.0  \n",
              "978006    Branca  Não Respondeu          0.0  \n",
              "1045390    Parda  Não Respondeu          0.0  \n",
              "1465938   Branca  Não Respondeu          0.0  \n",
              "1565311    Parda  Não Respondeu          0.0  \n",
              "1770530    Parda  Não Respondeu          0.0  \n",
              "1921173    Parda  Não Respondeu          0.0  "
            ]
          },
          "metadata": {
            "tags": []
          },
          "execution_count": 20
        }
      ]
    },
    {
      "cell_type": "code",
      "metadata": {
        "id": "qW22IujESicn",
        "colab_type": "code",
        "colab": {}
      },
      "source": [
        "#Separando alunos de escola pública\n",
        "escola_publica = df.loc[df[\"Tipo_Escola\"] == \"Pública\"]"
      ],
      "execution_count": 0,
      "outputs": []
    },
    {
      "cell_type": "code",
      "metadata": {
        "id": "Z95p5yLcSic2",
        "colab_type": "code",
        "colab": {}
      },
      "source": [
        "#Separando alunos de escola privada\n",
        "escola_privada = df.loc[df[\"Tipo_Escola\"] == \"Privada\"]"
      ],
      "execution_count": 0,
      "outputs": []
    },
    {
      "cell_type": "code",
      "metadata": {
        "id": "291wAfIhSic9",
        "colab_type": "code",
        "colab": {},
        "outputId": "13c3f82a-e355-43d5-da9d-4367fb208918"
      },
      "source": [
        "#Diferença nas médias de escola pública e privada\n",
        "dif_medias = escola_publica[\"media_notas\"].mean() - escola_privada[\"media_notas\"].mean()\n",
        "dif_medias"
      ],
      "execution_count": 0,
      "outputs": [
        {
          "output_type": "execute_result",
          "data": {
            "text/plain": [
              "-19.556165799289374"
            ]
          },
          "metadata": {
            "tags": []
          },
          "execution_count": 23
        }
      ]
    },
    {
      "cell_type": "code",
      "metadata": {
        "id": "Gye0Zgw5SidK",
        "colab_type": "code",
        "colab": {}
      },
      "source": [
        "import statsmodels.api as sm"
      ],
      "execution_count": 0,
      "outputs": []
    },
    {
      "cell_type": "code",
      "metadata": {
        "id": "Y1RNzGYRSida",
        "colab_type": "code",
        "colab": {}
      },
      "source": [
        "#Testando a primeira Hipótese\n",
        "N1 = escola_publica[\"media_notas\"] \n",
        "N2 = escola_privada[\"media_notas\"]\n",
        "resultado_teste = sm.stats.ttest_ind(x1=N1,x2=N2, value=0, alternative=\"two-sided\", weights=(None, None),usevar='pooled')"
      ],
      "execution_count": 0,
      "outputs": []
    },
    {
      "cell_type": "code",
      "metadata": {
        "id": "gLuuV0-FSidp",
        "colab_type": "code",
        "colab": {}
      },
      "source": [
        "#Criando função para exibir o resultado do teste de hipótese\n",
        "def resultado_hipotese(resultado_teste):\n",
        "    if resultado_teste <= 0.05:\n",
        "        print(\"Rejeita-se a hipótese nula\")\n",
        "    else:\n",
        "        print(\"Falha em rejeitar a Hipótese nula\")"
      ],
      "execution_count": 0,
      "outputs": []
    },
    {
      "cell_type": "code",
      "metadata": {
        "id": "F_PAmGJsSidw",
        "colab_type": "code",
        "colab": {},
        "outputId": "68974152-0b32-48d6-b126-4a4058d6ca8d"
      },
      "source": [
        "#Verificando o p-value do teste\n",
        "resultado_hipotese(resultado_teste[1])"
      ],
      "execution_count": 0,
      "outputs": [
        {
          "output_type": "stream",
          "text": [
            "Rejeita-se a hipótese nula\n"
          ],
          "name": "stdout"
        }
      ]
    },
    {
      "cell_type": "code",
      "metadata": {
        "id": "q42Jt_TPSieA",
        "colab_type": "code",
        "colab": {},
        "outputId": "b8117111-39f7-47a3-b534-08a86faa8a90"
      },
      "source": [
        "#Exibindo o resultado do teste\n",
        "resultado_teste"
      ],
      "execution_count": 0,
      "outputs": [
        {
          "output_type": "execute_result",
          "data": {
            "text/plain": [
              "(-27.437951216981904, 1.1433167334345974e-165, 850112.0)"
            ]
          },
          "metadata": {
            "tags": []
          },
          "execution_count": 28
        }
      ]
    },
    {
      "cell_type": "code",
      "metadata": {
        "id": "uCA7mfrvSieM",
        "colab_type": "code",
        "colab": {},
        "outputId": "ba3ecebf-b275-4d54-81dc-4ddae56904e4"
      },
      "source": [
        "#Boxplot das médias por tipo de escola\n",
        "#matplotlib inline\n",
        "sns.boxplot(x=df[\"Tipo_Escola\"],y=df[\"media_notas\"], data=df)\n",
        "plt.savefig(\"Boxplot_tipoEscola.png\")"
      ],
      "execution_count": 0,
      "outputs": [
        {
          "output_type": "display_data",
          "data": {
            "image/png": "[encoded data removed]",
            "text/plain": [
              "<Figure size 432x288 with 1 Axes>"
            ]
          },
          "metadata": {
            "tags": [],
            "needs_background": "light"
          }
        }
      ]
    },
    {
      "cell_type": "code",
      "metadata": {
        "id": "tt978uGtSieY",
        "colab_type": "code",
        "colab": {}
      },
      "source": [
        "#Separando os alunos de baixa renda\n",
        "baixa_renda = df.loc[(df[\"Renda_Mensal\"] == \"Nenhuma renda\") | (df[\"Renda_Mensal\"] == \"Até R$ 954,00\") | (df[\"Renda_Mensal\"]\n",
        "                == \"De R$ 954,01 até R$ 1.431,00\") | (df[\"Renda_Mensal\"] == \"De R$ 1.431,01 até R$ 1.908,00\") | (df[\"Renda_Mensal\"]\n",
        "                == \"De R$ 1.908,01 até R$ 2.385,00\") | (df[\"Renda_Mensal\"] == \"De R$ 2.385,01 até R$ 2.862,00\")] "
      ],
      "execution_count": 0,
      "outputs": []
    },
    {
      "cell_type": "code",
      "metadata": {
        "id": "vZwtH1K1Sief",
        "colab_type": "code",
        "colab": {},
        "outputId": "a6d755b1-4643-497d-d26a-352c9ee3403d"
      },
      "source": [
        "baixa_renda.shape"
      ],
      "execution_count": 0,
      "outputs": [
        {
          "output_type": "execute_result",
          "data": {
            "text/plain": [
              "(2924003, 17)"
            ]
          },
          "metadata": {
            "tags": []
          },
          "execution_count": 31
        }
      ]
    },
    {
      "cell_type": "code",
      "metadata": {
        "id": "T6ockA2USiet",
        "colab_type": "code",
        "colab": {},
        "outputId": "1f81acec-cbff-4bdc-9dfd-07e249282dd9"
      },
      "source": [
        "escola_publica.shape"
      ],
      "execution_count": 0,
      "outputs": [
        {
          "output_type": "execute_result",
          "data": {
            "text/plain": [
              "(840352, 17)"
            ]
          },
          "metadata": {
            "tags": []
          },
          "execution_count": 32
        }
      ]
    },
    {
      "cell_type": "code",
      "metadata": {
        "id": "KPjJ3sv7Siey",
        "colab_type": "code",
        "colab": {},
        "outputId": "35563e57-8eb3-4e08-a61b-b1dcb0a1f9de"
      },
      "source": [
        "escola_privada.shape"
      ],
      "execution_count": 0,
      "outputs": [
        {
          "output_type": "execute_result",
          "data": {
            "text/plain": [
              "(9762, 17)"
            ]
          },
          "metadata": {
            "tags": []
          },
          "execution_count": 33
        }
      ]
    },
    {
      "cell_type": "code",
      "metadata": {
        "id": "6isGYw2BSie_",
        "colab_type": "code",
        "colab": {}
      },
      "source": [
        "#separando os alunos de renda média\n",
        "renda_media = df.loc[(df[\"Renda_Mensal\"] == \"De R$ 2.862,01 até R$ 3.816,00\") | (df[\"Renda_Mensal\"] == \"De R$ 3.816,01 até R$ 4.770,00\") | (df[\"Renda_Mensal\"]\n",
        "                == \"De R$ 4.770,01 até R$ 5.724,00\") | (df[\"Renda_Mensal\"] == \"De R$ 5.724,01 até R$ 6.678,00\")] "
      ],
      "execution_count": 0,
      "outputs": []
    },
    {
      "cell_type": "code",
      "metadata": {
        "id": "QqVbtMxFSifE",
        "colab_type": "code",
        "colab": {},
        "outputId": "64800d38-5701-40d0-ba17-618840d3d251"
      },
      "source": [
        "renda_media.shape"
      ],
      "execution_count": 0,
      "outputs": [
        {
          "output_type": "execute_result",
          "data": {
            "text/plain": [
              "(664514, 14)"
            ]
          },
          "metadata": {
            "tags": []
          },
          "execution_count": 48
        }
      ]
    },
    {
      "cell_type": "code",
      "metadata": {
        "id": "2C0ye2AySifN",
        "colab_type": "code",
        "colab": {}
      },
      "source": [
        "#Separando os alunos de alta renda\n",
        "alta_renda = df.loc[(df[\"Renda_Mensal\"] == \"De R$ 6.678,01 até R$ 7.632,00\") | (df[\"Renda_Mensal\"] == \"De R$ 7.632,01 até R$ 8.586,00\") | (df[\"Renda_Mensal\"]\n",
        "                == \"De R$ 8.586,01 até R$ 9.540,00\") | (df[\"Renda_Mensal\"] == \"De R$ 9.540,01 até R$ 11.448,00\")\n",
        "                  | (df[\"Renda_Mensal\"] == \"De R$ 11.448,01 até R$ 14.310,00\")] "
      ],
      "execution_count": 0,
      "outputs": []
    },
    {
      "cell_type": "code",
      "metadata": {
        "id": "EI0oMYVwSifR",
        "colab_type": "code",
        "colab": {},
        "outputId": "3b6ec465-50c8-4b8e-f6ce-5e682b07f525"
      },
      "source": [
        "alta_renda.shape"
      ],
      "execution_count": 0,
      "outputs": [
        {
          "output_type": "execute_result",
          "data": {
            "text/plain": [
              "(185740, 14)"
            ]
          },
          "metadata": {
            "tags": []
          },
          "execution_count": 50
        }
      ]
    },
    {
      "cell_type": "code",
      "metadata": {
        "id": "XSVIM8cFSiff",
        "colab_type": "code",
        "colab": {}
      },
      "source": [
        "#total de alunos com renda maior que 19 mil\n",
        "renda1 = df.loc[(df[\"Renda_Mensal\"] == \"Mais de R$ 19.080,00\")]"
      ],
      "execution_count": 0,
      "outputs": []
    },
    {
      "cell_type": "code",
      "metadata": {
        "id": "RG2j5fiISifj",
        "colab_type": "code",
        "colab": {},
        "outputId": "a29d65d3-fca4-46a0-d18c-63fde99d0fab"
      },
      "source": [
        "renda1.shape"
      ],
      "execution_count": 0,
      "outputs": [
        {
          "output_type": "execute_result",
          "data": {
            "text/plain": [
              "(45020, 14)"
            ]
          },
          "metadata": {
            "tags": []
          },
          "execution_count": 52
        }
      ]
    },
    {
      "cell_type": "code",
      "metadata": {
        "id": "eMMFN2MWSif0",
        "colab_type": "code",
        "colab": {}
      },
      "source": [
        "#Testando a segunda hipótese\n",
        "N3 = baixa_renda[\"media_notas\"] \n",
        "N4 = renda_media[\"media_notas\"]\n",
        "resultado_teste1 = sm.stats.ttest_ind(x1=N3,x2=N4, value=0, alternative=\"two-sided\", weights=(None, None),usevar='pooled')"
      ],
      "execution_count": 0,
      "outputs": []
    },
    {
      "cell_type": "code",
      "metadata": {
        "id": "adF6_uWsSigD",
        "colab_type": "code",
        "colab": {},
        "outputId": "ffacbe7c-06da-40ad-e544-46f2ad65ed00"
      },
      "source": [
        "resultado_teste1"
      ],
      "execution_count": 0,
      "outputs": [
        {
          "output_type": "execute_result",
          "data": {
            "text/plain": [
              "(-642.3952374962714, 0.0, 3588515.0)"
            ]
          },
          "metadata": {
            "tags": []
          },
          "execution_count": 61
        }
      ]
    },
    {
      "cell_type": "code",
      "metadata": {
        "id": "emfpb5GESigM",
        "colab_type": "code",
        "colab": {},
        "outputId": "8e1323c7-1a28-43a4-b89c-66a70e8d7d5c"
      },
      "source": [
        "resultado_hipotese(resultado_teste1[1])"
      ],
      "execution_count": 0,
      "outputs": [
        {
          "output_type": "stream",
          "text": [
            "Rejeita-se a hipótese nula\n"
          ],
          "name": "stdout"
        }
      ]
    },
    {
      "cell_type": "code",
      "metadata": {
        "id": "0GH8yuvZSigR",
        "colab_type": "code",
        "colab": {}
      },
      "source": [
        "#Testando a segunda hipótese\n",
        "N5 = renda_media[\"media_notas\"] \n",
        "N6 = alta_renda[\"media_notas\"]\n",
        "resultado_teste2 = sm.stats.ttest_ind(x1=N5,x2=N6, value=0, alternative=\"two-sided\", weights=(None, None),usevar='pooled')"
      ],
      "execution_count": 0,
      "outputs": []
    },
    {
      "cell_type": "code",
      "metadata": {
        "id": "hfhpNEXpSigU",
        "colab_type": "code",
        "colab": {},
        "outputId": "356a4d99-c5a6-495d-a1ac-450d095c5bd5"
      },
      "source": [
        "resultado_teste2"
      ],
      "execution_count": 0,
      "outputs": [
        {
          "output_type": "execute_result",
          "data": {
            "text/plain": [
              "(-191.49964452747182, 0.0, 850252.0)"
            ]
          },
          "metadata": {
            "tags": []
          },
          "execution_count": 64
        }
      ]
    },
    {
      "cell_type": "code",
      "metadata": {
        "id": "uqUd_7RBSigg",
        "colab_type": "code",
        "colab": {},
        "outputId": "c6f6924c-c1fb-49c5-bb4f-e3d9b7680a87"
      },
      "source": [
        "resultado_hipotese(resultado_teste2[1])"
      ],
      "execution_count": 0,
      "outputs": [
        {
          "output_type": "stream",
          "text": [
            "Rejeita-se a hipótese nula\n"
          ],
          "name": "stdout"
        }
      ]
    },
    {
      "cell_type": "code",
      "metadata": {
        "id": "olFQ1X5tSihT",
        "colab_type": "code",
        "colab": {},
        "outputId": "cb6c2409-a885-4d54-b651-697801586eec"
      },
      "source": [
        "baixa_renda[\"media_notas\"].mean()"
      ],
      "execution_count": 0,
      "outputs": [
        {
          "output_type": "execute_result",
          "data": {
            "text/plain": [
              "509.28867706357073"
            ]
          },
          "metadata": {
            "tags": []
          },
          "execution_count": 51
        }
      ]
    },
    {
      "cell_type": "code",
      "metadata": {
        "id": "KwqxXLW8Sihh",
        "colab_type": "code",
        "colab": {},
        "outputId": "d1b983af-720e-4bd1-9e1a-a1e0d767f82d"
      },
      "source": [
        "renda_media[\"media_notas\"].mean()"
      ],
      "execution_count": 0,
      "outputs": [
        {
          "output_type": "execute_result",
          "data": {
            "text/plain": [
              "571.9322580111025"
            ]
          },
          "metadata": {
            "tags": []
          },
          "execution_count": 49
        }
      ]
    },
    {
      "cell_type": "code",
      "metadata": {
        "id": "_gP5JLPUSihp",
        "colab_type": "code",
        "colab": {},
        "outputId": "21a8fb6d-2578-4e86-d663-7f0e052d971b"
      },
      "source": [
        "alta_renda[\"media_notas\"].mean()"
      ],
      "execution_count": 0,
      "outputs": [
        {
          "output_type": "execute_result",
          "data": {
            "text/plain": [
              "616.135196216274"
            ]
          },
          "metadata": {
            "tags": []
          },
          "execution_count": 48
        }
      ]
    },
    {
      "cell_type": "code",
      "metadata": {
        "scrolled": true,
        "id": "7clAbLw6Sih5",
        "colab_type": "code",
        "colab": {},
        "outputId": "5d5d19f9-fed0-41f2-a810-31a997e76ca9"
      },
      "source": [
        "#matplotlib notebook\n",
        "#Boxplot das médias por alunos de baixa renda\n",
        "plt.figure(figsize=(15,10))\n",
        "sns.boxplot(x=baixa_renda[\"Renda_Mensal\"],y=df[\"media_notas\"], data=df)\n",
        "sns.despine(offset=10, trim=True)"
      ],
      "execution_count": 0,
      "outputs": [
        {
          "output_type": "display_data",
          "data": {
            "image/png": "[encoded data removed]",
            "text/plain": [
              "<Figure size 1080x720 with 1 Axes>"
            ]
          },
          "metadata": {
            "tags": [],
            "needs_background": "light"
          }
        }
      ]
    },
    {
      "cell_type": "code",
      "metadata": {
        "id": "Vlcb6G0qSiiD",
        "colab_type": "code",
        "colab": {},
        "outputId": "6ebae7cb-0468-4bad-ac39-f23ce57adbcc"
      },
      "source": [
        "%matplotlib inline\n",
        "#Boxplot das médias por alunos de renda média\n",
        "#plt.figure(figsize=(10,10))\n",
        "sns.boxplot(x=renda_media[\"categoria_renda\"],y=df[\"media_notas\"], data=df)\n",
        "sns.despine(offset=10, trim=True)"
      ],
      "execution_count": 0,
      "outputs": [
        {
          "output_type": "display_data",
          "data": {
            "image/png": "[encoded data removed]",
            "text/plain": [
              "<Figure size 432x288 with 1 Axes>"
            ]
          },
          "metadata": {
            "tags": [],
            "needs_background": "light"
          }
        }
      ]
    },
    {
      "cell_type": "code",
      "metadata": {
        "id": "Pfr7CR9jSiiI",
        "colab_type": "code",
        "colab": {},
        "outputId": "ec7daf33-974f-4207-e40a-1444c38b006f"
      },
      "source": [
        "%matplotlib notebook\n",
        "#Boxplot das médias por alunos de alta renda\n",
        "#plt.figure(figsize=(10,10))\n",
        "sns.boxplot(x=alta_renda[\"Renda_Mensal\"],y=df[\"media_notas\"], data=df)\n",
        "sns.despine(offset=10, trim=True)"
      ],
      "execution_count": 0,
      "outputs": [
        {
          "output_type": "display_data",
          "data": {
            "application/javascript": [
              "/* Put everything inside the global mpl namespace */\n",
              "window.mpl = {};\n",
              "\n",
              "\n",
              "mpl.get_websocket_type = function() {\n",
              "    if (typeof(WebSocket) !== 'undefined') {\n",
              "        return WebSocket;\n",
              "    } else if (typeof(MozWebSocket) !== 'undefined') {\n",
              "        return MozWebSocket;\n",
              "    } else {\n",
              "        alert('Your browser does not have WebSocket support. ' +\n",
              "              'Please try Chrome, Safari or Firefox ≥ 6. ' +\n",
              "              'Firefox 4 and 5 are also supported but you ' +\n",
              "              'have to enable WebSockets in about:config.');\n",
              "    };\n",
              "}\n",
              "\n",
              "mpl.figure = function(figure_id, websocket, ondownload, parent_element) {\n",
              "    this.id = figure_id;\n",
              "\n",
              "    this.ws = websocket;\n",
              "\n",
              "    this.supports_binary = (this.ws.binaryType != undefined);\n",
              "\n",
              "    if (!this.supports_binary) {\n",
              "        var warnings = document.getElementById(\"mpl-warnings\");\n",
              "        if (warnings) {\n",
              "            warnings.style.display = 'block';\n",
              "            warnings.textContent = (\n",
              "                \"This browser does not support binary websocket messages. \" +\n",
              "                    \"Performance may be slow.\");\n",
              "        }\n",
              "    }\n",
              "\n",
              "    this.imageObj = new Image();\n",
              "\n",
              "    this.context = undefined;\n",
              "    this.message = undefined;\n",
              "    this.canvas = undefined;\n",
              "    this.rubberband_canvas = undefined;\n",
              "    this.rubberband_context = undefined;\n",
              "    this.format_dropdown = undefined;\n",
              "\n",
              "    this.image_mode = 'full';\n",
              "\n",
              "    this.root = $('<div/>');\n",
              "    this._root_extra_style(this.root)\n",
              "    this.root.attr('style', 'display: inline-block');\n",
              "\n",
              "    $(parent_element).append(this.root);\n",
              "\n",
              "    this._init_header(this);\n",
              "    this._init_canvas(this);\n",
              "    this._init_toolbar(this);\n",
              "\n",
              "    var fig = this;\n",
              "\n",
              "    this.waiting = false;\n",
              "\n",
              "    this.ws.onopen =  function () {\n",
              "            fig.send_message(\"supports_binary\", {value: fig.supports_binary});\n",
              "            fig.send_message(\"send_image_mode\", {});\n",
              "            if (mpl.ratio != 1) {\n",
              "                fig.send_message(\"set_dpi_ratio\", {'dpi_ratio': mpl.ratio});\n",
              "            }\n",
              "            fig.send_message(\"refresh\", {});\n",
              "        }\n",
              "\n",
              "    this.imageObj.onload = function() {\n",
              "            if (fig.image_mode == 'full') {\n",
              "                // Full images could contain transparency (where diff images\n",
              "                // almost always do), so we need to clear the canvas so that\n",
              "                // there is no ghosting.\n",
              "                fig.context.clearRect(0, 0, fig.canvas.width, fig.canvas.height);\n",
              "            }\n",
              "            fig.context.drawImage(fig.imageObj, 0, 0);\n",
              "        };\n",
              "\n",
              "    this.imageObj.onunload = function() {\n",
              "        fig.ws.close();\n",
              "    }\n",
              "\n",
              "    this.ws.onmessage = this._make_on_message_function(this);\n",
              "\n",
              "    this.ondownload = ondownload;\n",
              "}\n",
              "\n",
              "mpl.figure.prototype._init_header = function() {\n",
              "    var titlebar = $(\n",
              "        '<div class=\"ui-dialog-titlebar ui-widget-header ui-corner-all ' +\n",
              "        'ui-helper-clearfix\"/>');\n",
              "    var titletext = $(\n",
              "        '<div class=\"ui-dialog-title\" style=\"width: 100%; ' +\n",
              "        'text-align: center; padding: 3px;\"/>');\n",
              "    titlebar.append(titletext)\n",
              "    this.root.append(titlebar);\n",
              "    this.header = titletext[0];\n",
              "}\n",
              "\n",
              "\n",
              "\n",
              "mpl.figure.prototype._canvas_extra_style = function(canvas_div) {\n",
              "\n",
              "}\n",
              "\n",
              "\n",
              "mpl.figure.prototype._root_extra_style = function(canvas_div) {\n",
              "\n",
              "}\n",
              "\n",
              "mpl.figure.prototype._init_canvas = function() {\n",
              "    var fig = this;\n",
              "\n",
              "    var canvas_div = $('<div/>');\n",
              "\n",
              "    canvas_div.attr('style', 'position: relative; clear: both; outline: 0');\n",
              "\n",
              "    function canvas_keyboard_event(event) {\n",
              "        return fig.key_event(event, event['data']);\n",
              "    }\n",
              "\n",
              "    canvas_div.keydown('key_press', canvas_keyboard_event);\n",
              "    canvas_div.keyup('key_release', canvas_keyboard_event);\n",
              "    this.canvas_div = canvas_div\n",
              "    this._canvas_extra_style(canvas_div)\n",
              "    this.root.append(canvas_div);\n",
              "\n",
              "    var canvas = $('<canvas/>');\n",
              "    canvas.addClass('mpl-canvas');\n",
              "    canvas.attr('style', \"left: 0; top: 0; z-index: 0; outline: 0\")\n",
              "\n",
              "    this.canvas = canvas[0];\n",
              "    this.context = canvas[0].getContext(\"2d\");\n",
              "\n",
              "    var backingStore = this.context.backingStorePixelRatio ||\n",
              "\tthis.context.webkitBackingStorePixelRatio ||\n",
              "\tthis.context.mozBackingStorePixelRatio ||\n",
              "\tthis.context.msBackingStorePixelRatio ||\n",
              "\tthis.context.oBackingStorePixelRatio ||\n",
              "\tthis.context.backingStorePixelRatio || 1;\n",
              "\n",
              "    mpl.ratio = (window.devicePixelRatio || 1) / backingStore;\n",
              "\n",
              "    var rubberband = $('<canvas/>');\n",
              "    rubberband.attr('style', \"position: absolute; left: 0; top: 0; z-index: 1;\")\n",
              "\n",
              "    var pass_mouse_events = true;\n",
              "\n",
              "    canvas_div.resizable({\n",
              "        start: function(event, ui) {\n",
              "            pass_mouse_events = false;\n",
              "        },\n",
              "        resize: function(event, ui) {\n",
              "            fig.request_resize(ui.size.width, ui.size.height);\n",
              "        },\n",
              "        stop: function(event, ui) {\n",
              "            pass_mouse_events = true;\n",
              "            fig.request_resize(ui.size.width, ui.size.height);\n",
              "        },\n",
              "    });\n",
              "\n",
              "    function mouse_event_fn(event) {\n",
              "        if (pass_mouse_events)\n",
              "            return fig.mouse_event(event, event['data']);\n",
              "    }\n",
              "\n",
              "    rubberband.mousedown('button_press', mouse_event_fn);\n",
              "    rubberband.mouseup('button_release', mouse_event_fn);\n",
              "    // Throttle sequential mouse events to 1 every 20ms.\n",
              "    rubberband.mousemove('motion_notify', mouse_event_fn);\n",
              "\n",
              "    rubberband.mouseenter('figure_enter', mouse_event_fn);\n",
              "    rubberband.mouseleave('figure_leave', mouse_event_fn);\n",
              "\n",
              "    canvas_div.on(\"wheel\", function (event) {\n",
              "        event = event.originalEvent;\n",
              "        event['data'] = 'scroll'\n",
              "        if (event.deltaY < 0) {\n",
              "            event.step = 1;\n",
              "        } else {\n",
              "            event.step = -1;\n",
              "        }\n",
              "        mouse_event_fn(event);\n",
              "    });\n",
              "\n",
              "    canvas_div.append(canvas);\n",
              "    canvas_div.append(rubberband);\n",
              "\n",
              "    this.rubberband = rubberband;\n",
              "    this.rubberband_canvas = rubberband[0];\n",
              "    this.rubberband_context = rubberband[0].getContext(\"2d\");\n",
              "    this.rubberband_context.strokeStyle = \"#000000\";\n",
              "\n",
              "    this._resize_canvas = function(width, height) {\n",
              "        // Keep the size of the canvas, canvas container, and rubber band\n",
              "        // canvas in synch.\n",
              "        canvas_div.css('width', width)\n",
              "        canvas_div.css('height', height)\n",
              "\n",
              "        canvas.attr('width', width * mpl.ratio);\n",
              "        canvas.attr('height', height * mpl.ratio);\n",
              "        canvas.attr('style', 'width: ' + width + 'px; height: ' + height + 'px;');\n",
              "\n",
              "        rubberband.attr('width', width);\n",
              "        rubberband.attr('height', height);\n",
              "    }\n",
              "\n",
              "    // Set the figure to an initial 600x600px, this will subsequently be updated\n",
              "    // upon first draw.\n",
              "    this._resize_canvas(600, 600);\n",
              "\n",
              "    // Disable right mouse context menu.\n",
              "    $(this.rubberband_canvas).bind(\"contextmenu\",function(e){\n",
              "        return false;\n",
              "    });\n",
              "\n",
              "    function set_focus () {\n",
              "        canvas.focus();\n",
              "        canvas_div.focus();\n",
              "    }\n",
              "\n",
              "    window.setTimeout(set_focus, 100);\n",
              "}\n",
              "\n",
              "mpl.figure.prototype._init_toolbar = function() {\n",
              "    var fig = this;\n",
              "\n",
              "    var nav_element = $('<div/>');\n",
              "    nav_element.attr('style', 'width: 100%');\n",
              "    this.root.append(nav_element);\n",
              "\n",
              "    // Define a callback function for later on.\n",
              "    function toolbar_event(event) {\n",
              "        return fig.toolbar_button_onclick(event['data']);\n",
              "    }\n",
              "    function toolbar_mouse_event(event) {\n",
              "        return fig.toolbar_button_onmouseover(event['data']);\n",
              "    }\n",
              "\n",
              "    for(var toolbar_ind in mpl.toolbar_items) {\n",
              "        var name = mpl.toolbar_items[toolbar_ind][0];\n",
              "        var tooltip = mpl.toolbar_items[toolbar_ind][1];\n",
              "        var image = mpl.toolbar_items[toolbar_ind][2];\n",
              "        var method_name = mpl.toolbar_items[toolbar_ind][3];\n",
              "\n",
              "        if (!name) {\n",
              "            // put a spacer in here.\n",
              "            continue;\n",
              "        }\n",
              "        var button = $('<button/>');\n",
              "        button.addClass('ui-button ui-widget ui-state-default ui-corner-all ' +\n",
              "                        'ui-button-icon-only');\n",
              "        button.attr('role', 'button');\n",
              "        button.attr('aria-disabled', 'false');\n",
              "        button.click(method_name, toolbar_event);\n",
              "        button.mouseover(tooltip, toolbar_mouse_event);\n",
              "\n",
              "        var icon_img = $('<span/>');\n",
              "        icon_img.addClass('ui-button-icon-primary ui-icon');\n",
              "        icon_img.addClass(image);\n",
              "        icon_img.addClass('ui-corner-all');\n",
              "\n",
              "        var tooltip_span = $('<span/>');\n",
              "        tooltip_span.addClass('ui-button-text');\n",
              "        tooltip_span.html(tooltip);\n",
              "\n",
              "        button.append(icon_img);\n",
              "        button.append(tooltip_span);\n",
              "\n",
              "        nav_element.append(button);\n",
              "    }\n",
              "\n",
              "    var fmt_picker_span = $('<span/>');\n",
              "\n",
              "    var fmt_picker = $('<select/>');\n",
              "    fmt_picker.addClass('mpl-toolbar-option ui-widget ui-widget-content');\n",
              "    fmt_picker_span.append(fmt_picker);\n",
              "    nav_element.append(fmt_picker_span);\n",
              "    this.format_dropdown = fmt_picker[0];\n",
              "\n",
              "    for (var ind in mpl.extensions) {\n",
              "        var fmt = mpl.extensions[ind];\n",
              "        var option = $(\n",
              "            '<option/>', {selected: fmt === mpl.default_extension}).html(fmt);\n",
              "        fmt_picker.append(option);\n",
              "    }\n",
              "\n",
              "    // Add hover states to the ui-buttons\n",
              "    $( \".ui-button\" ).hover(\n",
              "        function() { $(this).addClass(\"ui-state-hover\");},\n",
              "        function() { $(this).removeClass(\"ui-state-hover\");}\n",
              "    );\n",
              "\n",
              "    var status_bar = $('<span class=\"mpl-message\"/>');\n",
              "    nav_element.append(status_bar);\n",
              "    this.message = status_bar[0];\n",
              "}\n",
              "\n",
              "mpl.figure.prototype.request_resize = function(x_pixels, y_pixels) {\n",
              "    // Request matplotlib to resize the figure. Matplotlib will then trigger a resize in the client,\n",
              "    // which will in turn request a refresh of the image.\n",
              "    this.send_message('resize', {'width': x_pixels, 'height': y_pixels});\n",
              "}\n",
              "\n",
              "mpl.figure.prototype.send_message = function(type, properties) {\n",
              "    properties['type'] = type;\n",
              "    properties['figure_id'] = this.id;\n",
              "    this.ws.send(JSON.stringify(properties));\n",
              "}\n",
              "\n",
              "mpl.figure.prototype.send_draw_message = function() {\n",
              "    if (!this.waiting) {\n",
              "        this.waiting = true;\n",
              "        this.ws.send(JSON.stringify({type: \"draw\", figure_id: this.id}));\n",
              "    }\n",
              "}\n",
              "\n",
              "\n",
              "mpl.figure.prototype.handle_save = function(fig, msg) {\n",
              "    var format_dropdown = fig.format_dropdown;\n",
              "    var format = format_dropdown.options[format_dropdown.selectedIndex].value;\n",
              "    fig.ondownload(fig, format);\n",
              "}\n",
              "\n",
              "\n",
              "mpl.figure.prototype.handle_resize = function(fig, msg) {\n",
              "    var size = msg['size'];\n",
              "    if (size[0] != fig.canvas.width || size[1] != fig.canvas.height) {\n",
              "        fig._resize_canvas(size[0], size[1]);\n",
              "        fig.send_message(\"refresh\", {});\n",
              "    };\n",
              "}\n",
              "\n",
              "mpl.figure.prototype.handle_rubberband = function(fig, msg) {\n",
              "    var x0 = msg['x0'] / mpl.ratio;\n",
              "    var y0 = (fig.canvas.height - msg['y0']) / mpl.ratio;\n",
              "    var x1 = msg['x1'] / mpl.ratio;\n",
              "    var y1 = (fig.canvas.height - msg['y1']) / mpl.ratio;\n",
              "    x0 = Math.floor(x0) + 0.5;\n",
              "    y0 = Math.floor(y0) + 0.5;\n",
              "    x1 = Math.floor(x1) + 0.5;\n",
              "    y1 = Math.floor(y1) + 0.5;\n",
              "    var min_x = Math.min(x0, x1);\n",
              "    var min_y = Math.min(y0, y1);\n",
              "    var width = Math.abs(x1 - x0);\n",
              "    var height = Math.abs(y1 - y0);\n",
              "\n",
              "    fig.rubberband_context.clearRect(\n",
              "        0, 0, fig.canvas.width, fig.canvas.height);\n",
              "\n",
              "    fig.rubberband_context.strokeRect(min_x, min_y, width, height);\n",
              "}\n",
              "\n",
              "mpl.figure.prototype.handle_figure_label = function(fig, msg) {\n",
              "    // Updates the figure title.\n",
              "    fig.header.textContent = msg['label'];\n",
              "}\n",
              "\n",
              "mpl.figure.prototype.handle_cursor = function(fig, msg) {\n",
              "    var cursor = msg['cursor'];\n",
              "    switch(cursor)\n",
              "    {\n",
              "    case 0:\n",
              "        cursor = 'pointer';\n",
              "        break;\n",
              "    case 1:\n",
              "        cursor = 'default';\n",
              "        break;\n",
              "    case 2:\n",
              "        cursor = 'crosshair';\n",
              "        break;\n",
              "    case 3:\n",
              "        cursor = 'move';\n",
              "        break;\n",
              "    }\n",
              "    fig.rubberband_canvas.style.cursor = cursor;\n",
              "}\n",
              "\n",
              "mpl.figure.prototype.handle_message = function(fig, msg) {\n",
              "    fig.message.textContent = msg['message'];\n",
              "}\n",
              "\n",
              "mpl.figure.prototype.handle_draw = function(fig, msg) {\n",
              "    // Request the server to send over a new figure.\n",
              "    fig.send_draw_message();\n",
              "}\n",
              "\n",
              "mpl.figure.prototype.handle_image_mode = function(fig, msg) {\n",
              "    fig.image_mode = msg['mode'];\n",
              "}\n",
              "\n",
              "mpl.figure.prototype.updated_canvas_event = function() {\n",
              "    // Called whenever the canvas gets updated.\n",
              "    this.send_message(\"ack\", {});\n",
              "}\n",
              "\n",
              "// A function to construct a web socket function for onmessage handling.\n",
              "// Called in the figure constructor.\n",
              "mpl.figure.prototype._make_on_message_function = function(fig) {\n",
              "    return function socket_on_message(evt) {\n",
              "        if (evt.data instanceof Blob) {\n",
              "            /* FIXME: We get \"Resource interpreted as Image but\n",
              "             * transferred with MIME type text/plain:\" errors on\n",
              "             * Chrome.  But how to set the MIME type?  It doesn't seem\n",
              "             * to be part of the websocket stream */\n",
              "            evt.data.type = \"image/png\";\n",
              "\n",
              "            /* Free the memory for the previous frames */\n",
              "            if (fig.imageObj.src) {\n",
              "                (window.URL || window.webkitURL).revokeObjectURL(\n",
              "                    fig.imageObj.src);\n",
              "            }\n",
              "\n",
              "            fig.imageObj.src = (window.URL || window.webkitURL).createObjectURL(\n",
              "                evt.data);\n",
              "            fig.updated_canvas_event();\n",
              "            fig.waiting = false;\n",
              "            return;\n",
              "        }\n",
              "        else if (typeof evt.data === 'string' && evt.data.slice(0, 21) == \"data:image/png;base64\") {\n",
              "            fig.imageObj.src = evt.data;\n",
              "            fig.updated_canvas_event();\n",
              "            fig.waiting = false;\n",
              "            return;\n",
              "        }\n",
              "\n",
              "        var msg = JSON.parse(evt.data);\n",
              "        var msg_type = msg['type'];\n",
              "\n",
              "        // Call the  \"handle_{type}\" callback, which takes\n",
              "        // the figure and JSON message as its only arguments.\n",
              "        try {\n",
              "            var callback = fig[\"handle_\" + msg_type];\n",
              "        } catch (e) {\n",
              "            console.log(\"No handler for the '\" + msg_type + \"' message type: \", msg);\n",
              "            return;\n",
              "        }\n",
              "\n",
              "        if (callback) {\n",
              "            try {\n",
              "                // console.log(\"Handling '\" + msg_type + \"' message: \", msg);\n",
              "                callback(fig, msg);\n",
              "            } catch (e) {\n",
              "                console.log(\"Exception inside the 'handler_\" + msg_type + \"' callback:\", e, e.stack, msg);\n",
              "            }\n",
              "        }\n",
              "    };\n",
              "}\n",
              "\n",
              "// from http://stackoverflow.com/questions/1114465/getting-mouse-location-in-canvas\n",
              "mpl.findpos = function(e) {\n",
              "    //this section is from http://www.quirksmode.org/js/events_properties.html\n",
              "    var targ;\n",
              "    if (!e)\n",
              "        e = window.event;\n",
              "    if (e.target)\n",
              "        targ = e.target;\n",
              "    else if (e.srcElement)\n",
              "        targ = e.srcElement;\n",
              "    if (targ.nodeType == 3) // defeat Safari bug\n",
              "        targ = targ.parentNode;\n",
              "\n",
              "    // jQuery normalizes the pageX and pageY\n",
              "    // pageX,Y are the mouse positions relative to the document\n",
              "    // offset() returns the position of the element relative to the document\n",
              "    var x = e.pageX - $(targ).offset().left;\n",
              "    var y = e.pageY - $(targ).offset().top;\n",
              "\n",
              "    return {\"x\": x, \"y\": y};\n",
              "};\n",
              "\n",
              "/*\n",
              " * return a copy of an object with only non-object keys\n",
              " * we need this to avoid circular references\n",
              " * http://stackoverflow.com/a/24161582/3208463\n",
              " */\n",
              "function simpleKeys (original) {\n",
              "  return Object.keys(original).reduce(function (obj, key) {\n",
              "    if (typeof original[key] !== 'object')\n",
              "        obj[key] = original[key]\n",
              "    return obj;\n",
              "  }, {});\n",
              "}\n",
              "\n",
              "mpl.figure.prototype.mouse_event = function(event, name) {\n",
              "    var canvas_pos = mpl.findpos(event)\n",
              "\n",
              "    if (name === 'button_press')\n",
              "    {\n",
              "        this.canvas.focus();\n",
              "        this.canvas_div.focus();\n",
              "    }\n",
              "\n",
              "    var x = canvas_pos.x * mpl.ratio;\n",
              "    var y = canvas_pos.y * mpl.ratio;\n",
              "\n",
              "    this.send_message(name, {x: x, y: y, button: event.button,\n",
              "                             step: event.step,\n",
              "                             guiEvent: simpleKeys(event)});\n",
              "\n",
              "    /* This prevents the web browser from automatically changing to\n",
              "     * the text insertion cursor when the button is pressed.  We want\n",
              "     * to control all of the cursor setting manually through the\n",
              "     * 'cursor' event from matplotlib */\n",
              "    event.preventDefault();\n",
              "    return false;\n",
              "}\n",
              "\n",
              "mpl.figure.prototype._key_event_extra = function(event, name) {\n",
              "    // Handle any extra behaviour associated with a key event\n",
              "}\n",
              "\n",
              "mpl.figure.prototype.key_event = function(event, name) {\n",
              "\n",
              "    // Prevent repeat events\n",
              "    if (name == 'key_press')\n",
              "    {\n",
              "        if (event.which === this._key)\n",
              "            return;\n",
              "        else\n",
              "            this._key = event.which;\n",
              "    }\n",
              "    if (name == 'key_release')\n",
              "        this._key = null;\n",
              "\n",
              "    var value = '';\n",
              "    if (event.ctrlKey && event.which != 17)\n",
              "        value += \"ctrl+\";\n",
              "    if (event.altKey && event.which != 18)\n",
              "        value += \"alt+\";\n",
              "    if (event.shiftKey && event.which != 16)\n",
              "        value += \"shift+\";\n",
              "\n",
              "    value += 'k';\n",
              "    value += event.which.toString();\n",
              "\n",
              "    this._key_event_extra(event, name);\n",
              "\n",
              "    this.send_message(name, {key: value,\n",
              "                             guiEvent: simpleKeys(event)});\n",
              "    return false;\n",
              "}\n",
              "\n",
              "mpl.figure.prototype.toolbar_button_onclick = function(name) {\n",
              "    if (name == 'download') {\n",
              "        this.handle_save(this, null);\n",
              "    } else {\n",
              "        this.send_message(\"toolbar_button\", {name: name});\n",
              "    }\n",
              "};\n",
              "\n",
              "mpl.figure.prototype.toolbar_button_onmouseover = function(tooltip) {\n",
              "    this.message.textContent = tooltip;\n",
              "};\n",
              "mpl.toolbar_items = [[\"Home\", \"Reset original view\", \"fa fa-home icon-home\", \"home\"], [\"Back\", \"Back to previous view\", \"fa fa-arrow-left icon-arrow-left\", \"back\"], [\"Forward\", \"Forward to next view\", \"fa fa-arrow-right icon-arrow-right\", \"forward\"], [\"\", \"\", \"\", \"\"], [\"Pan\", \"Pan axes with left mouse, zoom with right\", \"fa fa-arrows icon-move\", \"pan\"], [\"Zoom\", \"Zoom to rectangle\", \"fa fa-square-o icon-check-empty\", \"zoom\"], [\"\", \"\", \"\", \"\"], [\"Download\", \"Download plot\", \"fa fa-floppy-o icon-save\", \"download\"]];\n",
              "\n",
              "mpl.extensions = [\"eps\", \"jpeg\", \"pdf\", \"png\", \"ps\", \"raw\", \"svg\", \"tif\"];\n",
              "\n",
              "mpl.default_extension = \"png\";var comm_websocket_adapter = function(comm) {\n",
              "    // Create a \"websocket\"-like object which calls the given IPython comm\n",
              "    // object with the appropriate methods. Currently this is a non binary\n",
              "    // socket, so there is still some room for performance tuning.\n",
              "    var ws = {};\n",
              "\n",
              "    ws.close = function() {\n",
              "        comm.close()\n",
              "    };\n",
              "    ws.send = function(m) {\n",
              "        //console.log('sending', m);\n",
              "        comm.send(m);\n",
              "    };\n",
              "    // Register the callback with on_msg.\n",
              "    comm.on_msg(function(msg) {\n",
              "        //console.log('receiving', msg['content']['data'], msg);\n",
              "        // Pass the mpl event to the overridden (by mpl) onmessage function.\n",
              "        ws.onmessage(msg['content']['data'])\n",
              "    });\n",
              "    return ws;\n",
              "}\n",
              "\n",
              "mpl.mpl_figure_comm = function(comm, msg) {\n",
              "    // This is the function which gets called when the mpl process\n",
              "    // starts-up an IPython Comm through the \"matplotlib\" channel.\n",
              "\n",
              "    var id = msg.content.data.id;\n",
              "    // Get hold of the div created by the display call when the Comm\n",
              "    // socket was opened in Python.\n",
              "    var element = $(\"#\" + id);\n",
              "    var ws_proxy = comm_websocket_adapter(comm)\n",
              "\n",
              "    function ondownload(figure, format) {\n",
              "        window.open(figure.imageObj.src);\n",
              "    }\n",
              "\n",
              "    var fig = new mpl.figure(id, ws_proxy,\n",
              "                           ondownload,\n",
              "                           element.get(0));\n",
              "\n",
              "    // Call onopen now - mpl needs it, as it is assuming we've passed it a real\n",
              "    // web socket which is closed, not our websocket->open comm proxy.\n",
              "    ws_proxy.onopen();\n",
              "\n",
              "    fig.parent_element = element.get(0);\n",
              "    fig.cell_info = mpl.find_output_cell(\"<div id='\" + id + \"'></div>\");\n",
              "    if (!fig.cell_info) {\n",
              "        console.error(\"Failed to find cell for figure\", id, fig);\n",
              "        return;\n",
              "    }\n",
              "\n",
              "    var output_index = fig.cell_info[2]\n",
              "    var cell = fig.cell_info[0];\n",
              "\n",
              "};\n",
              "\n",
              "mpl.figure.prototype.handle_close = function(fig, msg) {\n",
              "    var width = fig.canvas.width/mpl.ratio\n",
              "    fig.root.unbind('remove')\n",
              "\n",
              "    // Update the output cell to use the data from the current canvas.\n",
              "    fig.push_to_output();\n",
              "    var dataURL = fig.canvas.toDataURL();\n",
              "    // Re-enable the keyboard manager in IPython - without this line, in FF,\n",
              "    // the notebook keyboard shortcuts fail.\n",
              "    IPython.keyboard_manager.enable()\n",
              "    $(fig.parent_element).html('<img src=\"' + dataURL + '\" width=\"' + width + '\">');\n",
              "    fig.close_ws(fig, msg);\n",
              "}\n",
              "\n",
              "mpl.figure.prototype.close_ws = function(fig, msg){\n",
              "    fig.send_message('closing', msg);\n",
              "    // fig.ws.close()\n",
              "}\n",
              "\n",
              "mpl.figure.prototype.push_to_output = function(remove_interactive) {\n",
              "    // Turn the data on the canvas into data in the output cell.\n",
              "    var width = this.canvas.width/mpl.ratio\n",
              "    var dataURL = this.canvas.toDataURL();\n",
              "    this.cell_info[1]['text/html'] = '<img src=\"' + dataURL + '\" width=\"' + width + '\">';\n",
              "}\n",
              "\n",
              "mpl.figure.prototype.updated_canvas_event = function() {\n",
              "    // Tell IPython that the notebook contents must change.\n",
              "    IPython.notebook.set_dirty(true);\n",
              "    this.send_message(\"ack\", {});\n",
              "    var fig = this;\n",
              "    // Wait a second, then push the new image to the DOM so\n",
              "    // that it is saved nicely (might be nice to debounce this).\n",
              "    setTimeout(function () { fig.push_to_output() }, 1000);\n",
              "}\n",
              "\n",
              "mpl.figure.prototype._init_toolbar = function() {\n",
              "    var fig = this;\n",
              "\n",
              "    var nav_element = $('<div/>');\n",
              "    nav_element.attr('style', 'width: 100%');\n",
              "    this.root.append(nav_element);\n",
              "\n",
              "    // Define a callback function for later on.\n",
              "    function toolbar_event(event) {\n",
              "        return fig.toolbar_button_onclick(event['data']);\n",
              "    }\n",
              "    function toolbar_mouse_event(event) {\n",
              "        return fig.toolbar_button_onmouseover(event['data']);\n",
              "    }\n",
              "\n",
              "    for(var toolbar_ind in mpl.toolbar_items){\n",
              "        var name = mpl.toolbar_items[toolbar_ind][0];\n",
              "        var tooltip = mpl.toolbar_items[toolbar_ind][1];\n",
              "        var image = mpl.toolbar_items[toolbar_ind][2];\n",
              "        var method_name = mpl.toolbar_items[toolbar_ind][3];\n",
              "\n",
              "        if (!name) { continue; };\n",
              "\n",
              "        var button = $('<button class=\"btn btn-default\" href=\"#\" title=\"' + name + '\"><i class=\"fa ' + image + ' fa-lg\"></i></button>');\n",
              "        button.click(method_name, toolbar_event);\n",
              "        button.mouseover(tooltip, toolbar_mouse_event);\n",
              "        nav_element.append(button);\n",
              "    }\n",
              "\n",
              "    // Add the status bar.\n",
              "    var status_bar = $('<span class=\"mpl-message\" style=\"text-align:right; float: right;\"/>');\n",
              "    nav_element.append(status_bar);\n",
              "    this.message = status_bar[0];\n",
              "\n",
              "    // Add the close button to the window.\n",
              "    var buttongrp = $('<div class=\"btn-group inline pull-right\"></div>');\n",
              "    var button = $('<button class=\"btn btn-mini btn-primary\" href=\"#\" title=\"Stop Interaction\"><i class=\"fa fa-power-off icon-remove icon-large\"></i></button>');\n",
              "    button.click(function (evt) { fig.handle_close(fig, {}); } );\n",
              "    button.mouseover('Stop Interaction', toolbar_mouse_event);\n",
              "    buttongrp.append(button);\n",
              "    var titlebar = this.root.find($('.ui-dialog-titlebar'));\n",
              "    titlebar.prepend(buttongrp);\n",
              "}\n",
              "\n",
              "mpl.figure.prototype._root_extra_style = function(el){\n",
              "    var fig = this\n",
              "    el.on(\"remove\", function(){\n",
              "\tfig.close_ws(fig, {});\n",
              "    });\n",
              "}\n",
              "\n",
              "mpl.figure.prototype._canvas_extra_style = function(el){\n",
              "    // this is important to make the div 'focusable\n",
              "    el.attr('tabindex', 0)\n",
              "    // reach out to IPython and tell the keyboard manager to turn it's self\n",
              "    // off when our div gets focus\n",
              "\n",
              "    // location in version 3\n",
              "    if (IPython.notebook.keyboard_manager) {\n",
              "        IPython.notebook.keyboard_manager.register_events(el);\n",
              "    }\n",
              "    else {\n",
              "        // location in version 2\n",
              "        IPython.keyboard_manager.register_events(el);\n",
              "    }\n",
              "\n",
              "}\n",
              "\n",
              "mpl.figure.prototype._key_event_extra = function(event, name) {\n",
              "    var manager = IPython.notebook.keyboard_manager;\n",
              "    if (!manager)\n",
              "        manager = IPython.keyboard_manager;\n",
              "\n",
              "    // Check for shift+enter\n",
              "    if (event.shiftKey && event.which == 13) {\n",
              "        this.canvas_div.blur();\n",
              "        event.shiftKey = false;\n",
              "        // Send a \"J\" for go to next cell\n",
              "        event.which = 74;\n",
              "        event.keyCode = 74;\n",
              "        manager.command_mode();\n",
              "        manager.handle_keydown(event);\n",
              "    }\n",
              "}\n",
              "\n",
              "mpl.figure.prototype.handle_save = function(fig, msg) {\n",
              "    fig.ondownload(fig, null);\n",
              "}\n",
              "\n",
              "\n",
              "mpl.find_output_cell = function(html_output) {\n",
              "    // Return the cell and output element which can be found *uniquely* in the notebook.\n",
              "    // Note - this is a bit hacky, but it is done because the \"notebook_saving.Notebook\"\n",
              "    // IPython event is triggered only after the cells have been serialised, which for\n",
              "    // our purposes (turning an active figure into a static one), is too late.\n",
              "    var cells = IPython.notebook.get_cells();\n",
              "    var ncells = cells.length;\n",
              "    for (var i=0; i<ncells; i++) {\n",
              "        var cell = cells[i];\n",
              "        if (cell.cell_type === 'code'){\n",
              "            for (var j=0; j<cell.output_area.outputs.length; j++) {\n",
              "                var data = cell.output_area.outputs[j];\n",
              "                if (data.data) {\n",
              "                    // IPython >= 3 moved mimebundle to data attribute of output\n",
              "                    data = data.data;\n",
              "                }\n",
              "                if (data['text/html'] == html_output) {\n",
              "                    return [cell, data, j];\n",
              "                }\n",
              "            }\n",
              "        }\n",
              "    }\n",
              "}\n",
              "\n",
              "// Register the function which deals with the matplotlib target/channel.\n",
              "// The kernel may be null if the page has been refreshed.\n",
              "if (IPython.notebook.kernel != null) {\n",
              "    IPython.notebook.kernel.comm_manager.register_target('matplotlib', mpl.mpl_figure_comm);\n",
              "}\n"
            ],
            "text/plain": [
              "<IPython.core.display.Javascript object>"
            ]
          },
          "metadata": {
            "tags": []
          }
        },
        {
          "output_type": "display_data",
          "data": {
            "text/html": [
              "<img src=\"data:image/png;base64,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\" width=\"432\">"
            ],
            "text/plain": [
              "<IPython.core.display.HTML object>"
            ]
          },
          "metadata": {
            "tags": []
          }
        }
      ]
    },
    {
      "cell_type": "code",
      "metadata": {
        "id": "d_0XJHUNSiiW",
        "colab_type": "code",
        "colab": {},
        "outputId": "03757247-5bfe-43bc-c58e-6ef59c2cb58d"
      },
      "source": [
        "%matplotlib inline\n",
        "#Boxplot das médias por escolaridade do pai\n",
        "#plt.figure(figsize=(10,10))\n",
        "sns.boxplot(x=df[\"Escolaridade_Pai\"],y=df[\"media_notas\"], data=df)"
      ],
      "execution_count": 0,
      "outputs": [
        {
          "output_type": "execute_result",
          "data": {
            "text/plain": [
              "<matplotlib.axes._subplots.AxesSubplot at 0x17f293b26a0>"
            ]
          },
          "metadata": {
            "tags": []
          },
          "execution_count": 29
        },
        {
          "output_type": "display_data",
          "data": {
            "image/png": "[encoded data removed]",
            "text/plain": [
              "<Figure size 432x288 with 1 Axes>"
            ]
          },
          "metadata": {
            "tags": [],
            "needs_background": "light"
          }
        }
      ]
    },
    {
      "cell_type": "code",
      "metadata": {
        "id": "-0_QleYWSiil",
        "colab_type": "code",
        "colab": {}
      },
      "source": [
        "#Criando uma função para categorizar a renda\n",
        "def categorizarenda(l):\n",
        "    if l == \"Nenhuma renda\":\n",
        "        return \"A\"\n",
        "    elif l == \"Até R$ 954,00\":\n",
        "        return \"B\"\n",
        "    elif l == \"De R$ 954,01 até R$ 1.431,00\":\n",
        "        return \"C\"\n",
        "    elif l == \"De R$ 1.431,01 até R$ 1.908,00\":\n",
        "        return \"D\"\n",
        "    elif l == \"De R$ 1.908,01 até R$ 2.385,00\":\n",
        "        return \"E\"\n",
        "    elif l == \"De R$ 2.385,01 até R$ 2.862,00\":\n",
        "        return \"F\"\n",
        "    elif l == \"De R$ 2.862,01 até R$ 3.816,00\":\n",
        "        return \"G\"\n",
        "    elif l == \"De R$ 3.816,01 até R$ 4.770,00\":\n",
        "        return \"H\"\n",
        "    elif l == \"De R$ 4.770,01 até R$ 5.724,00\":\n",
        "        return \"I\"\n",
        "    elif l == \"De R$ 5.724,01 até R$ 6.678,00\":\n",
        "        return \"J\"\n",
        "    elif l == \"De R$ 6.678,01 até R$ 7.632,00\":\n",
        "        return \"K\"\n",
        "    elif l == \"De R$ 7.632,01 até R$ 8.586,00\":\n",
        "        return \"L\"\n",
        "    elif l == \"De R$ 8.586,01 até R$ 9.540,00\":\n",
        "        return \"M\"\n",
        "    elif l == \"De R$ 9.540,01 até R$ 11.448,00\":\n",
        "        return \"N\"\n",
        "    elif l == \"De R$ 11.448,01 até R$ 14.310,00\":\n",
        "        return \"O\"\n",
        "    elif l == \"De R$ 14.310,01 até R$ 19.080,00\":\n",
        "        return \"P\"\n",
        "    elif l == \"Mais de R$ 19.080,00\":\n",
        "        return \"Q\"\n",
        "    \n",
        "    "
      ],
      "execution_count": 0,
      "outputs": []
    },
    {
      "cell_type": "code",
      "metadata": {
        "id": "v3f9ivRcSiir",
        "colab_type": "code",
        "colab": {}
      },
      "source": [
        "#Aplicando a função de categoria de renda\n",
        "df[\"categoria_renda\"] = df[\"Renda_Mensal\"].apply(categorizarenda)"
      ],
      "execution_count": 0,
      "outputs": []
    },
    {
      "cell_type": "code",
      "metadata": {
        "id": "QBA--JzMSii3",
        "colab_type": "code",
        "colab": {},
        "outputId": "a7920c26-b6bd-4b34-848f-68f145acb11f"
      },
      "source": [
        "%matplotlib inline\n",
        "#Boxplot das médias por renda\n",
        "sns.boxplot(x=df[\"categoria_renda\"],y=df[\"media_notas\"], data=df)"
      ],
      "execution_count": 0,
      "outputs": [
        {
          "output_type": "execute_result",
          "data": {
            "text/plain": [
              "<matplotlib.axes._subplots.AxesSubplot at 0x17f1f0eb320>"
            ]
          },
          "metadata": {
            "tags": []
          },
          "execution_count": 20
        },
        {
          "output_type": "display_data",
          "data": {
            "image/png": "[encoded data removed]",
            "text/plain": [
              "<Figure size 432x288 with 1 Axes>"
            ]
          },
          "metadata": {
            "tags": [],
            "needs_background": "light"
          }
        }
      ]
    },
    {
      "cell_type": "code",
      "metadata": {
        "id": "eJPv3p1HSijL",
        "colab_type": "code",
        "colab": {}
      },
      "source": [
        "#Criando uma função para categorizar a escolaridade\n",
        "def categorizaescolaridade(w):\n",
        "    if w == \"Nunca estudou\":\n",
        "        return \"A\"\n",
        "    elif w == \"Não completou a 4ª série/5º ano do Ensino Fundamental\":\n",
        "        return \"B\"\n",
        "    elif w == \"Completou a 4ª série/5º ano, mas não completou a 8ª série/9º ano do Ensino Fundamental\":\n",
        "        return \"C\"\n",
        "    elif w == \"Completou a 8ª série/9º ano do Ensino Fundamental, mas não completou o Ensino Médio\":\n",
        "        return \"D\"\n",
        "    elif w == \"Completou o Ensino Médio, mas não completou a Faculdade\":\n",
        "        return \"E\"\n",
        "    elif w == \"Completou a Faculdade, mas não completou a Pós-graduação\":\n",
        "        return \"F\"\n",
        "    elif w == \"Completou a Pós-graduação\":\n",
        "        return \"G\"\n",
        "    elif w == \"Não sei\":\n",
        "        return \"H\"\n",
        "    "
      ],
      "execution_count": 0,
      "outputs": []
    },
    {
      "cell_type": "code",
      "metadata": {
        "id": "YqT5bJ2bSijW",
        "colab_type": "code",
        "colab": {}
      },
      "source": [
        "#Aplicando a função de categoria de escolaridade\n",
        "df[\"categoria_escolaridade\"] = df[\"Escolaridade_Pai\"].apply(categorizaescolaridade)"
      ],
      "execution_count": 0,
      "outputs": []
    },
    {
      "cell_type": "code",
      "metadata": {
        "id": "-2HVQucZSija",
        "colab_type": "code",
        "colab": {},
        "outputId": "eb37e5b9-11c6-4952-8ca0-ec1b73020c6a"
      },
      "source": [
        "%matplotlib inline\n",
        "#Boxplot das médias por escolaridade \n",
        "sns.boxplot(x=df[\"categoria_escolaridade\"],y=df[\"media_notas\"], data=df)"
      ],
      "execution_count": 0,
      "outputs": [
        {
          "output_type": "execute_result",
          "data": {
            "text/plain": [
              "<matplotlib.axes._subplots.AxesSubplot at 0x201937ef278>"
            ]
          },
          "metadata": {
            "tags": []
          },
          "execution_count": 40
        },
        {
          "output_type": "display_data",
          "data": {
            "image/png": "[encoded data removed]",
            "text/plain": [
              "<Figure size 432x288 with 1 Axes>"
            ]
          },
          "metadata": {
            "tags": [],
            "needs_background": "light"
          }
        }
      ]
    },
    {
      "cell_type": "code",
      "metadata": {
        "id": "0FadQ6c1Sijd",
        "colab_type": "code",
        "colab": {}
      },
      "source": [
        "df[\"categoria_escolaridade_mae\"] = df[\"Escolaridade_mae\"].apply(categorizaescolaridade)"
      ],
      "execution_count": 0,
      "outputs": []
    },
    {
      "cell_type": "code",
      "metadata": {
        "id": "R948eMHhSijf",
        "colab_type": "code",
        "colab": {},
        "outputId": "25acde4e-7c0a-4e02-c66f-31343c06cf6d"
      },
      "source": [
        "%matplotlib inline\n",
        "\n",
        "sns.boxplot(x=df[\"categoria_escolaridade_mae\"],y=df[\"media_notas\"], data=df)"
      ],
      "execution_count": 0,
      "outputs": [
        {
          "output_type": "execute_result",
          "data": {
            "text/plain": [
              "<matplotlib.axes._subplots.AxesSubplot at 0x17fa6849198>"
            ]
          },
          "metadata": {
            "tags": []
          },
          "execution_count": 35
        },
        {
          "output_type": "display_data",
          "data": {
            "image/png": "[encoded data removed]",
            "text/plain": [
              "<Figure size 432x288 with 1 Axes>"
            ]
          },
          "metadata": {
            "tags": [],
            "needs_background": "light"
          }
        }
      ]
    },
    {
      "cell_type": "code",
      "metadata": {
        "id": "t301VrLlSijv",
        "colab_type": "code",
        "colab": {}
      },
      "source": [
        "#Separando os alunos com pais que possuem uma alta escolaridade\n",
        "escolaridade_alta =  df.loc[(df[\"Escolaridade_Pai\"] == \"Completou a Faculdade, mas não completou a Pós-graduação\") | (df[\"Escolaridade_Pai\"] == \"Completou a Pós-graduação\")]"
      ],
      "execution_count": 0,
      "outputs": []
    },
    {
      "cell_type": "code",
      "metadata": {
        "id": "2TkLAE4tSij9",
        "colab_type": "code",
        "colab": {}
      },
      "source": [
        "#Separando os alunos com pais que possuem uma baixa escolaridade\n",
        "escolaridade_baixa = df.loc[(df[\"Escolaridade_Pai\"] == \"Não completou a 4ª série/5º ano do Ensino Fundamental\") | (df[\"Escolaridade_Pai\"] == \"Nunca estudou\")\n",
        "                           | (df[\"Escolaridade_Pai\"] == \"Completou a 4ª série/5º ano, mas não completou a 8ª série/9º ano do Ensino Fundamental\")]\n",
        "                 "
      ],
      "execution_count": 0,
      "outputs": []
    },
    {
      "cell_type": "code",
      "metadata": {
        "id": "DJKiFMfQSikH",
        "colab_type": "code",
        "colab": {}
      },
      "source": [
        "#Separando os alunos com pais que possuem uma escolaridade média\n",
        "escolaridade_media = df.loc[(df[\"Escolaridade_Pai\"] == \"Completou a 8ª série/9º ano do Ensino Fundamental, mas não completou o Ensino Médio\") | (df[\"Escolaridade_Pai\"] == \"Completou o Ensino Médio, mas não completou a Faculdade\")]"
      ],
      "execution_count": 0,
      "outputs": []
    },
    {
      "cell_type": "code",
      "metadata": {
        "id": "K325wAurSikL",
        "colab_type": "code",
        "colab": {},
        "outputId": "a9a72026-a36d-4d02-cb51-4f48166ebd1e"
      },
      "source": [
        "#Média escolaridade alta\n",
        "escolaridade_alta[\"media_notas\"].mean()"
      ],
      "execution_count": 0,
      "outputs": [
        {
          "output_type": "execute_result",
          "data": {
            "text/plain": [
              "599.2202959932332"
            ]
          },
          "metadata": {
            "tags": []
          },
          "execution_count": 44
        }
      ]
    },
    {
      "cell_type": "code",
      "metadata": {
        "id": "KpnW1ZZXSikO",
        "colab_type": "code",
        "colab": {},
        "outputId": "72f198da-dc38-431b-a080-40900d557b6c"
      },
      "source": [
        "#Média escolaridade baixa\n",
        "escolaridade_baixa[\"media_notas\"].mean()"
      ],
      "execution_count": 0,
      "outputs": [
        {
          "output_type": "execute_result",
          "data": {
            "text/plain": [
              "502.01887418648624"
            ]
          },
          "metadata": {
            "tags": []
          },
          "execution_count": 45
        }
      ]
    },
    {
      "cell_type": "code",
      "metadata": {
        "id": "eN4JwylUSilj",
        "colab_type": "code",
        "colab": {},
        "outputId": "92201f35-d0c9-41ed-ecd7-8cc8538a2a10"
      },
      "source": [
        "#Média escolaridade média\n",
        "escolaridade_media[\"media_notas\"].mean()"
      ],
      "execution_count": 0,
      "outputs": [
        {
          "output_type": "execute_result",
          "data": {
            "text/plain": [
              "538.3625940323136"
            ]
          },
          "metadata": {
            "tags": []
          },
          "execution_count": 46
        }
      ]
    },
    {
      "cell_type": "code",
      "metadata": {
        "id": "uyTikQOlSimT",
        "colab_type": "code",
        "colab": {}
      },
      "source": [
        "#Testando a terceira hipótese\n",
        "N7 = escolaridade_alta[\"media_notas\"] \n",
        "N8 = escolaridade_baixa[\"media_notas\"]\n",
        "resultado_teste3 = sm.stats.ttest_ind(x1=N7,x2=N8, value=0, alternative=\"two-sided\", weights=(None, None),usevar='pooled')"
      ],
      "execution_count": 0,
      "outputs": []
    },
    {
      "cell_type": "code",
      "metadata": {
        "id": "ngA3B-rtSimv",
        "colab_type": "code",
        "colab": {},
        "outputId": "53b44e49-bc25-4b23-e246-bf2b0850962e"
      },
      "source": [
        "resultado_teste3"
      ],
      "execution_count": 0,
      "outputs": [
        {
          "output_type": "execute_result",
          "data": {
            "text/plain": [
              "(804.7574549814873, 0.0, 2064126.0)"
            ]
          },
          "metadata": {
            "tags": []
          },
          "execution_count": 49
        }
      ]
    },
    {
      "cell_type": "code",
      "metadata": {
        "id": "4zPvN82NSim0",
        "colab_type": "code",
        "colab": {},
        "outputId": "540aa65f-6119-41ad-c760-d62b7c18bb8c"
      },
      "source": [
        "resultado_hipotese(resultado_teste3[1])"
      ],
      "execution_count": 0,
      "outputs": [
        {
          "output_type": "stream",
          "text": [
            "Rejeita-se a hipótese nula\n"
          ],
          "name": "stdout"
        }
      ]
    },
    {
      "cell_type": "code",
      "metadata": {
        "id": "MNsmRw5sSinH",
        "colab_type": "code",
        "colab": {},
        "outputId": "c300a0a1-51ec-442b-f6e7-79d320710c80"
      },
      "source": [
        "%matplotlib inline\n",
        "\n",
        "sns.boxplot(x=escolaridade_alta[\"categoria_escolaridade\"],y=escolaridade_alta[\"media_notas\"], data=df)"
      ],
      "execution_count": 0,
      "outputs": [
        {
          "output_type": "execute_result",
          "data": {
            "text/plain": [
              "<matplotlib.axes._subplots.AxesSubplot at 0x201952ccc50>"
            ]
          },
          "metadata": {
            "tags": []
          },
          "execution_count": 53
        },
        {
          "output_type": "display_data",
          "data": {
            "image/png": "[encoded data removed]",
            "text/plain": [
              "<Figure size 432x288 with 1 Axes>"
            ]
          },
          "metadata": {
            "tags": [],
            "needs_background": "light"
          }
        }
      ]
    },
    {
      "cell_type": "code",
      "metadata": {
        "id": "bezoAsNNSinU",
        "colab_type": "code",
        "colab": {},
        "outputId": "81a0c9a7-3f3c-48ba-9188-b6cd0493bf8f"
      },
      "source": [
        "%matplotlib inline\n",
        "\n",
        "sns.boxplot(x=escolaridade_baixa[\"categoria_escolaridade\"],y=escolaridade_baixa[\"media_notas\"], data=df)"
      ],
      "execution_count": 0,
      "outputs": [
        {
          "output_type": "execute_result",
          "data": {
            "text/plain": [
              "<matplotlib.axes._subplots.AxesSubplot at 0x201944ff3c8>"
            ]
          },
          "metadata": {
            "tags": []
          },
          "execution_count": 55
        },
        {
          "output_type": "display_data",
          "data": {
            "image/png": "[encoded data removed]",
            "text/plain": [
              "<Figure size 432x288 with 1 Axes>"
            ]
          },
          "metadata": {
            "tags": [],
            "needs_background": "light"
          }
        }
      ]
    },
    {
      "cell_type": "code",
      "metadata": {
        "id": "byKbfLz-SinX",
        "colab_type": "code",
        "colab": {},
        "outputId": "949a14c6-23ec-4949-f62c-f0e9172c9706"
      },
      "source": [
        "%matplotlib inline\n",
        "sns.boxplot(x=df[\"TP_SEXO\"],y=df[\"media_notas\"], data=df)"
      ],
      "execution_count": 0,
      "outputs": [
        {
          "output_type": "execute_result",
          "data": {
            "text/plain": [
              "<matplotlib.axes._subplots.AxesSubplot at 0x1392cd4eb00>"
            ]
          },
          "metadata": {
            "tags": []
          },
          "execution_count": 8
        },
        {
          "output_type": "display_data",
          "data": {
            "image/png": "[encoded data removed]",
            "text/plain": [
              "<Figure size 432x288 with 1 Axes>"
            ]
          },
          "metadata": {
            "tags": [],
            "needs_background": "light"
          }
        }
      ]
    },
    {
      "cell_type": "code",
      "metadata": {
        "id": "ic-uZrOmSinf",
        "colab_type": "code",
        "colab": {}
      },
      "source": [
        "renda2 = df.loc[(df[\"Renda_Mensal\"] == \"Nenhuma renda\")]"
      ],
      "execution_count": 0,
      "outputs": []
    },
    {
      "cell_type": "code",
      "metadata": {
        "id": "-p_PDaK4Sinh",
        "colab_type": "code",
        "colab": {},
        "outputId": "b10f6112-0fdb-4246-8cdd-bfe9cde856c9"
      },
      "source": [
        "renda2.shape"
      ],
      "execution_count": 0,
      "outputs": [
        {
          "output_type": "execute_result",
          "data": {
            "text/plain": [
              "(153278, 17)"
            ]
          },
          "metadata": {
            "tags": []
          },
          "execution_count": 25
        }
      ]
    },
    {
      "cell_type": "code",
      "metadata": {
        "id": "0piiTreMSinl",
        "colab_type": "code",
        "colab": {}
      },
      "source": [
        "renda3 = df.loc[(df[\"Renda_Mensal\"] == \"Até R$ 954,00\")]"
      ],
      "execution_count": 0,
      "outputs": []
    },
    {
      "cell_type": "code",
      "metadata": {
        "id": "SJ43RmyySin2",
        "colab_type": "code",
        "colab": {},
        "outputId": "894eda61-5702-4872-cc0d-2c1d3f27ef2c"
      },
      "source": [
        "renda3.shape"
      ],
      "execution_count": 0,
      "outputs": [
        {
          "output_type": "execute_result",
          "data": {
            "text/plain": [
              "(891141, 17)"
            ]
          },
          "metadata": {
            "tags": []
          },
          "execution_count": 27
        }
      ]
    },
    {
      "cell_type": "code",
      "metadata": {
        "id": "uoscxUbDSin6",
        "colab_type": "code",
        "colab": {}
      },
      "source": [
        ""
      ],
      "execution_count": 0,
      "outputs": []
    }
  ]
}