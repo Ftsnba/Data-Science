{
 "cells": [
  {
   "cell_type": "code",
   "execution_count": 1,
   "metadata": {},
   "outputs": [],
   "source": [
    "#Importando bibliotecas\n",
    "import pandas as pd\n",
    "import numpy as np\n",
    "import matplotlib.pyplot as plt\n",
    "import seaborn as sns\n",
    "from sklearn.model_selection import train_test_split\n",
    "from sklearn.tree import export_graphviz\n",
    "from sklearn.ensemble import RandomForestClassifier"
   ]
  },
  {
   "cell_type": "code",
   "execution_count": 2,
   "metadata": {},
   "outputs": [],
   "source": [
    "df_treino = pd.read_csv(\"train.csv\")"
   ]
  },
  {
   "cell_type": "code",
   "execution_count": 3,
   "metadata": {},
   "outputs": [
    {
     "data": {
      "text/html": [
       "<div>\n",
       "<style scoped>\n",
       "    .dataframe tbody tr th:only-of-type {\n",
       "        vertical-align: middle;\n",
       "    }\n",
       "\n",
       "    .dataframe tbody tr th {\n",
       "        vertical-align: top;\n",
       "    }\n",
       "\n",
       "    .dataframe thead th {\n",
       "        text-align: right;\n",
       "    }\n",
       "</style>\n",
       "<table border=\"1\" class=\"dataframe\">\n",
       "  <thead>\n",
       "    <tr style=\"text-align: right;\">\n",
       "      <th></th>\n",
       "      <th>PassengerId</th>\n",
       "      <th>Survived</th>\n",
       "      <th>Pclass</th>\n",
       "      <th>Name</th>\n",
       "      <th>Sex</th>\n",
       "      <th>Age</th>\n",
       "      <th>SibSp</th>\n",
       "      <th>Parch</th>\n",
       "      <th>Ticket</th>\n",
       "      <th>Fare</th>\n",
       "      <th>Cabin</th>\n",
       "      <th>Embarked</th>\n",
       "    </tr>\n",
       "  </thead>\n",
       "  <tbody>\n",
       "    <tr>\n",
       "      <th>0</th>\n",
       "      <td>1</td>\n",
       "      <td>0</td>\n",
       "      <td>3</td>\n",
       "      <td>Braund, Mr. Owen Harris</td>\n",
       "      <td>male</td>\n",
       "      <td>22.0</td>\n",
       "      <td>1</td>\n",
       "      <td>0</td>\n",
       "      <td>A/5 21171</td>\n",
       "      <td>7.2500</td>\n",
       "      <td>NaN</td>\n",
       "      <td>S</td>\n",
       "    </tr>\n",
       "    <tr>\n",
       "      <th>1</th>\n",
       "      <td>2</td>\n",
       "      <td>1</td>\n",
       "      <td>1</td>\n",
       "      <td>Cumings, Mrs. John Bradley (Florence Briggs Th...</td>\n",
       "      <td>female</td>\n",
       "      <td>38.0</td>\n",
       "      <td>1</td>\n",
       "      <td>0</td>\n",
       "      <td>PC 17599</td>\n",
       "      <td>71.2833</td>\n",
       "      <td>C85</td>\n",
       "      <td>C</td>\n",
       "    </tr>\n",
       "    <tr>\n",
       "      <th>2</th>\n",
       "      <td>3</td>\n",
       "      <td>1</td>\n",
       "      <td>3</td>\n",
       "      <td>Heikkinen, Miss. Laina</td>\n",
       "      <td>female</td>\n",
       "      <td>26.0</td>\n",
       "      <td>0</td>\n",
       "      <td>0</td>\n",
       "      <td>STON/O2. 3101282</td>\n",
       "      <td>7.9250</td>\n",
       "      <td>NaN</td>\n",
       "      <td>S</td>\n",
       "    </tr>\n",
       "    <tr>\n",
       "      <th>3</th>\n",
       "      <td>4</td>\n",
       "      <td>1</td>\n",
       "      <td>1</td>\n",
       "      <td>Futrelle, Mrs. Jacques Heath (Lily May Peel)</td>\n",
       "      <td>female</td>\n",
       "      <td>35.0</td>\n",
       "      <td>1</td>\n",
       "      <td>0</td>\n",
       "      <td>113803</td>\n",
       "      <td>53.1000</td>\n",
       "      <td>C123</td>\n",
       "      <td>S</td>\n",
       "    </tr>\n",
       "    <tr>\n",
       "      <th>4</th>\n",
       "      <td>5</td>\n",
       "      <td>0</td>\n",
       "      <td>3</td>\n",
       "      <td>Allen, Mr. William Henry</td>\n",
       "      <td>male</td>\n",
       "      <td>35.0</td>\n",
       "      <td>0</td>\n",
       "      <td>0</td>\n",
       "      <td>373450</td>\n",
       "      <td>8.0500</td>\n",
       "      <td>NaN</td>\n",
       "      <td>S</td>\n",
       "    </tr>\n",
       "  </tbody>\n",
       "</table>\n",
       "</div>"
      ],
      "text/plain": [
       "   PassengerId  Survived  Pclass  \\\n",
       "0            1         0       3   \n",
       "1            2         1       1   \n",
       "2            3         1       3   \n",
       "3            4         1       1   \n",
       "4            5         0       3   \n",
       "\n",
       "                                                Name     Sex   Age  SibSp  \\\n",
       "0                            Braund, Mr. Owen Harris    male  22.0      1   \n",
       "1  Cumings, Mrs. John Bradley (Florence Briggs Th...  female  38.0      1   \n",
       "2                             Heikkinen, Miss. Laina  female  26.0      0   \n",
       "3       Futrelle, Mrs. Jacques Heath (Lily May Peel)  female  35.0      1   \n",
       "4                           Allen, Mr. William Henry    male  35.0      0   \n",
       "\n",
       "   Parch            Ticket     Fare Cabin Embarked  \n",
       "0      0         A/5 21171   7.2500   NaN        S  \n",
       "1      0          PC 17599  71.2833   C85        C  \n",
       "2      0  STON/O2. 3101282   7.9250   NaN        S  \n",
       "3      0            113803  53.1000  C123        S  \n",
       "4      0            373450   8.0500   NaN        S  "
      ]
     },
     "execution_count": 3,
     "metadata": {},
     "output_type": "execute_result"
    }
   ],
   "source": [
    "#Visualizando as 5 primeiras linhas\n",
    "df_treino.head()"
   ]
  },
  {
   "cell_type": "markdown",
   "metadata": {},
   "source": [
    "# Dicionário das variáveis"
   ]
  },
  {
   "cell_type": "markdown",
   "metadata": {},
   "source": [
    "### PassengerId: Passageiro ID\n",
    "### Survived: Sobreviveu\n",
    "### Pclass: Classe do ingresso\n",
    "### Name: Nome\n",
    "### Sex: Sexo\n",
    "### Age: Idade\n",
    "### SibSp: Nº de irmãos / cônjuges a bordo do Titanic\n",
    "### Parch: Nº de pais / filhos a bordo do Titanic\n",
    "### Ticket: Número do bilhete\n",
    "### Fare: Tarifa de passageiro\n",
    "### Cabin: Número da cabine\n",
    "### Embarked: Porto de embarcação\n"
   ]
  },
  {
   "cell_type": "code",
   "execution_count": 4,
   "metadata": {},
   "outputs": [
    {
     "data": {
      "text/plain": [
       "(891, 12)"
      ]
     },
     "execution_count": 4,
     "metadata": {},
     "output_type": "execute_result"
    }
   ],
   "source": [
    "#Total de linhas e colunas do conjunto de dados\n",
    "df_treino.shape"
   ]
  },
  {
   "cell_type": "code",
   "execution_count": 5,
   "metadata": {},
   "outputs": [
    {
     "data": {
      "text/plain": [
       "PassengerId      int64\n",
       "Survived         int64\n",
       "Pclass           int64\n",
       "Name            object\n",
       "Sex             object\n",
       "Age            float64\n",
       "SibSp            int64\n",
       "Parch            int64\n",
       "Ticket          object\n",
       "Fare           float64\n",
       "Cabin           object\n",
       "Embarked        object\n",
       "dtype: object"
      ]
     },
     "execution_count": 5,
     "metadata": {},
     "output_type": "execute_result"
    }
   ],
   "source": [
    "df_treino.dtypes"
   ]
  },
  {
   "cell_type": "code",
   "execution_count": 6,
   "metadata": {},
   "outputs": [],
   "source": [
    "mulheres = df_treino.loc[df_treino.Sex == 'female'][\"Survived\"]\n",
    "taxa_mulheres = sum(mulheres)/len(mulheres)"
   ]
  },
  {
   "cell_type": "code",
   "execution_count": 7,
   "metadata": {},
   "outputs": [
    {
     "name": "stdout",
     "output_type": "stream",
     "text": [
      "% de mulheres que sobreviveram: 0.7420382165605095\n"
     ]
    }
   ],
   "source": [
    "print(\"% de mulheres que sobreviveram:\", taxa_mulheres)"
   ]
  },
  {
   "cell_type": "code",
   "execution_count": 8,
   "metadata": {},
   "outputs": [
    {
     "data": {
      "text/plain": [
       "314"
      ]
     },
     "execution_count": 8,
     "metadata": {},
     "output_type": "execute_result"
    }
   ],
   "source": [
    "len(mulheres)"
   ]
  },
  {
   "cell_type": "code",
   "execution_count": 9,
   "metadata": {},
   "outputs": [
    {
     "data": {
      "text/plain": [
       "233"
      ]
     },
     "execution_count": 9,
     "metadata": {},
     "output_type": "execute_result"
    }
   ],
   "source": [
    "sum(mulheres)"
   ]
  },
  {
   "cell_type": "code",
   "execution_count": 10,
   "metadata": {},
   "outputs": [],
   "source": [
    "homens = df_treino.loc[df_treino.Sex == 'male'][\"Survived\"]\n",
    "taxa_homens = sum(homens)/len(homens)"
   ]
  },
  {
   "cell_type": "code",
   "execution_count": 11,
   "metadata": {},
   "outputs": [
    {
     "name": "stdout",
     "output_type": "stream",
     "text": [
      "% de homens que sobreviveram: 0.18890814558058924\n"
     ]
    }
   ],
   "source": [
    "print(\"% de homens que sobreviveram:\", taxa_homens)"
   ]
  },
  {
   "cell_type": "code",
   "execution_count": 13,
   "metadata": {},
   "outputs": [
    {
     "data": {
      "text/plain": [
       "109"
      ]
     },
     "execution_count": 13,
     "metadata": {},
     "output_type": "execute_result"
    }
   ],
   "source": [
    "sum(homens)"
   ]
  },
  {
   "cell_type": "code",
   "execution_count": 12,
   "metadata": {},
   "outputs": [
    {
     "data": {
      "text/plain": [
       "577"
      ]
     },
     "execution_count": 12,
     "metadata": {},
     "output_type": "execute_result"
    }
   ],
   "source": [
    "len(homens)"
   ]
  },
  {
   "cell_type": "code",
   "execution_count": 14,
   "metadata": {},
   "outputs": [
    {
     "data": {
      "text/plain": [
       "male      577\n",
       "female    314\n",
       "Name: Sex, dtype: int64"
      ]
     },
     "execution_count": 14,
     "metadata": {},
     "output_type": "execute_result"
    }
   ],
   "source": [
    "df_treino[\"Sex\"].value_counts()"
   ]
  },
  {
   "cell_type": "code",
   "execution_count": 15,
   "metadata": {},
   "outputs": [
    {
     "data": {
      "text/plain": [
       "Text(0.5, 1.0, 'Total de Passageiros por sexo')"
      ]
     },
     "execution_count": 15,
     "metadata": {},
     "output_type": "execute_result"
    },
    {
     "data": {
      "image/png": "[encoded data removed]",
      "text/plain": [
       "<Figure size 720x432 with 1 Axes>"
      ]
     },
     "metadata": {
      "needs_background": "light"
     },
     "output_type": "display_data"
    }
   ],
   "source": [
    "fig, ax = plt.subplots(figsize=(10, 6))\n",
    "sns.countplot(x=\"Sex\", data=df_treino)\n",
    "plt.title(\"Total de Passageiros por sexo\")"
   ]
  },
  {
   "cell_type": "code",
   "execution_count": 16,
   "metadata": {},
   "outputs": [
    {
     "data": {
      "image/png": "[encoded data removed]",
      "text/plain": [
       "<Figure size 720x576 with 1 Axes>"
      ]
     },
     "metadata": {
      "needs_background": "light"
     },
     "output_type": "display_data"
    }
   ],
   "source": [
    "plt.figure(figsize = (10,8))\n",
    "sns.countplot(data =df_treino, x = \"Sex\", hue = \"Survived\", palette = \"viridis\")\n",
    "plt.title(\"Gênero\")\n",
    "plt.show()"
   ]
  },
  {
   "cell_type": "code",
   "execution_count": 17,
   "metadata": {},
   "outputs": [
    {
     "data": {
      "text/plain": [
       "<matplotlib.axes._subplots.AxesSubplot at 0x1f7e4a96ba8>"
      ]
     },
     "execution_count": 17,
     "metadata": {},
     "output_type": "execute_result"
    },
    {
     "data": {
      "image/png": "[encoded data removed]",
      "text/plain": [
       "<Figure size 432x288 with 1 Axes>"
      ]
     },
     "metadata": {
      "needs_background": "light"
     },
     "output_type": "display_data"
    }
   ],
   "source": [
    "df_treino['Age'].hist(bins = 30)"
   ]
  },
  {
   "cell_type": "code",
   "execution_count": 18,
   "metadata": {},
   "outputs": [
    {
     "data": {
      "text/plain": [
       "array([<matplotlib.axes._subplots.AxesSubplot object at 0x000001F7E4B87F60>,\n",
       "       <matplotlib.axes._subplots.AxesSubplot object at 0x000001F7E4BB6400>],\n",
       "      dtype=object)"
      ]
     },
     "execution_count": 18,
     "metadata": {},
     "output_type": "execute_result"
    },
    {
     "data": {
      "image/png": "[encoded data removed]",
      "text/plain": [
       "<Figure size 432x288 with 2 Axes>"
      ]
     },
     "metadata": {
      "needs_background": "light"
     },
     "output_type": "display_data"
    }
   ],
   "source": [
    "df_treino['Pclass'].hist(by=df_treino['Survived'])"
   ]
  },
  {
   "cell_type": "code",
   "execution_count": 19,
   "metadata": {},
   "outputs": [
    {
     "data": {
      "text/html": [
       "<div>\n",
       "<style scoped>\n",
       "    .dataframe tbody tr th:only-of-type {\n",
       "        vertical-align: middle;\n",
       "    }\n",
       "\n",
       "    .dataframe tbody tr th {\n",
       "        vertical-align: top;\n",
       "    }\n",
       "\n",
       "    .dataframe thead th {\n",
       "        text-align: right;\n",
       "    }\n",
       "</style>\n",
       "<table border=\"1\" class=\"dataframe\">\n",
       "  <thead>\n",
       "    <tr style=\"text-align: right;\">\n",
       "      <th></th>\n",
       "      <th>PassengerId</th>\n",
       "      <th>Survived</th>\n",
       "      <th>Pclass</th>\n",
       "      <th>Age</th>\n",
       "      <th>SibSp</th>\n",
       "      <th>Parch</th>\n",
       "      <th>Fare</th>\n",
       "    </tr>\n",
       "  </thead>\n",
       "  <tbody>\n",
       "    <tr>\n",
       "      <th>PassengerId</th>\n",
       "      <td>1.000000</td>\n",
       "      <td>-0.005007</td>\n",
       "      <td>-0.035144</td>\n",
       "      <td>0.036847</td>\n",
       "      <td>-0.057527</td>\n",
       "      <td>-0.001652</td>\n",
       "      <td>0.012658</td>\n",
       "    </tr>\n",
       "    <tr>\n",
       "      <th>Survived</th>\n",
       "      <td>-0.005007</td>\n",
       "      <td>1.000000</td>\n",
       "      <td>-0.338481</td>\n",
       "      <td>-0.077221</td>\n",
       "      <td>-0.035322</td>\n",
       "      <td>0.081629</td>\n",
       "      <td>0.257307</td>\n",
       "    </tr>\n",
       "    <tr>\n",
       "      <th>Pclass</th>\n",
       "      <td>-0.035144</td>\n",
       "      <td>-0.338481</td>\n",
       "      <td>1.000000</td>\n",
       "      <td>-0.369226</td>\n",
       "      <td>0.083081</td>\n",
       "      <td>0.018443</td>\n",
       "      <td>-0.549500</td>\n",
       "    </tr>\n",
       "    <tr>\n",
       "      <th>Age</th>\n",
       "      <td>0.036847</td>\n",
       "      <td>-0.077221</td>\n",
       "      <td>-0.369226</td>\n",
       "      <td>1.000000</td>\n",
       "      <td>-0.308247</td>\n",
       "      <td>-0.189119</td>\n",
       "      <td>0.096067</td>\n",
       "    </tr>\n",
       "    <tr>\n",
       "      <th>SibSp</th>\n",
       "      <td>-0.057527</td>\n",
       "      <td>-0.035322</td>\n",
       "      <td>0.083081</td>\n",
       "      <td>-0.308247</td>\n",
       "      <td>1.000000</td>\n",
       "      <td>0.414838</td>\n",
       "      <td>0.159651</td>\n",
       "    </tr>\n",
       "    <tr>\n",
       "      <th>Parch</th>\n",
       "      <td>-0.001652</td>\n",
       "      <td>0.081629</td>\n",
       "      <td>0.018443</td>\n",
       "      <td>-0.189119</td>\n",
       "      <td>0.414838</td>\n",
       "      <td>1.000000</td>\n",
       "      <td>0.216225</td>\n",
       "    </tr>\n",
       "    <tr>\n",
       "      <th>Fare</th>\n",
       "      <td>0.012658</td>\n",
       "      <td>0.257307</td>\n",
       "      <td>-0.549500</td>\n",
       "      <td>0.096067</td>\n",
       "      <td>0.159651</td>\n",
       "      <td>0.216225</td>\n",
       "      <td>1.000000</td>\n",
       "    </tr>\n",
       "  </tbody>\n",
       "</table>\n",
       "</div>"
      ],
      "text/plain": [
       "             PassengerId  Survived    Pclass       Age     SibSp     Parch  \\\n",
       "PassengerId     1.000000 -0.005007 -0.035144  0.036847 -0.057527 -0.001652   \n",
       "Survived       -0.005007  1.000000 -0.338481 -0.077221 -0.035322  0.081629   \n",
       "Pclass         -0.035144 -0.338481  1.000000 -0.369226  0.083081  0.018443   \n",
       "Age             0.036847 -0.077221 -0.369226  1.000000 -0.308247 -0.189119   \n",
       "SibSp          -0.057527 -0.035322  0.083081 -0.308247  1.000000  0.414838   \n",
       "Parch          -0.001652  0.081629  0.018443 -0.189119  0.414838  1.000000   \n",
       "Fare            0.012658  0.257307 -0.549500  0.096067  0.159651  0.216225   \n",
       "\n",
       "                 Fare  \n",
       "PassengerId  0.012658  \n",
       "Survived     0.257307  \n",
       "Pclass      -0.549500  \n",
       "Age          0.096067  \n",
       "SibSp        0.159651  \n",
       "Parch        0.216225  \n",
       "Fare         1.000000  "
      ]
     },
     "execution_count": 19,
     "metadata": {},
     "output_type": "execute_result"
    }
   ],
   "source": [
    "df_treino.corr()"
   ]
  },
  {
   "cell_type": "code",
   "execution_count": 20,
   "metadata": {},
   "outputs": [
    {
     "data": {
      "image/png": "[encoded data removed]",
      "text/plain": [
       "<Figure size 432x288 with 2 Axes>"
      ]
     },
     "metadata": {
      "needs_background": "light"
     },
     "output_type": "display_data"
    }
   ],
   "source": [
    "sns.heatmap(df_treino.corr(),vmax=1.0,  annot=True)\n",
    "plt.show()"
   ]
  },
  {
   "cell_type": "code",
   "execution_count": 21,
   "metadata": {},
   "outputs": [],
   "source": [
    "df_treino[\"Sex\"] = df_treino[\"Sex\"].map({\"male\":0, \"female\":1})"
   ]
  },
  {
   "cell_type": "code",
   "execution_count": 22,
   "metadata": {
    "scrolled": true
   },
   "outputs": [
    {
     "data": {
      "text/html": [
       "<div>\n",
       "<style scoped>\n",
       "    .dataframe tbody tr th:only-of-type {\n",
       "        vertical-align: middle;\n",
       "    }\n",
       "\n",
       "    .dataframe tbody tr th {\n",
       "        vertical-align: top;\n",
       "    }\n",
       "\n",
       "    .dataframe thead th {\n",
       "        text-align: right;\n",
       "    }\n",
       "</style>\n",
       "<table border=\"1\" class=\"dataframe\">\n",
       "  <thead>\n",
       "    <tr style=\"text-align: right;\">\n",
       "      <th></th>\n",
       "      <th>PassengerId</th>\n",
       "      <th>Survived</th>\n",
       "      <th>Pclass</th>\n",
       "      <th>Name</th>\n",
       "      <th>Sex</th>\n",
       "      <th>Age</th>\n",
       "      <th>SibSp</th>\n",
       "      <th>Parch</th>\n",
       "      <th>Ticket</th>\n",
       "      <th>Fare</th>\n",
       "      <th>Cabin</th>\n",
       "      <th>Embarked</th>\n",
       "    </tr>\n",
       "  </thead>\n",
       "  <tbody>\n",
       "    <tr>\n",
       "      <th>0</th>\n",
       "      <td>1</td>\n",
       "      <td>0</td>\n",
       "      <td>3</td>\n",
       "      <td>Braund, Mr. Owen Harris</td>\n",
       "      <td>0</td>\n",
       "      <td>22.0</td>\n",
       "      <td>1</td>\n",
       "      <td>0</td>\n",
       "      <td>A/5 21171</td>\n",
       "      <td>7.2500</td>\n",
       "      <td>NaN</td>\n",
       "      <td>S</td>\n",
       "    </tr>\n",
       "    <tr>\n",
       "      <th>1</th>\n",
       "      <td>2</td>\n",
       "      <td>1</td>\n",
       "      <td>1</td>\n",
       "      <td>Cumings, Mrs. John Bradley (Florence Briggs Th...</td>\n",
       "      <td>1</td>\n",
       "      <td>38.0</td>\n",
       "      <td>1</td>\n",
       "      <td>0</td>\n",
       "      <td>PC 17599</td>\n",
       "      <td>71.2833</td>\n",
       "      <td>C85</td>\n",
       "      <td>C</td>\n",
       "    </tr>\n",
       "    <tr>\n",
       "      <th>2</th>\n",
       "      <td>3</td>\n",
       "      <td>1</td>\n",
       "      <td>3</td>\n",
       "      <td>Heikkinen, Miss. Laina</td>\n",
       "      <td>1</td>\n",
       "      <td>26.0</td>\n",
       "      <td>0</td>\n",
       "      <td>0</td>\n",
       "      <td>STON/O2. 3101282</td>\n",
       "      <td>7.9250</td>\n",
       "      <td>NaN</td>\n",
       "      <td>S</td>\n",
       "    </tr>\n",
       "    <tr>\n",
       "      <th>3</th>\n",
       "      <td>4</td>\n",
       "      <td>1</td>\n",
       "      <td>1</td>\n",
       "      <td>Futrelle, Mrs. Jacques Heath (Lily May Peel)</td>\n",
       "      <td>1</td>\n",
       "      <td>35.0</td>\n",
       "      <td>1</td>\n",
       "      <td>0</td>\n",
       "      <td>113803</td>\n",
       "      <td>53.1000</td>\n",
       "      <td>C123</td>\n",
       "      <td>S</td>\n",
       "    </tr>\n",
       "    <tr>\n",
       "      <th>4</th>\n",
       "      <td>5</td>\n",
       "      <td>0</td>\n",
       "      <td>3</td>\n",
       "      <td>Allen, Mr. William Henry</td>\n",
       "      <td>0</td>\n",
       "      <td>35.0</td>\n",
       "      <td>0</td>\n",
       "      <td>0</td>\n",
       "      <td>373450</td>\n",
       "      <td>8.0500</td>\n",
       "      <td>NaN</td>\n",
       "      <td>S</td>\n",
       "    </tr>\n",
       "  </tbody>\n",
       "</table>\n",
       "</div>"
      ],
      "text/plain": [
       "   PassengerId  Survived  Pclass  \\\n",
       "0            1         0       3   \n",
       "1            2         1       1   \n",
       "2            3         1       3   \n",
       "3            4         1       1   \n",
       "4            5         0       3   \n",
       "\n",
       "                                                Name  Sex   Age  SibSp  Parch  \\\n",
       "0                            Braund, Mr. Owen Harris    0  22.0      1      0   \n",
       "1  Cumings, Mrs. John Bradley (Florence Briggs Th...    1  38.0      1      0   \n",
       "2                             Heikkinen, Miss. Laina    1  26.0      0      0   \n",
       "3       Futrelle, Mrs. Jacques Heath (Lily May Peel)    1  35.0      1      0   \n",
       "4                           Allen, Mr. William Henry    0  35.0      0      0   \n",
       "\n",
       "             Ticket     Fare Cabin Embarked  \n",
       "0         A/5 21171   7.2500   NaN        S  \n",
       "1          PC 17599  71.2833   C85        C  \n",
       "2  STON/O2. 3101282   7.9250   NaN        S  \n",
       "3            113803  53.1000  C123        S  \n",
       "4            373450   8.0500   NaN        S  "
      ]
     },
     "execution_count": 22,
     "metadata": {},
     "output_type": "execute_result"
    }
   ],
   "source": [
    "df_treino.head()"
   ]
  },
  {
   "cell_type": "code",
   "execution_count": 23,
   "metadata": {},
   "outputs": [
    {
     "data": {
      "text/plain": [
       "PassengerId      0\n",
       "Survived         0\n",
       "Pclass           0\n",
       "Name             0\n",
       "Sex              0\n",
       "Age            177\n",
       "SibSp            0\n",
       "Parch            0\n",
       "Ticket           0\n",
       "Fare             0\n",
       "Cabin          687\n",
       "Embarked         2\n",
       "dtype: int64"
      ]
     },
     "execution_count": 23,
     "metadata": {},
     "output_type": "execute_result"
    }
   ],
   "source": [
    "#Verificando valores nulos\n",
    "df_treino.isnull().sum()"
   ]
  },
  {
   "cell_type": "code",
   "execution_count": 24,
   "metadata": {},
   "outputs": [
    {
     "data": {
      "text/html": [
       "<div>\n",
       "<style scoped>\n",
       "    .dataframe tbody tr th:only-of-type {\n",
       "        vertical-align: middle;\n",
       "    }\n",
       "\n",
       "    .dataframe tbody tr th {\n",
       "        vertical-align: top;\n",
       "    }\n",
       "\n",
       "    .dataframe thead th {\n",
       "        text-align: right;\n",
       "    }\n",
       "</style>\n",
       "<table border=\"1\" class=\"dataframe\">\n",
       "  <thead>\n",
       "    <tr style=\"text-align: right;\">\n",
       "      <th></th>\n",
       "      <th>PassengerId</th>\n",
       "      <th>Survived</th>\n",
       "      <th>Pclass</th>\n",
       "      <th>Sex</th>\n",
       "      <th>Age</th>\n",
       "      <th>SibSp</th>\n",
       "      <th>Parch</th>\n",
       "      <th>Fare</th>\n",
       "    </tr>\n",
       "  </thead>\n",
       "  <tbody>\n",
       "    <tr>\n",
       "      <th>count</th>\n",
       "      <td>891.000000</td>\n",
       "      <td>891.000000</td>\n",
       "      <td>891.000000</td>\n",
       "      <td>891.000000</td>\n",
       "      <td>714.000000</td>\n",
       "      <td>891.000000</td>\n",
       "      <td>891.000000</td>\n",
       "      <td>891.000000</td>\n",
       "    </tr>\n",
       "    <tr>\n",
       "      <th>mean</th>\n",
       "      <td>446.000000</td>\n",
       "      <td>0.383838</td>\n",
       "      <td>2.308642</td>\n",
       "      <td>0.352413</td>\n",
       "      <td>29.699118</td>\n",
       "      <td>0.523008</td>\n",
       "      <td>0.381594</td>\n",
       "      <td>32.204208</td>\n",
       "    </tr>\n",
       "    <tr>\n",
       "      <th>std</th>\n",
       "      <td>257.353842</td>\n",
       "      <td>0.486592</td>\n",
       "      <td>0.836071</td>\n",
       "      <td>0.477990</td>\n",
       "      <td>14.526497</td>\n",
       "      <td>1.102743</td>\n",
       "      <td>0.806057</td>\n",
       "      <td>49.693429</td>\n",
       "    </tr>\n",
       "    <tr>\n",
       "      <th>min</th>\n",
       "      <td>1.000000</td>\n",
       "      <td>0.000000</td>\n",
       "      <td>1.000000</td>\n",
       "      <td>0.000000</td>\n",
       "      <td>0.420000</td>\n",
       "      <td>0.000000</td>\n",
       "      <td>0.000000</td>\n",
       "      <td>0.000000</td>\n",
       "    </tr>\n",
       "    <tr>\n",
       "      <th>25%</th>\n",
       "      <td>223.500000</td>\n",
       "      <td>0.000000</td>\n",
       "      <td>2.000000</td>\n",
       "      <td>0.000000</td>\n",
       "      <td>20.125000</td>\n",
       "      <td>0.000000</td>\n",
       "      <td>0.000000</td>\n",
       "      <td>7.910400</td>\n",
       "    </tr>\n",
       "    <tr>\n",
       "      <th>50%</th>\n",
       "      <td>446.000000</td>\n",
       "      <td>0.000000</td>\n",
       "      <td>3.000000</td>\n",
       "      <td>0.000000</td>\n",
       "      <td>28.000000</td>\n",
       "      <td>0.000000</td>\n",
       "      <td>0.000000</td>\n",
       "      <td>14.454200</td>\n",
       "    </tr>\n",
       "    <tr>\n",
       "      <th>75%</th>\n",
       "      <td>668.500000</td>\n",
       "      <td>1.000000</td>\n",
       "      <td>3.000000</td>\n",
       "      <td>1.000000</td>\n",
       "      <td>38.000000</td>\n",
       "      <td>1.000000</td>\n",
       "      <td>0.000000</td>\n",
       "      <td>31.000000</td>\n",
       "    </tr>\n",
       "    <tr>\n",
       "      <th>max</th>\n",
       "      <td>891.000000</td>\n",
       "      <td>1.000000</td>\n",
       "      <td>3.000000</td>\n",
       "      <td>1.000000</td>\n",
       "      <td>80.000000</td>\n",
       "      <td>8.000000</td>\n",
       "      <td>6.000000</td>\n",
       "      <td>512.329200</td>\n",
       "    </tr>\n",
       "  </tbody>\n",
       "</table>\n",
       "</div>"
      ],
      "text/plain": [
       "       PassengerId    Survived      Pclass         Sex         Age  \\\n",
       "count   891.000000  891.000000  891.000000  891.000000  714.000000   \n",
       "mean    446.000000    0.383838    2.308642    0.352413   29.699118   \n",
       "std     257.353842    0.486592    0.836071    0.477990   14.526497   \n",
       "min       1.000000    0.000000    1.000000    0.000000    0.420000   \n",
       "25%     223.500000    0.000000    2.000000    0.000000   20.125000   \n",
       "50%     446.000000    0.000000    3.000000    0.000000   28.000000   \n",
       "75%     668.500000    1.000000    3.000000    1.000000   38.000000   \n",
       "max     891.000000    1.000000    3.000000    1.000000   80.000000   \n",
       "\n",
       "            SibSp       Parch        Fare  \n",
       "count  891.000000  891.000000  891.000000  \n",
       "mean     0.523008    0.381594   32.204208  \n",
       "std      1.102743    0.806057   49.693429  \n",
       "min      0.000000    0.000000    0.000000  \n",
       "25%      0.000000    0.000000    7.910400  \n",
       "50%      0.000000    0.000000   14.454200  \n",
       "75%      1.000000    0.000000   31.000000  \n",
       "max      8.000000    6.000000  512.329200  "
      ]
     },
     "execution_count": 24,
     "metadata": {},
     "output_type": "execute_result"
    }
   ],
   "source": [
    "df_treino.describe()"
   ]
  },
  {
   "cell_type": "code",
   "execution_count": 25,
   "metadata": {},
   "outputs": [],
   "source": [
    "df_treino = df_treino.dropna(subset=[\"Age\"])"
   ]
  },
  {
   "cell_type": "code",
   "execution_count": 26,
   "metadata": {},
   "outputs": [
    {
     "data": {
      "text/plain": [
       "(714, 12)"
      ]
     },
     "execution_count": 26,
     "metadata": {},
     "output_type": "execute_result"
    }
   ],
   "source": [
    "df_treino.shape"
   ]
  },
  {
   "cell_type": "code",
   "execution_count": 27,
   "metadata": {},
   "outputs": [],
   "source": [
    "#Selecionando as features para o nosso modelo\n",
    "X = df_treino.drop(columns=[\"PassengerId\", \"Survived\", \"Name\", \"Ticket\", \"Embarked\", \"Cabin\"])\n",
    "y = df_treino[\"Survived\"]"
   ]
  },
  {
   "cell_type": "code",
   "execution_count": 28,
   "metadata": {},
   "outputs": [
    {
     "data": {
      "text/html": [
       "<div>\n",
       "<style scoped>\n",
       "    .dataframe tbody tr th:only-of-type {\n",
       "        vertical-align: middle;\n",
       "    }\n",
       "\n",
       "    .dataframe tbody tr th {\n",
       "        vertical-align: top;\n",
       "    }\n",
       "\n",
       "    .dataframe thead th {\n",
       "        text-align: right;\n",
       "    }\n",
       "</style>\n",
       "<table border=\"1\" class=\"dataframe\">\n",
       "  <thead>\n",
       "    <tr style=\"text-align: right;\">\n",
       "      <th></th>\n",
       "      <th>Pclass</th>\n",
       "      <th>Sex</th>\n",
       "      <th>Age</th>\n",
       "      <th>SibSp</th>\n",
       "      <th>Parch</th>\n",
       "      <th>Fare</th>\n",
       "    </tr>\n",
       "  </thead>\n",
       "  <tbody>\n",
       "    <tr>\n",
       "      <th>0</th>\n",
       "      <td>3</td>\n",
       "      <td>0</td>\n",
       "      <td>22.0</td>\n",
       "      <td>1</td>\n",
       "      <td>0</td>\n",
       "      <td>7.2500</td>\n",
       "    </tr>\n",
       "    <tr>\n",
       "      <th>1</th>\n",
       "      <td>1</td>\n",
       "      <td>1</td>\n",
       "      <td>38.0</td>\n",
       "      <td>1</td>\n",
       "      <td>0</td>\n",
       "      <td>71.2833</td>\n",
       "    </tr>\n",
       "    <tr>\n",
       "      <th>2</th>\n",
       "      <td>3</td>\n",
       "      <td>1</td>\n",
       "      <td>26.0</td>\n",
       "      <td>0</td>\n",
       "      <td>0</td>\n",
       "      <td>7.9250</td>\n",
       "    </tr>\n",
       "    <tr>\n",
       "      <th>3</th>\n",
       "      <td>1</td>\n",
       "      <td>1</td>\n",
       "      <td>35.0</td>\n",
       "      <td>1</td>\n",
       "      <td>0</td>\n",
       "      <td>53.1000</td>\n",
       "    </tr>\n",
       "    <tr>\n",
       "      <th>4</th>\n",
       "      <td>3</td>\n",
       "      <td>0</td>\n",
       "      <td>35.0</td>\n",
       "      <td>0</td>\n",
       "      <td>0</td>\n",
       "      <td>8.0500</td>\n",
       "    </tr>\n",
       "  </tbody>\n",
       "</table>\n",
       "</div>"
      ],
      "text/plain": [
       "   Pclass  Sex   Age  SibSp  Parch     Fare\n",
       "0       3    0  22.0      1      0   7.2500\n",
       "1       1    1  38.0      1      0  71.2833\n",
       "2       3    1  26.0      0      0   7.9250\n",
       "3       1    1  35.0      1      0  53.1000\n",
       "4       3    0  35.0      0      0   8.0500"
      ]
     },
     "execution_count": 28,
     "metadata": {},
     "output_type": "execute_result"
    }
   ],
   "source": [
    "X.head()"
   ]
  },
  {
   "cell_type": "code",
   "execution_count": 29,
   "metadata": {},
   "outputs": [
    {
     "data": {
      "text/plain": [
       "0    0\n",
       "1    1\n",
       "2    1\n",
       "3    1\n",
       "4    0\n",
       "Name: Survived, dtype: int64"
      ]
     },
     "execution_count": 29,
     "metadata": {},
     "output_type": "execute_result"
    }
   ],
   "source": [
    "y.head()"
   ]
  },
  {
   "cell_type": "markdown",
   "metadata": {},
   "source": [
    "### Dividindo os dados em treino e teste "
   ]
  },
  {
   "cell_type": "code",
   "execution_count": 30,
   "metadata": {},
   "outputs": [],
   "source": [
    "X_train, X_test, y_train, y_test = train_test_split(X,y,test_size=0.3,random_state=0)"
   ]
  },
  {
   "cell_type": "markdown",
   "metadata": {},
   "source": [
    "### Verificando a forma dos dados"
   ]
  },
  {
   "cell_type": "code",
   "execution_count": 31,
   "metadata": {},
   "outputs": [
    {
     "data": {
      "text/plain": [
       "((499, 6), (215, 6))"
      ]
     },
     "execution_count": 31,
     "metadata": {},
     "output_type": "execute_result"
    }
   ],
   "source": [
    "X_train.shape,X_test.shape"
   ]
  },
  {
   "cell_type": "code",
   "execution_count": 32,
   "metadata": {},
   "outputs": [
    {
     "data": {
      "text/plain": [
       "((499,), (215,))"
      ]
     },
     "execution_count": 32,
     "metadata": {},
     "output_type": "execute_result"
    }
   ],
   "source": [
    "y_train.shape,y_test.shape"
   ]
  },
  {
   "cell_type": "code",
   "execution_count": 33,
   "metadata": {},
   "outputs": [],
   "source": [
    "#Instanciando o objeto classificador\n",
    "random_clf = RandomForestClassifier()"
   ]
  },
  {
   "cell_type": "code",
   "execution_count": 34,
   "metadata": {},
   "outputs": [
    {
     "data": {
      "text/plain": [
       "RandomForestClassifier(bootstrap=True, ccp_alpha=0.0, class_weight=None,\n",
       "                       criterion='gini', max_depth=None, max_features='auto',\n",
       "                       max_leaf_nodes=None, max_samples=None,\n",
       "                       min_impurity_decrease=0.0, min_impurity_split=None,\n",
       "                       min_samples_leaf=1, min_samples_split=2,\n",
       "                       min_weight_fraction_leaf=0.0, n_estimators=100,\n",
       "                       n_jobs=None, oob_score=False, random_state=None,\n",
       "                       verbose=0, warm_start=False)"
      ]
     },
     "execution_count": 34,
     "metadata": {},
     "output_type": "execute_result"
    }
   ],
   "source": [
    "#Treinando o modelo\n",
    "random_clf.fit(X_train,y_train)"
   ]
  },
  {
   "cell_type": "markdown",
   "metadata": {},
   "source": [
    "## Parâmetros do objeto RandomForestClassifier\n",
    "##### n_estimators: número de árvores que serão criadas na floresta.\n",
    "##### bootstrap: se será considerado o bootstrap dataset durante a criação das árvores.\n",
    "##### max_features: número total de features que as árvores serão criadas.\n",
    "##### criterion: medida de qualidade da divisão.\n",
    "##### splitter: estratégia utilizada para dividir o nó de decisão.\n",
    "##### max_depth: profundidade máxima da árvore.\n",
    "##### min_samples_split: número de amostras mínimas para considerar um nó para divisão.\n",
    "##### min_samples_leaf: número de amostras mínimas no nível folha. "
   ]
  },
  {
   "cell_type": "code",
   "execution_count": 35,
   "metadata": {},
   "outputs": [],
   "source": [
    "resultado = random_clf.predict(X_test)"
   ]
  },
  {
   "cell_type": "code",
   "execution_count": 36,
   "metadata": {},
   "outputs": [
    {
     "data": {
      "text/plain": [
       "array([0, 1, 1, 0, 0, 0, 0, 0, 0, 0, 0, 0, 1, 0, 0, 1, 0, 1, 1, 0, 0, 0,\n",
       "       1, 0, 0, 1, 1, 0, 0, 0, 0, 0, 0, 1, 0, 0, 1, 1, 0, 0, 0, 0, 0, 0,\n",
       "       0, 1, 0, 0, 0, 0, 0, 0, 0, 1, 1, 0, 1, 0, 0, 0, 1, 0, 1, 0, 1, 0,\n",
       "       1, 0, 1, 0, 0, 1, 1, 1, 1, 0, 0, 0, 1, 0, 1, 1, 0, 1, 1, 0, 0, 0,\n",
       "       1, 0, 1, 1, 1, 0, 1, 0, 1, 1, 0, 1, 0, 1, 1, 1, 1, 1, 1, 1, 1, 0,\n",
       "       0, 0, 0, 0, 1, 0, 0, 0, 1, 1, 0, 1, 0, 0, 1, 1, 1, 0, 0, 1, 1, 0,\n",
       "       1, 1, 1, 0, 1, 1, 0, 0, 1, 0, 1, 1, 0, 0, 0, 0, 0, 0, 0, 0, 0, 0,\n",
       "       0, 1, 0, 0, 0, 0, 0, 0, 0, 0, 0, 1, 1, 0, 0, 0, 1, 0, 1, 0, 0, 0,\n",
       "       1, 0, 0, 1, 0, 0, 0, 0, 0, 1, 1, 1, 1, 1, 0, 0, 0, 0, 0, 0, 1, 1,\n",
       "       0, 0, 1, 0, 1, 0, 0, 1, 0, 1, 1, 0, 0, 0, 0, 1, 0], dtype=int64)"
      ]
     },
     "execution_count": 36,
     "metadata": {},
     "output_type": "execute_result"
    }
   ],
   "source": [
    "resultado"
   ]
  },
  {
   "cell_type": "code",
   "execution_count": 37,
   "metadata": {},
   "outputs": [
    {
     "name": "stdout",
     "output_type": "stream",
     "text": [
      "              precision    recall  f1-score   support\n",
      "\n",
      "           0       0.80      0.84      0.82       125\n",
      "           1       0.76      0.70      0.73        90\n",
      "\n",
      "    accuracy                           0.78       215\n",
      "   macro avg       0.78      0.77      0.77       215\n",
      "weighted avg       0.78      0.78      0.78       215\n",
      "\n"
     ]
    }
   ],
   "source": [
    "from sklearn import metrics\n",
    "print(metrics.classification_report(y_test,resultado))"
   ]
  },
  {
   "cell_type": "markdown",
   "metadata": {},
   "source": [
    "### Verificando as features mais importantes para o modelo treinado\n"
   ]
  },
  {
   "cell_type": "code",
   "execution_count": 38,
   "metadata": {},
   "outputs": [
    {
     "data": {
      "text/plain": [
       "array([0.09779227, 0.22693215, 0.28273454, 0.05158198, 0.04308586,\n",
       "       0.29787321])"
      ]
     },
     "execution_count": 38,
     "metadata": {},
     "output_type": "execute_result"
    }
   ],
   "source": [
    "random_clf.feature_importances_"
   ]
  },
  {
   "cell_type": "code",
   "execution_count": 39,
   "metadata": {},
   "outputs": [],
   "source": [
    "feature_imp = pd.Series(random_clf.feature_importances_,index=X_train.columns).sort_values(ascending=False)"
   ]
  },
  {
   "cell_type": "code",
   "execution_count": 40,
   "metadata": {},
   "outputs": [
    {
     "data": {
      "text/plain": [
       "Fare      0.297873\n",
       "Age       0.282735\n",
       "Sex       0.226932\n",
       "Pclass    0.097792\n",
       "SibSp     0.051582\n",
       "Parch     0.043086\n",
       "dtype: float64"
      ]
     },
     "execution_count": 40,
     "metadata": {},
     "output_type": "execute_result"
    }
   ],
   "source": [
    "feature_imp"
   ]
  },
  {
   "cell_type": "code",
   "execution_count": 41,
   "metadata": {},
   "outputs": [],
   "source": [
    "def visualiza_features_importantes(features_lista):\n",
    "    %matplotlib inline\n",
    "\n",
    "    plt.figure(figsize=(16,8))\n",
    "    sns.barplot(x=features_lista, y=features_lista.index)\n",
    "\n",
    "    plt.xlabel('Feature Importance Score')\n",
    "    plt.ylabel('Features')\n",
    "    plt.title(\"Visualizing Important Features\")\n",
    "    plt.show()"
   ]
  },
  {
   "cell_type": "code",
   "execution_count": 42,
   "metadata": {},
   "outputs": [
    {
     "data": {
      "image/png": "[encoded data removed]",
      "text/plain": [
       "<Figure size 1152x576 with 1 Axes>"
      ]
     },
     "metadata": {
      "needs_background": "light"
     },
     "output_type": "display_data"
    }
   ],
   "source": [
    "visualiza_features_importantes(feature_imp)"
   ]
  },
  {
   "cell_type": "code",
   "execution_count": 43,
   "metadata": {},
   "outputs": [],
   "source": [
    "#Selecionando uma árvore da floresta\n",
    "tree0 = random_clf.estimators_[0]"
   ]
  },
  {
   "cell_type": "code",
   "execution_count": 45,
   "metadata": {},
   "outputs": [
    {
     "data": {
      "image/svg+xml": [
       "<?xml version=\"1.0\" encoding=\"UTF-8\" standalone=\"no\"?>\r\n",
       "<!DOCTYPE svg PUBLIC \"-//W3C//DTD SVG 1.1//EN\"\r\n",
       " \"http://www.w3.org/Graphics/SVG/1.1/DTD/svg11.dtd\">\r\n",
       "<!-- Generated by graphviz version 2.38.0 (20140413.2041)\r\n",
       " -->\r\n",
       "<!-- Title: Tree Pages: 1 -->\r\n",
       "<svg width=\"1269pt\" height=\"580pt\"\r\n",
       " viewBox=\"0.00 0.00 1269.00 580.00\" xmlns=\"http://www.w3.org/2000/svg\" xmlns:xlink=\"http://www.w3.org/1999/xlink\">\r\n",
       "<g id=\"graph0\" class=\"graph\" transform=\"scale(1 1) rotate(0) translate(4 576)\">\r\n",
       "<title>Tree</title>\r\n",
       "<polygon fill=\"white\" stroke=\"none\" points=\"-4,4 -4,-576 1265,-576 1265,4 -4,4\"/>\r\n",
       "<!-- 0 -->\r\n",
       "<g id=\"node1\" class=\"node\"><title>0</title>\r\n",
       "<path fill=\"#f7d9c3\" stroke=\"black\" d=\"M712,-572C712,-572 582,-572 582,-572 576,-572 570,-566 570,-560 570,-560 570,-486 570,-486 570,-480 576,-474 582,-474 582,-474 712,-474 712,-474 718,-474 724,-480 724,-486 724,-486 724,-560 724,-560 724,-566 718,-572 712,-572\"/>\r\n",
       "<text text-anchor=\"start\" x=\"620.5\" y=\"-556.8\" font-family=\"Helvetica,sans-Serif\" font-size=\"14.00\">node #0</text>\r\n",
       "<text text-anchor=\"start\" x=\"616.5\" y=\"-541.8\" font-family=\"Helvetica,sans-Serif\" font-size=\"14.00\">Sex ≤ 0.5</text>\r\n",
       "<text text-anchor=\"start\" x=\"609.5\" y=\"-526.8\" font-family=\"Helvetica,sans-Serif\" font-size=\"14.00\">gini = 0.484</text>\r\n",
       "<text text-anchor=\"start\" x=\"587\" y=\"-511.8\" font-family=\"Helvetica,sans-Serif\" font-size=\"14.00\">samples = 100.0%</text>\r\n",
       "<text text-anchor=\"start\" x=\"578\" y=\"-496.8\" font-family=\"Helvetica,sans-Serif\" font-size=\"14.00\">value = [0.589, 0.411]</text>\r\n",
       "<text text-anchor=\"start\" x=\"618\" y=\"-481.8\" font-family=\"Helvetica,sans-Serif\" font-size=\"14.00\">class = 0</text>\r\n",
       "</g>\r\n",
       "<!-- 1 -->\r\n",
       "<g id=\"node2\" class=\"node\"><title>1</title>\r\n",
       "<path fill=\"#eca471\" stroke=\"black\" d=\"M582.5,-438C582.5,-438 469.5,-438 469.5,-438 463.5,-438 457.5,-432 457.5,-426 457.5,-426 457.5,-352 457.5,-352 457.5,-346 463.5,-340 469.5,-340 469.5,-340 582.5,-340 582.5,-340 588.5,-340 594.5,-346 594.5,-352 594.5,-352 594.5,-426 594.5,-426 594.5,-432 588.5,-438 582.5,-438\"/>\r\n",
       "<text text-anchor=\"start\" x=\"499.5\" y=\"-422.8\" font-family=\"Helvetica,sans-Serif\" font-size=\"14.00\">node #1</text>\r\n",
       "<text text-anchor=\"start\" x=\"486.5\" y=\"-407.8\" font-family=\"Helvetica,sans-Serif\" font-size=\"14.00\">Pclass ≤ 1.5</text>\r\n",
       "<text text-anchor=\"start\" x=\"488.5\" y=\"-392.8\" font-family=\"Helvetica,sans-Serif\" font-size=\"14.00\">gini = 0.343</text>\r\n",
       "<text text-anchor=\"start\" x=\"470\" y=\"-377.8\" font-family=\"Helvetica,sans-Serif\" font-size=\"14.00\">samples = 61.8%</text>\r\n",
       "<text text-anchor=\"start\" x=\"465.5\" y=\"-362.8\" font-family=\"Helvetica,sans-Serif\" font-size=\"14.00\">value = [0.78, 0.22]</text>\r\n",
       "<text text-anchor=\"start\" x=\"497\" y=\"-347.8\" font-family=\"Helvetica,sans-Serif\" font-size=\"14.00\">class = 0</text>\r\n",
       "</g>\r\n",
       "<!-- 0&#45;&gt;1 -->\r\n",
       "<g id=\"edge1\" class=\"edge\"><title>0&#45;&gt;1</title>\r\n",
       "<path fill=\"none\" stroke=\"black\" d=\"M602.974,-473.972C594.55,-464.781 585.664,-455.088 577.041,-445.681\"/>\r\n",
       "<polygon fill=\"black\" stroke=\"black\" points=\"579.533,-443.22 570.196,-438.214 574.373,-447.95 579.533,-443.22\"/>\r\n",
       "<text text-anchor=\"middle\" x=\"569.11\" y=\"-459.49\" font-family=\"Helvetica,sans-Serif\" font-size=\"14.00\">True</text>\r\n",
       "</g>\r\n",
       "<!-- 110 -->\r\n",
       "<g id=\"node15\" class=\"node\"><title>110</title>\r\n",
       "<path fill=\"#80c0ee\" stroke=\"black\" d=\"M833,-438C833,-438 703,-438 703,-438 697,-438 691,-432 691,-426 691,-426 691,-352 691,-352 691,-346 697,-340 703,-340 703,-340 833,-340 833,-340 839,-340 845,-346 845,-352 845,-352 845,-426 845,-426 845,-432 839,-438 833,-438\"/>\r\n",
       "<text text-anchor=\"start\" x=\"733\" y=\"-422.8\" font-family=\"Helvetica,sans-Serif\" font-size=\"14.00\">node #110</text>\r\n",
       "<text text-anchor=\"start\" x=\"723\" y=\"-407.8\" font-family=\"Helvetica,sans-Serif\" font-size=\"14.00\">Fare ≤ 48.202</text>\r\n",
       "<text text-anchor=\"start\" x=\"730.5\" y=\"-392.8\" font-family=\"Helvetica,sans-Serif\" font-size=\"14.00\">gini = 0.389</text>\r\n",
       "<text text-anchor=\"start\" x=\"712\" y=\"-377.8\" font-family=\"Helvetica,sans-Serif\" font-size=\"14.00\">samples = 38.2%</text>\r\n",
       "<text text-anchor=\"start\" x=\"699\" y=\"-362.8\" font-family=\"Helvetica,sans-Serif\" font-size=\"14.00\">value = [0.265, 0.735]</text>\r\n",
       "<text text-anchor=\"start\" x=\"739\" y=\"-347.8\" font-family=\"Helvetica,sans-Serif\" font-size=\"14.00\">class = 1</text>\r\n",
       "</g>\r\n",
       "<!-- 0&#45;&gt;110 -->\r\n",
       "<g id=\"edge14\" class=\"edge\"><title>0&#45;&gt;110</title>\r\n",
       "<path fill=\"none\" stroke=\"black\" d=\"M691.026,-473.972C699.45,-464.781 708.336,-455.088 716.959,-445.681\"/>\r\n",
       "<polygon fill=\"black\" stroke=\"black\" points=\"719.627,-447.95 723.804,-438.214 714.467,-443.22 719.627,-447.95\"/>\r\n",
       "<text text-anchor=\"middle\" x=\"724.89\" y=\"-459.49\" font-family=\"Helvetica,sans-Serif\" font-size=\"14.00\">False</text>\r\n",
       "</g>\r\n",
       "<!-- 2 -->\r\n",
       "<g id=\"node3\" class=\"node\"><title>2</title>\r\n",
       "<path fill=\"#f9e3d2\" stroke=\"black\" d=\"M314,-304C314,-304 184,-304 184,-304 178,-304 172,-298 172,-292 172,-292 172,-218 172,-218 172,-212 178,-206 184,-206 184,-206 314,-206 314,-206 320,-206 326,-212 326,-218 326,-218 326,-292 326,-292 326,-298 320,-304 314,-304\"/>\r\n",
       "<text text-anchor=\"start\" x=\"222.5\" y=\"-288.8\" font-family=\"Helvetica,sans-Serif\" font-size=\"14.00\">node #2</text>\r\n",
       "<text text-anchor=\"start\" x=\"211.5\" y=\"-273.8\" font-family=\"Helvetica,sans-Serif\" font-size=\"14.00\">SibSp ≤ 0.5</text>\r\n",
       "<text text-anchor=\"start\" x=\"211.5\" y=\"-258.8\" font-family=\"Helvetica,sans-Serif\" font-size=\"14.00\">gini = 0.492</text>\r\n",
       "<text text-anchor=\"start\" x=\"193\" y=\"-243.8\" font-family=\"Helvetica,sans-Serif\" font-size=\"14.00\">samples = 13.9%</text>\r\n",
       "<text text-anchor=\"start\" x=\"180\" y=\"-228.8\" font-family=\"Helvetica,sans-Serif\" font-size=\"14.00\">value = [0.563, 0.437]</text>\r\n",
       "<text text-anchor=\"start\" x=\"220\" y=\"-213.8\" font-family=\"Helvetica,sans-Serif\" font-size=\"14.00\">class = 0</text>\r\n",
       "</g>\r\n",
       "<!-- 1&#45;&gt;2 -->\r\n",
       "<g id=\"edge2\" class=\"edge\"><title>1&#45;&gt;2</title>\r\n",
       "<path fill=\"none\" stroke=\"black\" d=\"M457.172,-355.201C420.385,-337.671 374.73,-315.915 335.558,-297.248\"/>\r\n",
       "<polygon fill=\"black\" stroke=\"black\" points=\"336.802,-293.964 326.269,-292.821 333.791,-300.283 336.802,-293.964\"/>\r\n",
       "</g>\r\n",
       "<!-- 41 -->\r\n",
       "<g id=\"node10\" class=\"node\"><title>41</title>\r\n",
       "<path fill=\"#ea985e\" stroke=\"black\" d=\"M591,-304C591,-304 461,-304 461,-304 455,-304 449,-298 449,-292 449,-292 449,-218 449,-218 449,-212 455,-206 461,-206 461,-206 591,-206 591,-206 597,-206 603,-212 603,-218 603,-218 603,-292 603,-292 603,-298 597,-304 591,-304\"/>\r\n",
       "<text text-anchor=\"start\" x=\"495.5\" y=\"-288.8\" font-family=\"Helvetica,sans-Serif\" font-size=\"14.00\">node #41</text>\r\n",
       "<text text-anchor=\"start\" x=\"485\" y=\"-273.8\" font-family=\"Helvetica,sans-Serif\" font-size=\"14.00\">Fare ≤ 3.248</text>\r\n",
       "<text text-anchor=\"start\" x=\"488.5\" y=\"-258.8\" font-family=\"Helvetica,sans-Serif\" font-size=\"14.00\">gini = 0.264</text>\r\n",
       "<text text-anchor=\"start\" x=\"470\" y=\"-243.8\" font-family=\"Helvetica,sans-Serif\" font-size=\"14.00\">samples = 47.9%</text>\r\n",
       "<text text-anchor=\"start\" x=\"457\" y=\"-228.8\" font-family=\"Helvetica,sans-Serif\" font-size=\"14.00\">value = [0.844, 0.156]</text>\r\n",
       "<text text-anchor=\"start\" x=\"497\" y=\"-213.8\" font-family=\"Helvetica,sans-Serif\" font-size=\"14.00\">class = 0</text>\r\n",
       "</g>\r\n",
       "<!-- 1&#45;&gt;41 -->\r\n",
       "<g id=\"edge9\" class=\"edge\"><title>1&#45;&gt;41</title>\r\n",
       "<path fill=\"none\" stroke=\"black\" d=\"M526,-339.972C526,-331.691 526,-323.003 526,-314.483\"/>\r\n",
       "<polygon fill=\"black\" stroke=\"black\" points=\"529.5,-314.214 526,-304.214 522.5,-314.214 529.5,-314.214\"/>\r\n",
       "</g>\r\n",
       "<!-- 3 -->\r\n",
       "<g id=\"node4\" class=\"node\"><title>3</title>\r\n",
       "<path fill=\"#f5cdb0\" stroke=\"black\" d=\"M142,-170C142,-170 12,-170 12,-170 6,-170 0,-164 0,-158 0,-158 0,-84 0,-84 0,-78 6,-72 12,-72 12,-72 142,-72 142,-72 148,-72 154,-78 154,-84 154,-84 154,-158 154,-158 154,-164 148,-170 142,-170\"/>\r\n",
       "<text text-anchor=\"start\" x=\"50.5\" y=\"-154.8\" font-family=\"Helvetica,sans-Serif\" font-size=\"14.00\">node #3</text>\r\n",
       "<text text-anchor=\"start\" x=\"42\" y=\"-139.8\" font-family=\"Helvetica,sans-Serif\" font-size=\"14.00\">Age ≤ 57.0</text>\r\n",
       "<text text-anchor=\"start\" x=\"39.5\" y=\"-124.8\" font-family=\"Helvetica,sans-Serif\" font-size=\"14.00\">gini = 0.469</text>\r\n",
       "<text text-anchor=\"start\" x=\"25.5\" y=\"-109.8\" font-family=\"Helvetica,sans-Serif\" font-size=\"14.00\">samples = 9.5%</text>\r\n",
       "<text text-anchor=\"start\" x=\"8\" y=\"-94.8\" font-family=\"Helvetica,sans-Serif\" font-size=\"14.00\">value = [0.625, 0.375]</text>\r\n",
       "<text text-anchor=\"start\" x=\"48\" y=\"-79.8\" font-family=\"Helvetica,sans-Serif\" font-size=\"14.00\">class = 0</text>\r\n",
       "</g>\r\n",
       "<!-- 2&#45;&gt;3 -->\r\n",
       "<g id=\"edge3\" class=\"edge\"><title>2&#45;&gt;3</title>\r\n",
       "<path fill=\"none\" stroke=\"black\" d=\"M186.417,-205.972C173.968,-196.417 160.81,-186.319 148.1,-176.565\"/>\r\n",
       "<polygon fill=\"black\" stroke=\"black\" points=\"149.888,-173.526 139.824,-170.214 145.626,-179.079 149.888,-173.526\"/>\r\n",
       "</g>\r\n",
       "<!-- 24 -->\r\n",
       "<g id=\"node7\" class=\"node\"><title>24</title>\r\n",
       "<path fill=\"#d1e8f9\" stroke=\"black\" d=\"M314,-170C314,-170 184,-170 184,-170 178,-170 172,-164 172,-158 172,-158 172,-84 172,-84 172,-78 178,-72 184,-72 184,-72 314,-72 314,-72 320,-72 326,-78 326,-84 326,-84 326,-158 326,-158 326,-164 320,-170 314,-170\"/>\r\n",
       "<text text-anchor=\"start\" x=\"218.5\" y=\"-154.8\" font-family=\"Helvetica,sans-Serif\" font-size=\"14.00\">node #24</text>\r\n",
       "<text text-anchor=\"start\" x=\"214\" y=\"-139.8\" font-family=\"Helvetica,sans-Serif\" font-size=\"14.00\">Age ≤ 47.0</text>\r\n",
       "<text text-anchor=\"start\" x=\"211.5\" y=\"-124.8\" font-family=\"Helvetica,sans-Serif\" font-size=\"14.00\">gini = 0.491</text>\r\n",
       "<text text-anchor=\"start\" x=\"197.5\" y=\"-109.8\" font-family=\"Helvetica,sans-Serif\" font-size=\"14.00\">samples = 4.4%</text>\r\n",
       "<text text-anchor=\"start\" x=\"180\" y=\"-94.8\" font-family=\"Helvetica,sans-Serif\" font-size=\"14.00\">value = [0.435, 0.565]</text>\r\n",
       "<text text-anchor=\"start\" x=\"220\" y=\"-79.8\" font-family=\"Helvetica,sans-Serif\" font-size=\"14.00\">class = 1</text>\r\n",
       "</g>\r\n",
       "<!-- 2&#45;&gt;24 -->\r\n",
       "<g id=\"edge6\" class=\"edge\"><title>2&#45;&gt;24</title>\r\n",
       "<path fill=\"none\" stroke=\"black\" d=\"M249,-205.972C249,-197.691 249,-189.003 249,-180.483\"/>\r\n",
       "<polygon fill=\"black\" stroke=\"black\" points=\"252.5,-180.214 249,-170.214 245.5,-180.214 252.5,-180.214\"/>\r\n",
       "</g>\r\n",
       "<!-- 4 -->\r\n",
       "<g id=\"node5\" class=\"node\"><title>4</title>\r\n",
       "<path fill=\"#c0c0c0\" stroke=\"black\" d=\"M63,-36C63,-36 33,-36 33,-36 27,-36 21,-30 21,-24 21,-24 21,-12 21,-12 21,-6 27,-0 33,-0 33,-0 63,-0 63,-0 69,-0 75,-6 75,-12 75,-12 75,-24 75,-24 75,-30 69,-36 63,-36\"/>\r\n",
       "<text text-anchor=\"middle\" x=\"48\" y=\"-14.3\" font-family=\"Helvetica,sans-Serif\" font-size=\"14.00\">(...)</text>\r\n",
       "</g>\r\n",
       "<!-- 3&#45;&gt;4 -->\r\n",
       "<g id=\"edge4\" class=\"edge\"><title>3&#45;&gt;4</title>\r\n",
       "<path fill=\"none\" stroke=\"black\" d=\"M63.1795,-71.8664C60.6233,-62.9639 58.0389,-53.9632 55.745,-45.974\"/>\r\n",
       "<polygon fill=\"black\" stroke=\"black\" points=\"59.0475,-44.7933 52.9236,-36.1476 52.3193,-46.7252 59.0475,-44.7933\"/>\r\n",
       "</g>\r\n",
       "<!-- 23 -->\r\n",
       "<g id=\"node6\" class=\"node\"><title>23</title>\r\n",
       "<path fill=\"#c0c0c0\" stroke=\"black\" d=\"M135,-36C135,-36 105,-36 105,-36 99,-36 93,-30 93,-24 93,-24 93,-12 93,-12 93,-6 99,-0 105,-0 105,-0 135,-0 135,-0 141,-0 147,-6 147,-12 147,-12 147,-24 147,-24 147,-30 141,-36 135,-36\"/>\r\n",
       "<text text-anchor=\"middle\" x=\"120\" y=\"-14.3\" font-family=\"Helvetica,sans-Serif\" font-size=\"14.00\">(...)</text>\r\n",
       "</g>\r\n",
       "<!-- 3&#45;&gt;23 -->\r\n",
       "<g id=\"edge5\" class=\"edge\"><title>3&#45;&gt;23</title>\r\n",
       "<path fill=\"none\" stroke=\"black\" d=\"M97.4925,-71.8664C101.368,-62.7639 105.287,-53.5586 108.745,-45.437\"/>\r\n",
       "<polygon fill=\"black\" stroke=\"black\" points=\"112.003,-46.7195 112.7,-36.1476 105.562,-43.9774 112.003,-46.7195\"/>\r\n",
       "</g>\r\n",
       "<!-- 25 -->\r\n",
       "<g id=\"node8\" class=\"node\"><title>25</title>\r\n",
       "<path fill=\"#c0c0c0\" stroke=\"black\" d=\"M221,-36C221,-36 191,-36 191,-36 185,-36 179,-30 179,-24 179,-24 179,-12 179,-12 179,-6 185,-0 191,-0 191,-0 221,-0 221,-0 227,-0 233,-6 233,-12 233,-12 233,-24 233,-24 233,-30 227,-36 221,-36\"/>\r\n",
       "<text text-anchor=\"middle\" x=\"206\" y=\"-14.3\" font-family=\"Helvetica,sans-Serif\" font-size=\"14.00\">(...)</text>\r\n",
       "</g>\r\n",
       "<!-- 24&#45;&gt;25 -->\r\n",
       "<g id=\"edge7\" class=\"edge\"><title>24&#45;&gt;25</title>\r\n",
       "<path fill=\"none\" stroke=\"black\" d=\"M228.507,-71.8664C224.632,-62.7639 220.713,-53.5586 217.255,-45.437\"/>\r\n",
       "<polygon fill=\"black\" stroke=\"black\" points=\"220.438,-43.9774 213.3,-36.1476 213.997,-46.7195 220.438,-43.9774\"/>\r\n",
       "</g>\r\n",
       "<!-- 40 -->\r\n",
       "<g id=\"node9\" class=\"node\"><title>40</title>\r\n",
       "<path fill=\"#c0c0c0\" stroke=\"black\" d=\"M293,-36C293,-36 263,-36 263,-36 257,-36 251,-30 251,-24 251,-24 251,-12 251,-12 251,-6 257,-0 263,-0 263,-0 293,-0 293,-0 299,-0 305,-6 305,-12 305,-12 305,-24 305,-24 305,-30 299,-36 293,-36\"/>\r\n",
       "<text text-anchor=\"middle\" x=\"278\" y=\"-14.3\" font-family=\"Helvetica,sans-Serif\" font-size=\"14.00\">(...)</text>\r\n",
       "</g>\r\n",
       "<!-- 24&#45;&gt;40 -->\r\n",
       "<g id=\"edge8\" class=\"edge\"><title>24&#45;&gt;40</title>\r\n",
       "<path fill=\"none\" stroke=\"black\" d=\"M262.821,-71.8664C265.377,-62.9639 267.961,-53.9632 270.255,-45.974\"/>\r\n",
       "<polygon fill=\"black\" stroke=\"black\" points=\"273.681,-46.7252 273.076,-36.1476 266.953,-44.7933 273.681,-46.7252\"/>\r\n",
       "</g>\r\n",
       "<!-- 42 -->\r\n",
       "<g id=\"node11\" class=\"node\"><title>42</title>\r\n",
       "<path fill=\"#399de5\" stroke=\"black\" d=\"M453.5,-162.5C453.5,-162.5 356.5,-162.5 356.5,-162.5 350.5,-162.5 344.5,-156.5 344.5,-150.5 344.5,-150.5 344.5,-91.5 344.5,-91.5 344.5,-85.5 350.5,-79.5 356.5,-79.5 356.5,-79.5 453.5,-79.5 453.5,-79.5 459.5,-79.5 465.5,-85.5 465.5,-91.5 465.5,-91.5 465.5,-150.5 465.5,-150.5 465.5,-156.5 459.5,-162.5 453.5,-162.5\"/>\r\n",
       "<text text-anchor=\"start\" x=\"374.5\" y=\"-147.3\" font-family=\"Helvetica,sans-Serif\" font-size=\"14.00\">node #42</text>\r\n",
       "<text text-anchor=\"start\" x=\"376\" y=\"-132.3\" font-family=\"Helvetica,sans-Serif\" font-size=\"14.00\">gini = 0.0</text>\r\n",
       "<text text-anchor=\"start\" x=\"353.5\" y=\"-117.3\" font-family=\"Helvetica,sans-Serif\" font-size=\"14.00\">samples = 0.3%</text>\r\n",
       "<text text-anchor=\"start\" x=\"352.5\" y=\"-102.3\" font-family=\"Helvetica,sans-Serif\" font-size=\"14.00\">value = [0.0, 1.0]</text>\r\n",
       "<text text-anchor=\"start\" x=\"376\" y=\"-87.3\" font-family=\"Helvetica,sans-Serif\" font-size=\"14.00\">class = 1</text>\r\n",
       "</g>\r\n",
       "<!-- 41&#45;&gt;42 -->\r\n",
       "<g id=\"edge10\" class=\"edge\"><title>41&#45;&gt;42</title>\r\n",
       "<path fill=\"none\" stroke=\"black\" d=\"M481.974,-205.972C471.331,-194.361 459.953,-181.948 449.298,-170.325\"/>\r\n",
       "<polygon fill=\"black\" stroke=\"black\" points=\"451.753,-167.823 442.415,-162.817 446.592,-172.553 451.753,-167.823\"/>\r\n",
       "</g>\r\n",
       "<!-- 43 -->\r\n",
       "<g id=\"node12\" class=\"node\"><title>43</title>\r\n",
       "<path fill=\"#ea975c\" stroke=\"black\" d=\"M626,-170C626,-170 496,-170 496,-170 490,-170 484,-164 484,-158 484,-158 484,-84 484,-84 484,-78 490,-72 496,-72 496,-72 626,-72 626,-72 632,-72 638,-78 638,-84 638,-84 638,-158 638,-158 638,-164 632,-170 626,-170\"/>\r\n",
       "<text text-anchor=\"start\" x=\"530.5\" y=\"-154.8\" font-family=\"Helvetica,sans-Serif\" font-size=\"14.00\">node #43</text>\r\n",
       "<text text-anchor=\"start\" x=\"530\" y=\"-139.8\" font-family=\"Helvetica,sans-Serif\" font-size=\"14.00\">Age ≤ 7.5</text>\r\n",
       "<text text-anchor=\"start\" x=\"523.5\" y=\"-124.8\" font-family=\"Helvetica,sans-Serif\" font-size=\"14.00\">gini = 0.254</text>\r\n",
       "<text text-anchor=\"start\" x=\"505\" y=\"-109.8\" font-family=\"Helvetica,sans-Serif\" font-size=\"14.00\">samples = 47.6%</text>\r\n",
       "<text text-anchor=\"start\" x=\"492\" y=\"-94.8\" font-family=\"Helvetica,sans-Serif\" font-size=\"14.00\">value = [0.851, 0.149]</text>\r\n",
       "<text text-anchor=\"start\" x=\"532\" y=\"-79.8\" font-family=\"Helvetica,sans-Serif\" font-size=\"14.00\">class = 0</text>\r\n",
       "</g>\r\n",
       "<!-- 41&#45;&gt;43 -->\r\n",
       "<g id=\"edge11\" class=\"edge\"><title>41&#45;&gt;43</title>\r\n",
       "<path fill=\"none\" stroke=\"black\" d=\"M538.735,-205.972C540.979,-197.509 543.336,-188.62 545.642,-179.922\"/>\r\n",
       "<polygon fill=\"black\" stroke=\"black\" points=\"549.036,-180.777 548.216,-170.214 542.27,-178.983 549.036,-180.777\"/>\r\n",
       "</g>\r\n",
       "<!-- 44 -->\r\n",
       "<g id=\"node13\" class=\"node\"><title>44</title>\r\n",
       "<path fill=\"#c0c0c0\" stroke=\"black\" d=\"M518,-36C518,-36 488,-36 488,-36 482,-36 476,-30 476,-24 476,-24 476,-12 476,-12 476,-6 482,-0 488,-0 488,-0 518,-0 518,-0 524,-0 530,-6 530,-12 530,-12 530,-24 530,-24 530,-30 524,-36 518,-36\"/>\r\n",
       "<text text-anchor=\"middle\" x=\"503\" y=\"-14.3\" font-family=\"Helvetica,sans-Serif\" font-size=\"14.00\">(...)</text>\r\n",
       "</g>\r\n",
       "<!-- 43&#45;&gt;44 -->\r\n",
       "<g id=\"edge12\" class=\"edge\"><title>43&#45;&gt;44</title>\r\n",
       "<path fill=\"none\" stroke=\"black\" d=\"M533.359,-71.8664C528.017,-62.5638 522.613,-53.1539 517.875,-44.903\"/>\r\n",
       "<polygon fill=\"black\" stroke=\"black\" points=\"520.862,-43.0765 512.847,-36.1476 514.792,-46.5624 520.862,-43.0765\"/>\r\n",
       "</g>\r\n",
       "<!-- 47 -->\r\n",
       "<g id=\"node14\" class=\"node\"><title>47</title>\r\n",
       "<path fill=\"#c0c0c0\" stroke=\"black\" d=\"M590,-36C590,-36 560,-36 560,-36 554,-36 548,-30 548,-24 548,-24 548,-12 548,-12 548,-6 554,-0 560,-0 560,-0 590,-0 590,-0 596,-0 602,-6 602,-12 602,-12 602,-24 602,-24 602,-30 596,-36 590,-36\"/>\r\n",
       "<text text-anchor=\"middle\" x=\"575\" y=\"-14.3\" font-family=\"Helvetica,sans-Serif\" font-size=\"14.00\">(...)</text>\r\n",
       "</g>\r\n",
       "<!-- 43&#45;&gt;47 -->\r\n",
       "<g id=\"edge13\" class=\"edge\"><title>43&#45;&gt;47</title>\r\n",
       "<path fill=\"none\" stroke=\"black\" d=\"M567.672,-71.8664C568.892,-63.064 570.126,-54.1654 571.224,-46.2437\"/>\r\n",
       "<polygon fill=\"black\" stroke=\"black\" points=\"574.717,-46.5334 572.623,-36.1476 567.783,-45.5723 574.717,-46.5334\"/>\r\n",
       "</g>\r\n",
       "<!-- 111 -->\r\n",
       "<g id=\"node16\" class=\"node\"><title>111</title>\r\n",
       "<path fill=\"#a9d4f4\" stroke=\"black\" d=\"M833,-304C833,-304 703,-304 703,-304 697,-304 691,-298 691,-292 691,-292 691,-218 691,-218 691,-212 697,-206 703,-206 703,-206 833,-206 833,-206 839,-206 845,-212 845,-218 845,-218 845,-292 845,-292 845,-298 839,-304 833,-304\"/>\r\n",
       "<text text-anchor=\"start\" x=\"733\" y=\"-288.8\" font-family=\"Helvetica,sans-Serif\" font-size=\"14.00\">node #111</text>\r\n",
       "<text text-anchor=\"start\" x=\"723\" y=\"-273.8\" font-family=\"Helvetica,sans-Serif\" font-size=\"14.00\">Fare ≤ 39.644</text>\r\n",
       "<text text-anchor=\"start\" x=\"730.5\" y=\"-258.8\" font-family=\"Helvetica,sans-Serif\" font-size=\"14.00\">gini = 0.461</text>\r\n",
       "<text text-anchor=\"start\" x=\"712\" y=\"-243.8\" font-family=\"Helvetica,sans-Serif\" font-size=\"14.00\">samples = 27.4%</text>\r\n",
       "<text text-anchor=\"start\" x=\"699\" y=\"-228.8\" font-family=\"Helvetica,sans-Serif\" font-size=\"14.00\">value = [0.361, 0.639]</text>\r\n",
       "<text text-anchor=\"start\" x=\"739\" y=\"-213.8\" font-family=\"Helvetica,sans-Serif\" font-size=\"14.00\">class = 1</text>\r\n",
       "</g>\r\n",
       "<!-- 110&#45;&gt;111 -->\r\n",
       "<g id=\"edge15\" class=\"edge\"><title>110&#45;&gt;111</title>\r\n",
       "<path fill=\"none\" stroke=\"black\" d=\"M768,-339.972C768,-331.691 768,-323.003 768,-314.483\"/>\r\n",
       "<polygon fill=\"black\" stroke=\"black\" points=\"771.5,-314.214 768,-304.214 764.5,-314.214 771.5,-314.214\"/>\r\n",
       "</g>\r\n",
       "<!-- 174 -->\r\n",
       "<g id=\"node21\" class=\"node\"><title>174</title>\r\n",
       "<path fill=\"#3d9fe6\" stroke=\"black\" d=\"M1093,-304C1093,-304 963,-304 963,-304 957,-304 951,-298 951,-292 951,-292 951,-218 951,-218 951,-212 957,-206 963,-206 963,-206 1093,-206 1093,-206 1099,-206 1105,-212 1105,-218 1105,-218 1105,-292 1105,-292 1105,-298 1099,-304 1093,-304\"/>\r\n",
       "<text text-anchor=\"start\" x=\"993\" y=\"-288.8\" font-family=\"Helvetica,sans-Serif\" font-size=\"14.00\">node #174</text>\r\n",
       "<text text-anchor=\"start\" x=\"979\" y=\"-273.8\" font-family=\"Helvetica,sans-Serif\" font-size=\"14.00\">Fare ≤ 143.592</text>\r\n",
       "<text text-anchor=\"start\" x=\"990.5\" y=\"-258.8\" font-family=\"Helvetica,sans-Serif\" font-size=\"14.00\">gini = 0.038</text>\r\n",
       "<text text-anchor=\"start\" x=\"972\" y=\"-243.8\" font-family=\"Helvetica,sans-Serif\" font-size=\"14.00\">samples = 10.7%</text>\r\n",
       "<text text-anchor=\"start\" x=\"959\" y=\"-228.8\" font-family=\"Helvetica,sans-Serif\" font-size=\"14.00\">value = [0.019, 0.981]</text>\r\n",
       "<text text-anchor=\"start\" x=\"999\" y=\"-213.8\" font-family=\"Helvetica,sans-Serif\" font-size=\"14.00\">class = 1</text>\r\n",
       "</g>\r\n",
       "<!-- 110&#45;&gt;174 -->\r\n",
       "<g id=\"edge20\" class=\"edge\"><title>110&#45;&gt;174</title>\r\n",
       "<path fill=\"none\" stroke=\"black\" d=\"M845.305,-348.753C875.686,-333.329 910.69,-315.557 941.877,-299.724\"/>\r\n",
       "<polygon fill=\"black\" stroke=\"black\" points=\"943.661,-302.744 950.993,-295.096 940.492,-296.502 943.661,-302.744\"/>\r\n",
       "</g>\r\n",
       "<!-- 112 -->\r\n",
       "<g id=\"node17\" class=\"node\"><title>112</title>\r\n",
       "<path fill=\"#9fd0f2\" stroke=\"black\" d=\"M798,-170C798,-170 668,-170 668,-170 662,-170 656,-164 656,-158 656,-158 656,-84 656,-84 656,-78 662,-72 668,-72 668,-72 798,-72 798,-72 804,-72 810,-78 810,-84 810,-84 810,-158 810,-158 810,-164 804,-170 798,-170\"/>\r\n",
       "<text text-anchor=\"start\" x=\"698\" y=\"-154.8\" font-family=\"Helvetica,sans-Serif\" font-size=\"14.00\">node #112</text>\r\n",
       "<text text-anchor=\"start\" x=\"693.5\" y=\"-139.8\" font-family=\"Helvetica,sans-Serif\" font-size=\"14.00\">Pclass ≤ 2.5</text>\r\n",
       "<text text-anchor=\"start\" x=\"695.5\" y=\"-124.8\" font-family=\"Helvetica,sans-Serif\" font-size=\"14.00\">gini = 0.449</text>\r\n",
       "<text text-anchor=\"start\" x=\"677\" y=\"-109.8\" font-family=\"Helvetica,sans-Serif\" font-size=\"14.00\">samples = 26.5%</text>\r\n",
       "<text text-anchor=\"start\" x=\"664\" y=\"-94.8\" font-family=\"Helvetica,sans-Serif\" font-size=\"14.00\">value = [0.341, 0.659]</text>\r\n",
       "<text text-anchor=\"start\" x=\"704\" y=\"-79.8\" font-family=\"Helvetica,sans-Serif\" font-size=\"14.00\">class = 1</text>\r\n",
       "</g>\r\n",
       "<!-- 111&#45;&gt;112 -->\r\n",
       "<g id=\"edge16\" class=\"edge\"><title>111&#45;&gt;112</title>\r\n",
       "<path fill=\"none\" stroke=\"black\" d=\"M755.265,-205.972C753.021,-197.509 750.664,-188.62 748.358,-179.922\"/>\r\n",
       "<polygon fill=\"black\" stroke=\"black\" points=\"751.73,-178.983 745.784,-170.214 744.964,-180.777 751.73,-178.983\"/>\r\n",
       "</g>\r\n",
       "<!-- 173 -->\r\n",
       "<g id=\"node20\" class=\"node\"><title>173</title>\r\n",
       "<path fill=\"#e58139\" stroke=\"black\" d=\"M937.5,-162.5C937.5,-162.5 840.5,-162.5 840.5,-162.5 834.5,-162.5 828.5,-156.5 828.5,-150.5 828.5,-150.5 828.5,-91.5 828.5,-91.5 828.5,-85.5 834.5,-79.5 840.5,-79.5 840.5,-79.5 937.5,-79.5 937.5,-79.5 943.5,-79.5 949.5,-85.5 949.5,-91.5 949.5,-91.5 949.5,-150.5 949.5,-150.5 949.5,-156.5 943.5,-162.5 937.5,-162.5\"/>\r\n",
       "<text text-anchor=\"start\" x=\"854\" y=\"-147.3\" font-family=\"Helvetica,sans-Serif\" font-size=\"14.00\">node #173</text>\r\n",
       "<text text-anchor=\"start\" x=\"860\" y=\"-132.3\" font-family=\"Helvetica,sans-Serif\" font-size=\"14.00\">gini = 0.0</text>\r\n",
       "<text text-anchor=\"start\" x=\"837.5\" y=\"-117.3\" font-family=\"Helvetica,sans-Serif\" font-size=\"14.00\">samples = 0.9%</text>\r\n",
       "<text text-anchor=\"start\" x=\"836.5\" y=\"-102.3\" font-family=\"Helvetica,sans-Serif\" font-size=\"14.00\">value = [1.0, 0.0]</text>\r\n",
       "<text text-anchor=\"start\" x=\"860\" y=\"-87.3\" font-family=\"Helvetica,sans-Serif\" font-size=\"14.00\">class = 0</text>\r\n",
       "</g>\r\n",
       "<!-- 111&#45;&gt;173 -->\r\n",
       "<g id=\"edge19\" class=\"edge\"><title>111&#45;&gt;173</title>\r\n",
       "<path fill=\"none\" stroke=\"black\" d=\"M812.026,-205.972C822.669,-194.361 834.047,-181.948 844.702,-170.325\"/>\r\n",
       "<polygon fill=\"black\" stroke=\"black\" points=\"847.408,-172.553 851.585,-162.817 842.247,-167.823 847.408,-172.553\"/>\r\n",
       "</g>\r\n",
       "<!-- 113 -->\r\n",
       "<g id=\"node18\" class=\"node\"><title>113</title>\r\n",
       "<path fill=\"#c0c0c0\" stroke=\"black\" d=\"M712,-36C712,-36 682,-36 682,-36 676,-36 670,-30 670,-24 670,-24 670,-12 670,-12 670,-6 676,-0 682,-0 682,-0 712,-0 712,-0 718,-0 724,-6 724,-12 724,-12 724,-24 724,-24 724,-30 718,-36 712,-36\"/>\r\n",
       "<text text-anchor=\"middle\" x=\"697\" y=\"-14.3\" font-family=\"Helvetica,sans-Serif\" font-size=\"14.00\">(...)</text>\r\n",
       "</g>\r\n",
       "<!-- 112&#45;&gt;113 -->\r\n",
       "<g id=\"edge17\" class=\"edge\"><title>112&#45;&gt;113</title>\r\n",
       "<path fill=\"none\" stroke=\"black\" d=\"M715.843,-71.8664C712.635,-62.8639 709.39,-53.7609 706.519,-45.7051\"/>\r\n",
       "<polygon fill=\"black\" stroke=\"black\" points=\"709.766,-44.392 703.112,-36.1476 703.173,-46.7422 709.766,-44.392\"/>\r\n",
       "</g>\r\n",
       "<!-- 130 -->\r\n",
       "<g id=\"node19\" class=\"node\"><title>130</title>\r\n",
       "<path fill=\"#c0c0c0\" stroke=\"black\" d=\"M784,-36C784,-36 754,-36 754,-36 748,-36 742,-30 742,-24 742,-24 742,-12 742,-12 742,-6 748,-0 754,-0 754,-0 784,-0 784,-0 790,-0 796,-6 796,-12 796,-12 796,-24 796,-24 796,-30 790,-36 784,-36\"/>\r\n",
       "<text text-anchor=\"middle\" x=\"769\" y=\"-14.3\" font-family=\"Helvetica,sans-Serif\" font-size=\"14.00\">(...)</text>\r\n",
       "</g>\r\n",
       "<!-- 112&#45;&gt;130 -->\r\n",
       "<g id=\"edge18\" class=\"edge\"><title>112&#45;&gt;130</title>\r\n",
       "<path fill=\"none\" stroke=\"black\" d=\"M750.157,-71.8664C753.365,-62.8639 756.61,-53.7609 759.481,-45.7051\"/>\r\n",
       "<polygon fill=\"black\" stroke=\"black\" points=\"762.827,-46.7422 762.888,-36.1476 756.234,-44.392 762.827,-46.7422\"/>\r\n",
       "</g>\r\n",
       "<!-- 175 -->\r\n",
       "<g id=\"node22\" class=\"node\"><title>175</title>\r\n",
       "<path fill=\"#399de5\" stroke=\"black\" d=\"M1076.5,-162.5C1076.5,-162.5 979.5,-162.5 979.5,-162.5 973.5,-162.5 967.5,-156.5 967.5,-150.5 967.5,-150.5 967.5,-91.5 967.5,-91.5 967.5,-85.5 973.5,-79.5 979.5,-79.5 979.5,-79.5 1076.5,-79.5 1076.5,-79.5 1082.5,-79.5 1088.5,-85.5 1088.5,-91.5 1088.5,-91.5 1088.5,-150.5 1088.5,-150.5 1088.5,-156.5 1082.5,-162.5 1076.5,-162.5\"/>\r\n",
       "<text text-anchor=\"start\" x=\"993\" y=\"-147.3\" font-family=\"Helvetica,sans-Serif\" font-size=\"14.00\">node #175</text>\r\n",
       "<text text-anchor=\"start\" x=\"999\" y=\"-132.3\" font-family=\"Helvetica,sans-Serif\" font-size=\"14.00\">gini = 0.0</text>\r\n",
       "<text text-anchor=\"start\" x=\"976.5\" y=\"-117.3\" font-family=\"Helvetica,sans-Serif\" font-size=\"14.00\">samples = 7.3%</text>\r\n",
       "<text text-anchor=\"start\" x=\"975.5\" y=\"-102.3\" font-family=\"Helvetica,sans-Serif\" font-size=\"14.00\">value = [0.0, 1.0]</text>\r\n",
       "<text text-anchor=\"start\" x=\"999\" y=\"-87.3\" font-family=\"Helvetica,sans-Serif\" font-size=\"14.00\">class = 1</text>\r\n",
       "</g>\r\n",
       "<!-- 174&#45;&gt;175 -->\r\n",
       "<g id=\"edge21\" class=\"edge\"><title>174&#45;&gt;175</title>\r\n",
       "<path fill=\"none\" stroke=\"black\" d=\"M1028,-205.972C1028,-195.246 1028,-183.835 1028,-172.994\"/>\r\n",
       "<polygon fill=\"black\" stroke=\"black\" points=\"1031.5,-172.817 1028,-162.817 1024.5,-172.817 1031.5,-172.817\"/>\r\n",
       "</g>\r\n",
       "<!-- 176 -->\r\n",
       "<g id=\"node23\" class=\"node\"><title>176</title>\r\n",
       "<path fill=\"#49a5e7\" stroke=\"black\" d=\"M1249,-170C1249,-170 1119,-170 1119,-170 1113,-170 1107,-164 1107,-158 1107,-158 1107,-84 1107,-84 1107,-78 1113,-72 1119,-72 1119,-72 1249,-72 1249,-72 1255,-72 1261,-78 1261,-84 1261,-84 1261,-158 1261,-158 1261,-164 1255,-170 1249,-170\"/>\r\n",
       "<text text-anchor=\"start\" x=\"1149\" y=\"-154.8\" font-family=\"Helvetica,sans-Serif\" font-size=\"14.00\">node #176</text>\r\n",
       "<text text-anchor=\"start\" x=\"1146.5\" y=\"-139.8\" font-family=\"Helvetica,sans-Serif\" font-size=\"14.00\">SibSp ≤ 0.5</text>\r\n",
       "<text text-anchor=\"start\" x=\"1146.5\" y=\"-124.8\" font-family=\"Helvetica,sans-Serif\" font-size=\"14.00\">gini = 0.142</text>\r\n",
       "<text text-anchor=\"start\" x=\"1132.5\" y=\"-109.8\" font-family=\"Helvetica,sans-Serif\" font-size=\"14.00\">samples = 3.5%</text>\r\n",
       "<text text-anchor=\"start\" x=\"1115\" y=\"-94.8\" font-family=\"Helvetica,sans-Serif\" font-size=\"14.00\">value = [0.077, 0.923]</text>\r\n",
       "<text text-anchor=\"start\" x=\"1155\" y=\"-79.8\" font-family=\"Helvetica,sans-Serif\" font-size=\"14.00\">class = 1</text>\r\n",
       "</g>\r\n",
       "<!-- 174&#45;&gt;176 -->\r\n",
       "<g id=\"edge22\" class=\"edge\"><title>174&#45;&gt;176</title>\r\n",
       "<path fill=\"none\" stroke=\"black\" d=\"M1084.76,-205.972C1095.94,-196.508 1107.76,-186.512 1119.18,-176.844\"/>\r\n",
       "<polygon fill=\"black\" stroke=\"black\" points=\"1121.65,-179.345 1127.02,-170.214 1117.13,-174.001 1121.65,-179.345\"/>\r\n",
       "</g>\r\n",
       "<!-- 177 -->\r\n",
       "<g id=\"node24\" class=\"node\"><title>177</title>\r\n",
       "<path fill=\"#c0c0c0\" stroke=\"black\" d=\"M1163,-36C1163,-36 1133,-36 1133,-36 1127,-36 1121,-30 1121,-24 1121,-24 1121,-12 1121,-12 1121,-6 1127,-0 1133,-0 1133,-0 1163,-0 1163,-0 1169,-0 1175,-6 1175,-12 1175,-12 1175,-24 1175,-24 1175,-30 1169,-36 1163,-36\"/>\r\n",
       "<text text-anchor=\"middle\" x=\"1148\" y=\"-14.3\" font-family=\"Helvetica,sans-Serif\" font-size=\"14.00\">(...)</text>\r\n",
       "</g>\r\n",
       "<!-- 176&#45;&gt;177 -->\r\n",
       "<g id=\"edge23\" class=\"edge\"><title>176&#45;&gt;177</title>\r\n",
       "<path fill=\"none\" stroke=\"black\" d=\"M1166.84,-71.8664C1163.63,-62.8639 1160.39,-53.7609 1157.52,-45.7051\"/>\r\n",
       "<polygon fill=\"black\" stroke=\"black\" points=\"1160.77,-44.392 1154.11,-36.1476 1154.17,-46.7422 1160.77,-44.392\"/>\r\n",
       "</g>\r\n",
       "<!-- 178 -->\r\n",
       "<g id=\"node25\" class=\"node\"><title>178</title>\r\n",
       "<path fill=\"#c0c0c0\" stroke=\"black\" d=\"M1235,-36C1235,-36 1205,-36 1205,-36 1199,-36 1193,-30 1193,-24 1193,-24 1193,-12 1193,-12 1193,-6 1199,-0 1205,-0 1205,-0 1235,-0 1235,-0 1241,-0 1247,-6 1247,-12 1247,-12 1247,-24 1247,-24 1247,-30 1241,-36 1235,-36\"/>\r\n",
       "<text text-anchor=\"middle\" x=\"1220\" y=\"-14.3\" font-family=\"Helvetica,sans-Serif\" font-size=\"14.00\">(...)</text>\r\n",
       "</g>\r\n",
       "<!-- 176&#45;&gt;178 -->\r\n",
       "<g id=\"edge24\" class=\"edge\"><title>176&#45;&gt;178</title>\r\n",
       "<path fill=\"none\" stroke=\"black\" d=\"M1201.16,-71.8664C1204.37,-62.8639 1207.61,-53.7609 1210.48,-45.7051\"/>\r\n",
       "<polygon fill=\"black\" stroke=\"black\" points=\"1213.83,-46.7422 1213.89,-36.1476 1207.23,-44.392 1213.83,-46.7422\"/>\r\n",
       "</g>\r\n",
       "</g>\r\n",
       "</svg>\r\n"
      ],
      "text/plain": [
       "<graphviz.files.Source at 0x1f7e4debeb8>"
      ]
     },
     "execution_count": 45,
     "metadata": {},
     "output_type": "execute_result"
    }
   ],
   "source": [
    "from sklearn.tree import export_graphviz\n",
    "import graphviz \n",
    "\n",
    "dot_data = export_graphviz(\n",
    "         tree0,\n",
    "         max_depth=3,\n",
    "         out_file=None,\n",
    "         feature_names=X_train.columns,\n",
    "         class_names=['0','1'], \n",
    "         filled=True, rounded=True,\n",
    "         proportion=True,\n",
    "         node_ids=True,\n",
    "         rotate=False,\n",
    "         label='all',\n",
    "         special_characters=True\n",
    "        )  \n",
    "graph = graphviz.Source(dot_data)  \n",
    "graph"
   ]
  },
  {
   "cell_type": "code",
   "execution_count": 46,
   "metadata": {},
   "outputs": [
    {
     "data": {
      "text/html": [
       "<div>\n",
       "<style scoped>\n",
       "    .dataframe tbody tr th:only-of-type {\n",
       "        vertical-align: middle;\n",
       "    }\n",
       "\n",
       "    .dataframe tbody tr th {\n",
       "        vertical-align: top;\n",
       "    }\n",
       "\n",
       "    .dataframe thead th {\n",
       "        text-align: right;\n",
       "    }\n",
       "</style>\n",
       "<table border=\"1\" class=\"dataframe\">\n",
       "  <thead>\n",
       "    <tr style=\"text-align: right;\">\n",
       "      <th></th>\n",
       "      <th>Pclass</th>\n",
       "      <th>Sex</th>\n",
       "      <th>Age</th>\n",
       "      <th>SibSp</th>\n",
       "      <th>Parch</th>\n",
       "      <th>Fare</th>\n",
       "    </tr>\n",
       "  </thead>\n",
       "  <tbody>\n",
       "    <tr>\n",
       "      <th>423</th>\n",
       "      <td>3</td>\n",
       "      <td>1</td>\n",
       "      <td>28.00</td>\n",
       "      <td>1</td>\n",
       "      <td>1</td>\n",
       "      <td>14.4000</td>\n",
       "    </tr>\n",
       "    <tr>\n",
       "      <th>177</th>\n",
       "      <td>1</td>\n",
       "      <td>1</td>\n",
       "      <td>50.00</td>\n",
       "      <td>0</td>\n",
       "      <td>0</td>\n",
       "      <td>28.7125</td>\n",
       "    </tr>\n",
       "    <tr>\n",
       "      <th>305</th>\n",
       "      <td>1</td>\n",
       "      <td>0</td>\n",
       "      <td>0.92</td>\n",
       "      <td>1</td>\n",
       "      <td>2</td>\n",
       "      <td>151.5500</td>\n",
       "    </tr>\n",
       "    <tr>\n",
       "      <th>292</th>\n",
       "      <td>2</td>\n",
       "      <td>0</td>\n",
       "      <td>36.00</td>\n",
       "      <td>0</td>\n",
       "      <td>0</td>\n",
       "      <td>12.8750</td>\n",
       "    </tr>\n",
       "    <tr>\n",
       "      <th>889</th>\n",
       "      <td>1</td>\n",
       "      <td>0</td>\n",
       "      <td>26.00</td>\n",
       "      <td>0</td>\n",
       "      <td>0</td>\n",
       "      <td>30.0000</td>\n",
       "    </tr>\n",
       "    <tr>\n",
       "      <th>...</th>\n",
       "      <td>...</td>\n",
       "      <td>...</td>\n",
       "      <td>...</td>\n",
       "      <td>...</td>\n",
       "      <td>...</td>\n",
       "      <td>...</td>\n",
       "    </tr>\n",
       "    <tr>\n",
       "      <th>203</th>\n",
       "      <td>3</td>\n",
       "      <td>0</td>\n",
       "      <td>45.50</td>\n",
       "      <td>0</td>\n",
       "      <td>0</td>\n",
       "      <td>7.2250</td>\n",
       "    </tr>\n",
       "    <tr>\n",
       "      <th>499</th>\n",
       "      <td>3</td>\n",
       "      <td>0</td>\n",
       "      <td>24.00</td>\n",
       "      <td>0</td>\n",
       "      <td>0</td>\n",
       "      <td>7.7958</td>\n",
       "    </tr>\n",
       "    <tr>\n",
       "      <th>628</th>\n",
       "      <td>3</td>\n",
       "      <td>0</td>\n",
       "      <td>26.00</td>\n",
       "      <td>0</td>\n",
       "      <td>0</td>\n",
       "      <td>7.8958</td>\n",
       "    </tr>\n",
       "    <tr>\n",
       "      <th>879</th>\n",
       "      <td>1</td>\n",
       "      <td>1</td>\n",
       "      <td>56.00</td>\n",
       "      <td>0</td>\n",
       "      <td>1</td>\n",
       "      <td>83.1583</td>\n",
       "    </tr>\n",
       "    <tr>\n",
       "      <th>745</th>\n",
       "      <td>1</td>\n",
       "      <td>0</td>\n",
       "      <td>70.00</td>\n",
       "      <td>1</td>\n",
       "      <td>1</td>\n",
       "      <td>71.0000</td>\n",
       "    </tr>\n",
       "  </tbody>\n",
       "</table>\n",
       "<p>215 rows × 6 columns</p>\n",
       "</div>"
      ],
      "text/plain": [
       "     Pclass  Sex    Age  SibSp  Parch      Fare\n",
       "423       3    1  28.00      1      1   14.4000\n",
       "177       1    1  50.00      0      0   28.7125\n",
       "305       1    0   0.92      1      2  151.5500\n",
       "292       2    0  36.00      0      0   12.8750\n",
       "889       1    0  26.00      0      0   30.0000\n",
       "..      ...  ...    ...    ...    ...       ...\n",
       "203       3    0  45.50      0      0    7.2250\n",
       "499       3    0  24.00      0      0    7.7958\n",
       "628       3    0  26.00      0      0    7.8958\n",
       "879       1    1  56.00      0      1   83.1583\n",
       "745       1    0  70.00      1      1   71.0000\n",
       "\n",
       "[215 rows x 6 columns]"
      ]
     },
     "execution_count": 46,
     "metadata": {},
     "output_type": "execute_result"
    }
   ],
   "source": [
    "X_test"
   ]
  },
  {
   "cell_type": "code",
   "execution_count": null,
   "metadata": {},
   "outputs": [],
   "source": [
    "df_treino[\"Pclass\"].unique()"
   ]
  },
  {
   "cell_type": "code",
   "execution_count": 47,
   "metadata": {},
   "outputs": [],
   "source": [
    "teste = np.array([[2,1,28,0,0,7.2250]])"
   ]
  },
  {
   "cell_type": "code",
   "execution_count": 48,
   "metadata": {},
   "outputs": [
    {
     "data": {
      "text/plain": [
       "array([[ 2.   ,  1.   , 28.   ,  0.   ,  0.   ,  7.225]])"
      ]
     },
     "execution_count": 48,
     "metadata": {},
     "output_type": "execute_result"
    }
   ],
   "source": [
    "teste"
   ]
  },
  {
   "cell_type": "code",
   "execution_count": 49,
   "metadata": {},
   "outputs": [],
   "source": [
    "resultado1 = random_clf.predict(teste)"
   ]
  },
  {
   "cell_type": "code",
   "execution_count": 50,
   "metadata": {},
   "outputs": [
    {
     "data": {
      "text/plain": [
       "array([1], dtype=int64)"
      ]
     },
     "execution_count": 50,
     "metadata": {},
     "output_type": "execute_result"
    }
   ],
   "source": [
    "resultado1"
   ]
  },
  {
   "cell_type": "code",
   "execution_count": null,
   "metadata": {},
   "outputs": [],
   "source": []
  }
 ],
 "metadata": {
  "kernelspec": {
   "display_name": "Python 3",
   "language": "python",
   "name": "python3"
  },
  "language_info": {
   "codemirror_mode": {
    "name": "ipython",
    "version": 3
   },
   "file_extension": ".py",
   "mimetype": "text/x-python",
   "name": "python",
   "nbconvert_exporter": "python",
   "pygments_lexer": "ipython3",
   "version": "3.7.3"
  }
 },
 "nbformat": 4,
 "nbformat_minor": 2
}
